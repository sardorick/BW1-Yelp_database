{
 "cells": [
  {
   "cell_type": "code",
   "execution_count": 1,
   "metadata": {},
   "outputs": [],
   "source": [
    "import pandas as pd\n",
    "from bs4  import BeautifulSoup\n",
    "import numpy as np\n",
    "import plotly.express as px\n",
    "import seaborn as sns\n"
   ]
  },
  {
   "cell_type": "markdown",
   "metadata": {},
   "source": [
    "# Restaurants"
   ]
  },
  {
   "cell_type": "code",
   "execution_count": 46,
   "metadata": {},
   "outputs": [],
   "source": [
    "resto_soup = pd.read_csv('restaurant_soup').drop(columns='Unnamed: 0').squeeze()\n",
    "resto_soup2 = pd.read_csv('restaurant_soup2.csv').drop(columns='Unnamed: 0').squeeze()"
   ]
  },
  {
   "cell_type": "code",
   "execution_count": 47,
   "metadata": {},
   "outputs": [
    {
     "data": {
      "text/plain": [
       "Index(['Cerveseria Catalana', 'My Fucking Restaurant', 'Ciutat Comtal',\n",
       "       'Tapeo', 'Arume', 'Taquerías Tamarindo', 'Vinitus', 'Somorrostro',\n",
       "       'Cañete', 'Firebug',\n",
       "       ...\n",
       "       'Chez Cocó', 'Portolés', 'Bo de Gracia', 'Margherita', 'Bar Nolla',\n",
       "       'Casa Dorita', 'Palmito Beach Bar', 'Takumi Sapporo Ramen Kitchen',\n",
       "       'Bosque Palermo', 'Son Hao'],\n",
       "      dtype='object', length=207)"
      ]
     },
     "execution_count": 47,
     "metadata": {},
     "output_type": "execute_result"
    }
   ],
   "source": [
    "resto_soup2.index"
   ]
  },
  {
   "cell_type": "code",
   "execution_count": 48,
   "metadata": {},
   "outputs": [
    {
     "data": {
      "text/plain": [
       "Index(['0', '10', '20', '30', '40', '50', '60', '70', '80', '90', '100', '110',\n",
       "       '120', '130', '140', '150', '160', '170', '180', '190', '200', '210',\n",
       "       '220', '230'],\n",
       "      dtype='object')"
      ]
     },
     "execution_count": 48,
     "metadata": {},
     "output_type": "execute_result"
    }
   ],
   "source": [
    "resto_soup.index\n"
   ]
  },
  {
   "cell_type": "markdown",
   "metadata": {},
   "source": [
    "#### Name"
   ]
  },
  {
   "cell_type": "code",
   "execution_count": 73,
   "metadata": {},
   "outputs": [],
   "source": [
    "# restaurant name\n",
    "name = []\n",
    "for row in resto_soup:  # row contain 10 restaurants\n",
    "    soup = BeautifulSoup(row, 'html.parser')\n",
    "    result = soup.select('.css-1egxyvc .css-1m051bw')\n",
    "    for tag in result:\n",
    "        # print(tag.text)\n",
    "        name.append(tag.text)"
   ]
  },
  {
   "cell_type": "code",
   "execution_count": 74,
   "metadata": {},
   "outputs": [
    {
     "data": {
      "text/plain": [
       "La Paradeta             5\n",
       "Estimar                 2\n",
       "Macchina                2\n",
       "Cremat 11               2\n",
       "Solomillo               2\n",
       "                       ..\n",
       "Zarautz                 1\n",
       "Elisabets               1\n",
       "La Cuina de Laietana    1\n",
       "Somorrostro             1\n",
       "Abirradero              1\n",
       "Length: 207, dtype: int64"
      ]
     },
     "execution_count": 74,
     "metadata": {},
     "output_type": "execute_result"
    }
   ],
   "source": [
    "# It's like there are duplicates\n",
    "pd.Series(name).value_counts()"
   ]
  },
  {
   "cell_type": "markdown",
   "metadata": {},
   "source": [
    "#### Price range"
   ]
  },
  {
   "cell_type": "code",
   "execution_count": 51,
   "metadata": {},
   "outputs": [],
   "source": [
    "price_range = []\n",
    "container_class = 'container__09f24__mpR8_ hoverable__09f24__wQ_on margin-t3__09f24__riq4X margin-b3__09f24__l9v5d padding-t3__09f24__TMrIW padding-r3__09f24__eaF7p padding-b3__09f24__S8R2d padding-l3__09f24__IOjKY border--top__09f24__exYYb border--right__09f24__X7Tln border--bottom__09f24___mg5X border--left__09f24__DMOkM border-color--default__09f24__NPAKY'\n",
    "for row in resto_soup:\n",
    "    soup = BeautifulSoup(row, 'html.parser')\n",
    "    result = soup.find_all(class_ = container_class)\n",
    "    for tag in result:\n",
    "        header_text = tag.div.div.div.nextSibling.div\n",
    "        price = header_text.select_one('.css-1s7bx9e')\n",
    "        if price is not None:\n",
    "            price_range.append(price.text)\n",
    "        else:\n",
    "            price_range.append(np.nan)\n"
   ]
  },
  {
   "cell_type": "markdown",
   "metadata": {},
   "source": [
    "#### Rating"
   ]
  },
  {
   "cell_type": "code",
   "execution_count": 53,
   "metadata": {},
   "outputs": [],
   "source": [
    "rating = []\n",
    "container_class = 'container__09f24__mpR8_ hoverable__09f24__wQ_on margin-t3__09f24__riq4X margin-b3__09f24__l9v5d padding-t3__09f24__TMrIW padding-r3__09f24__eaF7p padding-b3__09f24__S8R2d padding-l3__09f24__IOjKY border--top__09f24__exYYb border--right__09f24__X7Tln border--bottom__09f24___mg5X border--left__09f24__DMOkM border-color--default__09f24__NPAKY'\n",
    "for row in resto_soup:\n",
    "    soup = BeautifulSoup(row, 'html.parser')\n",
    "    result = soup.find_all(class_ = container_class)\n",
    "    for tag in result:\n",
    "        header_text = tag.div.div.div.nextSibling.div\n",
    "        rat = header_text.select_one('.overflow--hidden__09f24___ayzG')\n",
    "        \n",
    "        if rat is not None:\n",
    "            rating.append(rat['aria-label'].split()[0])\n",
    "\n",
    "            # print(rat['aria-label'])\n",
    "\n",
    "        else:\n",
    "            rating.append(np.nan)\n",
    "        "
   ]
  },
  {
   "cell_type": "code",
   "execution_count": 54,
   "metadata": {},
   "outputs": [
    {
     "name": "stdout",
     "output_type": "stream",
     "text": [
      "Cerveseria Catalana 4.5\n",
      "My Fucking Restaurant 4.5\n",
      "Ciutat Comtal 4\n",
      "Tapeo 4.5\n",
      "Arume 4.5\n",
      "Taquerías Tamarindo 4.5\n",
      "Vinitus 4.5\n",
      "Somorrostro 4.5\n",
      "Cañete 4.5\n",
      "Firebug 4.5\n",
      "El Nacional 4\n",
      "Firebug 4.5\n",
      "Tucco Real Food Born 4.5\n",
      "Disfrutar 5\n",
      "Tosca 4.5\n",
      "Brunch & Cake 4\n",
      "Can Paixano 4.5\n",
      "El Pintxo de Petritxol 4.5\n",
      "Boa-Bao 4.5\n",
      "El Asador de Aranda 4.5\n",
      "El Asador de Aranda 4.5\n",
      "Restaurant La Tasqueta de Blai 4.5\n",
      "Telefèric 4\n",
      "Arcano 4.5\n",
      "Tickets 4.5\n",
      "El Jardín del Edén 4.5\n",
      "Cera 23 4.5\n",
      "A Tu Bola 4.5\n",
      "Guell 4.5\n",
      "Bar Mut 4.5\n",
      "Buenos Aires 4.5\n",
      "Le Romane 5\n",
      "La Pepita 4.5\n",
      "Bar Mut 4.5\n",
      "Cachitos 4\n",
      "2254 4.5\n",
      "Federal 4.5\n",
      "A Tu Bola 4.5\n",
      "Lizarran 4\n",
      "Momo 4.5\n",
      "Paradiso 4.5\n",
      "Sensi 4.5\n",
      "Alsur Café 4\n",
      "2254 4.5\n",
      "Maitea 4.5\n",
      "Federal 4.5\n",
      "Betlem 4.5\n",
      "Llamber 4.5\n",
      "Micu Maku 4.5\n",
      "O’Toxo 3 Hermanos 4.5\n",
      "Bilbao Berria 4\n",
      "La Cuina de Laietana 4.5\n",
      "Macchina 4.5\n",
      "Bo de Boqueria 5\n",
      "Caravelle 4.5\n",
      "La Bodegueta 4\n",
      "Raó 4.5\n",
      "Terrace la Isabela 4.5\n",
      "El Vaso de Oro 4.5\n",
      "9 Nine 5\n",
      "Paco Alcalde 4.5\n",
      "Xian 4.5\n",
      "Casa Alfonso 4\n",
      "La Caravana 5\n",
      "Mosquito 4\n",
      "Nubar 4.5\n",
      "Quimet & Quimet 4.5\n",
      "La Bombeta 4.5\n",
      "Billy Brunch 5\n",
      "Citizen Café 4.5\n",
      "Pinotxo Bar 4.5\n",
      "Gata Mala 5\n",
      "Elsa y Fred 4.5\n",
      "Flax & Kale 4\n",
      "La Tagliatella 4\n",
      "Milk Bar & Bistro 4.5\n",
      "Eat My Trip 4.5\n",
      "Chongqing Liuyishou Hotpot 4.5\n",
      "Benzina 4.5\n",
      "El Arbol Brunch 4.5\n",
      "Las Sorrentinas 4.5\n",
      "Eat My Trip 4.5\n",
      "Luigi 4.5\n",
      "Billy Brunch 5\n",
      "Chen Ji 4\n",
      "El Quim de la Boqueria 4.5\n",
      "Rosa Negra 4\n",
      "La Paradeta 4.5\n",
      "Babula 5\n",
      "La Paradeta 4.5\n",
      "Batuar 4.5\n",
      "La Alcoba Azul 4.5\n",
      "Doña Rosa 4.5\n",
      "Lasarte 4.5\n",
      "Paella Bar 4\n",
      "La Lluna 4.5\n",
      "La Paradeta 4.5\n",
      "Tantarantana 4.5\n",
      "Pepito 4.5\n",
      "Tandoori Nights 4.5\n",
      "Eden 4.5\n",
      "Doña Rosa 4.5\n",
      "Botafumeiro 4\n",
      "L’Amfora Barcelona 4.5\n",
      "Los Pergaminos 4.5\n",
      "La Pineda 4.5\n",
      "Restaurante Bodega Joan 4\n",
      "Els Pollos de Llull 4.5\n",
      "Bella Italia 4.5\n",
      "El Boliche del Gordo Cabrera 4\n",
      "La Fermata 4.5\n",
      "El Xampanyet 4.5\n",
      "La Paradeta 4.5\n",
      "Salterio 4.5\n",
      "Cremat 11 5\n",
      "Cecconi’s 4.5\n",
      "Rosat’s 4.5\n",
      "Eden 4.5\n",
      "Pirineu en Boca 4.5\n",
      "Gaudim 4.5\n",
      "El Xampanyet 4.5\n",
      "Le Cucine Mandarosso 4.5\n",
      "Bella Istanbul 5\n",
      "Abirradero 4.5\n",
      "Paella Bar 4\n",
      "Cremat 11 5\n",
      "Pirineu en Boca 4.5\n",
      "Salterio 4.5\n",
      "Bodega La Puntual 4.5\n",
      "The Ranch Smokehouse 4\n",
      "Alsur Café & Backdoor Bar 5\n",
      "La Paradeta 4.5\n",
      "Lluritu 5\n",
      "Bonavida 4.5\n",
      "Morryssom 4\n",
      "La Esquina 4.5\n",
      "Sagardi BCN Gòtic 4\n",
      "Mastica 5\n",
      "Bar Rubí 4.5\n",
      "Foc i Oli 5\n",
      "Bell e Buon 5\n",
      "La Plata 4.5\n",
      "Roast Club Cafe 5\n",
      "Brasayleña 5\n",
      "Somewhere 4.5\n",
      "Can Ros 4.5\n",
      "The Fish & Chips Shop 4.5\n",
      "Tabarlot 4.5\n",
      "Bar But 4.5\n",
      "Bacaro 4.5\n",
      "Zarautz 4.5\n",
      "Sol Soler 4\n",
      "Amarre 69 4.5\n",
      "Uma 5\n",
      "Brunch & Cake 4.5\n",
      "TAPS 5\n",
      "Bodega La Palma 4.5\n",
      "El Brunch del Majestic 4\n",
      "Rosat’s 4.5\n",
      "Viet Kitchen 4.5\n",
      "Hänsel 4.5\n",
      "Maestró 4\n",
      "210 Grammi 5\n",
      "Pulpería A Gudiña 4\n",
      "Miño 4\n",
      "Café Emma 4\n",
      "Marina Bay 4\n",
      "El Chigre 1769 4.5\n",
      "Macchina 4.5\n",
      "Taverna Iberia 4.5\n",
      "Maccaroni 4.5\n",
      "Pizzeria Da Nanni 5\n",
      "Informal 5\n",
      "El Bitxo 4.5\n",
      "Cinco Jotas 4\n",
      "Ribs 4.5\n",
      "Agust 4.5\n",
      "La Taverna de L’Eixample 4\n",
      "9 Reinas 4.5\n",
      "Sintonia 4.5\n",
      "Honest Greens 5\n",
      "Estimar 4.5\n",
      "CDLC 4\n",
      "173 5\n",
      "Mazah 4\n",
      "Viena 4.5\n",
      "Angle 4.5\n",
      "La Cova Fumada 4.5\n",
      "Solomillo 4.5\n",
      "Obe Restaurant 5\n",
      "Thai Zaap 5\n",
      "Els Sortidors del Parlament 4.5\n",
      "Red Ant 4\n",
      "Alaire 4.5\n",
      "Season Tapas Restaurante 5\n",
      "Kamasot 4.5\n",
      "Modu Korean Bowl 4.5\n",
      "Lonja de Tapas 4\n",
      "PORK… boig per tu 4.5\n",
      "Norte 4\n",
      "Honest Greens 5\n",
      "Taco Alto 4.5\n",
      "Els Sortidors del Parlament 4.5\n",
      "Equilibrium Cafè 4.5\n",
      "Marina Bay 4\n",
      "Norte 4\n",
      "Bar Ramón 4.5\n",
      "Ugot Bruncherie 4.5\n",
      "CruiX 5\n",
      "Obe Restaurant 5\n",
      "Petit Bangkok 4.5\n",
      "Kamasot 4.5\n",
      "Palosanto 4.5\n",
      "Solomillo 4.5\n",
      "Modu Korean Bowl 4.5\n",
      "Bar del Pla 4\n",
      "Elisabets 4\n",
      "Maná 75 4.5\n",
      "Viena 4.5\n",
      "La Cuina d’ en Garriga 4\n",
      "La Hacienda 5\n",
      "Hummus 4.5\n",
      "Slow & Low 4\n",
      "El Pachuco 4.5\n",
      "El Venezia 4\n",
      "El Rincón del Artista 4\n",
      "Chalito 4\n",
      "Pau Claris 190 4.5\n",
      "Estimar 4.5\n",
      "Chez Cocó 4.5\n",
      "Portolés 4.5\n",
      "Bo de Gracia 4\n",
      "Margherita 4\n",
      "Bar Nolla 4\n",
      "Casa Dorita 4.5\n",
      "Palmito Beach Bar 4.5\n",
      "La Cova Fumada 4.5\n",
      "Takumi Sapporo Ramen Kitchen 4.5\n",
      "Bosque Palermo 4\n",
      "Son Hao 4.5\n"
     ]
    }
   ],
   "source": [
    "# # test\n",
    "# for n, rat in zip(name, rating):\n",
    "#     print(n, rat) "
   ]
  },
  {
   "cell_type": "markdown",
   "metadata": {},
   "source": [
    "#### Reviews"
   ]
  },
  {
   "cell_type": "code",
   "execution_count": 55,
   "metadata": {},
   "outputs": [
    {
     "name": "stdout",
     "output_type": "stream",
     "text": [
      "Cerveseria Catalana 1279\n",
      "My Fucking Restaurant 89\n",
      "Ciutat Comtal 1120\n",
      "Tapeo 451\n",
      "Arume 633\n",
      "Taquerías Tamarindo 208\n",
      "Vinitus 304\n",
      "Somorrostro 368\n",
      "Cañete 392\n",
      "Firebug 125\n",
      "El Nacional 330\n",
      "Firebug 125\n",
      "Tucco Real Food Born 618\n",
      "Disfrutar 110\n",
      "Tosca 240\n",
      "Brunch & Cake 852\n",
      "Can Paixano 378\n",
      "El Pintxo de Petritxol 109\n",
      "Boa-Bao 6\n",
      "El Asador de Aranda 28\n",
      "El Asador de Aranda 28\n",
      "Restaurant La Tasqueta de Blai 230\n",
      "Telefèric 178\n",
      "Arcano 292\n",
      "Tickets 195\n",
      "El Jardín del Edén 16\n",
      "Cera 23 555\n",
      "A Tu Bola 79\n",
      "Guell 64\n",
      "Bar Mut 149\n",
      "Buenos Aires 55\n",
      "Le Romane 12\n",
      "La Pepita 514\n",
      "Bar Mut 149\n",
      "Cachitos 98\n",
      "2254 62\n",
      "Federal 55\n",
      "A Tu Bola 79\n",
      "Lizarran 52\n",
      "Momo 23\n",
      "Paradiso 105\n",
      "Sensi 377\n",
      "Alsur Café 325\n",
      "2254 62\n",
      "Maitea 128\n",
      "Federal 55\n",
      "Betlem 61\n",
      "Llamber 133\n",
      "Micu Maku 13\n",
      "O’Toxo 3 Hermanos 92\n",
      "Bilbao Berria 152\n",
      "La Cuina de Laietana 23\n",
      "Macchina 32\n",
      "Bo de Boqueria 15\n",
      "Caravelle 223\n",
      "La Bodegueta 36\n",
      "Raó 32\n",
      "Terrace la Isabela 2\n",
      "El Vaso de Oro 178\n",
      "9 Nine 45\n",
      "Paco Alcalde 41\n",
      "Xian 11\n",
      "Casa Alfonso 108\n",
      "La Caravana 15\n",
      "Mosquito 144\n",
      "Nubar 4\n",
      "Quimet & Quimet 454\n",
      "La Bombeta 84\n",
      "Billy Brunch 42\n",
      "Citizen Café 53\n",
      "Pinotxo Bar 218\n",
      "Gata Mala 140\n",
      "Elsa y Fred 149\n",
      "Flax & Kale 265\n",
      "La Tagliatella 72\n",
      "Milk Bar & Bistro 431\n",
      "Eat My Trip 73\n",
      "Chongqing Liuyishou Hotpot 5\n",
      "Benzina 13\n",
      "El Arbol Brunch 39\n",
      "Las Sorrentinas 44\n",
      "Eat My Trip 73\n",
      "Luigi 43\n",
      "Billy Brunch 42\n",
      "Chen Ji 98\n",
      "El Quim de la Boqueria 253\n",
      "Rosa Negra 230\n",
      "La Paradeta 44\n",
      "Babula 2\n",
      "La Paradeta 155\n",
      "Batuar 8\n",
      "La Alcoba Azul 132\n",
      "Doña Rosa 2\n",
      "Lasarte 67\n",
      "Paella Bar 44\n",
      "La Lluna 28\n",
      "La Paradeta 44\n",
      "Tantarantana 63\n",
      "Pepito 27\n",
      "Tandoori Nights 48\n",
      "Eden 118\n",
      "Doña Rosa 2\n",
      "Botafumeiro 169\n",
      "L’Amfora Barcelona 30\n",
      "Los Pergaminos 84\n",
      "La Pineda 24\n",
      "Restaurante Bodega Joan 35\n",
      "Els Pollos de Llull 21\n",
      "Bella Italia 9\n",
      "El Boliche del Gordo Cabrera 18\n",
      "La Fermata 56\n",
      "El Xampanyet 279\n",
      "La Paradeta 155\n",
      "Salterio 66\n",
      "Cremat 11 15\n",
      "Cecconi’s 26\n",
      "Rosat’s 2\n",
      "Eden 118\n",
      "Pirineu en Boca 14\n",
      "Gaudim 53\n",
      "El Xampanyet 279\n",
      "Le Cucine Mandarosso 73\n",
      "Bella Istanbul 2\n",
      "Abirradero 27\n",
      "Paella Bar 44\n",
      "Cremat 11 15\n",
      "Pirineu en Boca 14\n",
      "Salterio 66\n",
      "Bodega La Puntual 57\n",
      "The Ranch Smokehouse 9\n",
      "Alsur Café & Backdoor Bar 20\n",
      "La Paradeta 206\n",
      "Lluritu 5\n",
      "Bonavida 10\n",
      "Morryssom 54\n",
      "La Esquina 31\n",
      "Sagardi BCN Gòtic 125\n",
      "Mastica 6\n",
      "Bar Rubí 38\n",
      "Foc i Oli 91\n",
      "Bell e Buon 30\n",
      "La Plata 126\n",
      "Roast Club Cafe 16\n",
      "Brasayleña 2\n",
      "Somewhere 28\n",
      "Can Ros 10\n",
      "The Fish & Chips Shop 44\n",
      "Tabarlot 44\n",
      "Bar But 11\n",
      "Bacaro 19\n",
      "Zarautz 122\n",
      "Sol Soler 56\n",
      "Amarre 69 14\n",
      "Uma 16\n",
      "Brunch & Cake 54\n",
      "TAPS 31\n",
      "Bodega La Palma 37\n",
      "El Brunch del Majestic 1\n",
      "Rosat’s 2\n",
      "Viet Kitchen 5\n",
      "Hänsel 73\n",
      "Maestró 33\n",
      "210 Grammi 2\n",
      "Pulpería A Gudiña 46\n",
      "Miño 194\n",
      "Café Emma 30\n",
      "Marina Bay 35\n",
      "El Chigre 1769 25\n",
      "Macchina 82\n",
      "Taverna Iberia 20\n",
      "Maccaroni 57\n",
      "Pizzeria Da Nanni 22\n",
      "Informal 27\n",
      "El Bitxo 44\n",
      "Cinco Jotas 15\n",
      "Ribs 3\n",
      "Agust 44\n",
      "La Taverna de L’Eixample 12\n",
      "9 Reinas 53\n",
      "Sintonia 2\n",
      "Honest Greens 22\n",
      "Estimar 19\n",
      "CDLC 87\n",
      "173 4\n",
      "Mazah 10\n",
      "Viena 72\n",
      "Angle 15\n",
      "La Cova Fumada 118\n",
      "Solomillo 10\n",
      "Obe Restaurant 35\n",
      "Thai Zaap 7\n",
      "Els Sortidors del Parlament 18\n",
      "Red Ant 66\n",
      "Alaire 6\n",
      "Season Tapas Restaurante 5\n",
      "Kamasot 9\n",
      "Modu Korean Bowl 7\n",
      "Lonja de Tapas 23\n",
      "PORK… boig per tu 34\n",
      "Norte 9\n",
      "Honest Greens 22\n",
      "Taco Alto 50\n",
      "Els Sortidors del Parlament 18\n",
      "Equilibrium Cafè 10\n",
      "Marina Bay 35\n",
      "Norte 9\n",
      "Bar Ramón 44\n",
      "Ugot Bruncherie 84\n",
      "CruiX 11\n",
      "Obe Restaurant 35\n",
      "Petit Bangkok 7\n",
      "Kamasot 9\n",
      "Palosanto 25\n",
      "Solomillo 10\n",
      "Modu Korean Bowl 7\n",
      "Bar del Pla 133\n",
      "Elisabets 75\n",
      "Maná 75 3\n",
      "Viena 72\n",
      "La Cuina d’ en Garriga 23\n",
      "La Hacienda 17\n",
      "Hummus 30\n",
      "Slow & Low 5\n",
      "El Pachuco 128\n",
      "El Venezia 9\n",
      "El Rincón del Artista 23\n",
      "Chalito 12\n",
      "Pau Claris 190 34\n",
      "Estimar 19\n",
      "Chez Cocó 23\n",
      "Portolés 12\n",
      "Bo de Gracia 12\n",
      "Margherita 89\n",
      "Bar Nolla 35\n",
      "Casa Dorita 16\n",
      "Palmito Beach Bar 5\n",
      "La Cova Fumada 118\n",
      "Takumi Sapporo Ramen Kitchen 3\n",
      "Bosque Palermo 193\n",
      "Son Hao 8\n"
     ]
    }
   ],
   "source": [
    "reviews = []\n",
    "container_class = 'container__09f24__mpR8_ hoverable__09f24__wQ_on margin-t3__09f24__riq4X margin-b3__09f24__l9v5d padding-t3__09f24__TMrIW padding-r3__09f24__eaF7p padding-b3__09f24__S8R2d padding-l3__09f24__IOjKY border--top__09f24__exYYb border--right__09f24__X7Tln border--bottom__09f24___mg5X border--left__09f24__DMOkM border-color--default__09f24__NPAKY'\n",
    "for row in resto_soup:\n",
    "    soup = BeautifulSoup(row, 'html.parser')\n",
    "    result = soup.find_all(class_ = container_class)\n",
    "    for tag in result:\n",
    "        header_text = tag.div.div.div.nextSibling.div\n",
    "        rev = header_text.select_one('.reviewCount__09f24__tnBk4')\n",
    "        \n",
    "        if rev is not None:\n",
    "            \n",
    "            reviews.append(rev.text)\n",
    "\n",
    "\n",
    "        else:\n",
    "            reviews.append(np.nan)\n",
    "        \n",
    "#test\n",
    "for n, rev in zip(name, reviews):\n",
    "    print(n, rev) "
   ]
  },
  {
   "cell_type": "markdown",
   "metadata": {},
   "source": [
    "#### Location"
   ]
  },
  {
   "cell_type": "code",
   "execution_count": 56,
   "metadata": {},
   "outputs": [
    {
     "data": {
      "text/plain": [
       "(207,)"
      ]
     },
     "execution_count": 56,
     "metadata": {},
     "output_type": "execute_result"
    }
   ],
   "source": [
    "resto_soup2.shape"
   ]
  },
  {
   "cell_type": "code",
   "execution_count": 57,
   "metadata": {},
   "outputs": [],
   "source": [
    "\n",
    "location = [] \n",
    "for row in resto_soup2:\n",
    "    soup = BeautifulSoup(row, 'html.parser')\n",
    "    result = soup.select('address .raw__09f24__T4Ezm')\n",
    "    adress_elements = []\n",
    "    for tag in result:\n",
    "        adress_elements.append(tag.text)\n",
    "    location.append( '::'.join(adress_elements) )\n"
   ]
  },
  {
   "cell_type": "code",
   "execution_count": 58,
   "metadata": {},
   "outputs": [],
   "source": [
    "location_resto_df = pd.DataFrame({'name': resto_soup2.index, 'location': location})"
   ]
  },
  {
   "cell_type": "code",
   "execution_count": 59,
   "metadata": {},
   "outputs": [
    {
     "data": {
      "text/plain": [
       "3    192\n",
       "1     10\n",
       "4      4\n",
       "5      1\n",
       "Name: location, dtype: int64"
      ]
     },
     "execution_count": 59,
     "metadata": {},
     "output_type": "execute_result"
    }
   ],
   "source": [
    "location_resto_df.location.str.split('::').apply(lambda x: len(x)).value_counts()"
   ]
  },
  {
   "cell_type": "code",
   "execution_count": 60,
   "metadata": {},
   "outputs": [],
   "source": [
    "location_resto_df['street'] = location_resto_df.location.str.split('::').apply(lambda x: x[0])\n",
    "location_resto_df['postal_code'] = location_resto_df.location.str.split('::').apply(lambda x: x[1] if len(x) == 3 else np.nan)"
   ]
  },
  {
   "cell_type": "markdown",
   "metadata": {},
   "source": [
    "#### Website"
   ]
  },
  {
   "cell_type": "code",
   "execution_count": 62,
   "metadata": {},
   "outputs": [],
   "source": [
    "website = []\n",
    "for row in resto_soup2:\n",
    "    soup = BeautifulSoup(row, 'html.parser')\n",
    "    result = soup.select_one('.css-na3oda+ .css-1p9ibgf .css-1um3nx')\n",
    "    # for tag in result:\n",
    "    if result is not None:\n",
    "        website.append( result.text ) \n",
    "\n",
    "    else:\n",
    "        website.append(np.nan)\n"
   ]
  },
  {
   "cell_type": "code",
   "execution_count": null,
   "metadata": {},
   "outputs": [],
   "source": [
    "website"
   ]
  },
  {
   "cell_type": "markdown",
   "metadata": {},
   "source": [
    "#### Number of photos"
   ]
  },
  {
   "cell_type": "code",
   "execution_count": 61,
   "metadata": {},
   "outputs": [],
   "source": [
    "\n",
    "nb_photos = []\n",
    "photo_header_class = 'photo-header-content-container__09f24__jDLBB border-color--default__09f24__NPAKY'\n",
    "for row in resto_soup2:\n",
    "    soup = BeautifulSoup(row, 'html.parser')\n",
    "    photo_header = soup.find(class_ = photo_header_class)\n",
    "    if photo_header is not None:\n",
    "\n",
    "        nb_photos.append(  pd.Series(photo_header.text).str.extract(r'See (\\d+) photos').squeeze()  )\n",
    "        # print('-'*100)\n",
    "\n",
    "    else:\n",
    "        nb_photos.append(np.nan)\n",
    "    "
   ]
  },
  {
   "cell_type": "code",
   "execution_count": 75,
   "metadata": {},
   "outputs": [],
   "source": [
    "photo_resto_df = pd.DataFrame({'name': resto_soup2.index, 'nb_photos': nb_photos})\n",
    "# df numbers of pho\n",
    "# for name, photo in zip(resto_soup2.index, nb_photos):\n",
    "#     print(name, photo)"
   ]
  },
  {
   "cell_type": "code",
   "execution_count": null,
   "metadata": {},
   "outputs": [],
   "source": []
  },
  {
   "cell_type": "markdown",
   "metadata": {},
   "source": [
    "#### Opening hours"
   ]
  },
  {
   "cell_type": "code",
   "execution_count": null,
   "metadata": {},
   "outputs": [],
   "source": [
    "opening_hours = {'name':list(), 'day':list(), 'opening':list(), 'closing':list()}\n",
    "for row, name in zip(resto_soup2, resto_soup2.index):\n",
    "    soup = BeautifulSoup(row, 'html.parser')\n",
    "    days = []\n",
    "    days_container = soup.select('.day-of-the-week__09f24__JJea_')\n",
    "    time_container = soup.select('.no-wrap__09f24__c3plq.css-1p9ibgf')\n",
    "    for day, time in zip(days_container, time_container):\n",
    "\n",
    "        opening_hours['name'].append(name)\n",
    "        opening_hours['day'].append(day.text)\n",
    "        opening_hours['opening'].append(   pd.Series(time.text).str.extract(r'(\\d+:\\d+ \\w+) - \\d+:\\d+ \\w+').squeeze()   )\n",
    "        opening_hours['closing'].append( pd.Series(time.text).str.extract(r'\\d+:\\d+ \\w+ - (\\d+:\\d+ \\w+)').squeeze() )"
   ]
  },
  {
   "cell_type": "code",
   "execution_count": null,
   "metadata": {},
   "outputs": [],
   "source": [
    "# Some restaurants open twice a day...it was hard to get the second time\n",
    "# Things to based analysis (numbers of openings hours day on average, do they open on the weekend.)\n",
    "opening_hours_df = pd.DataFrame(opening_hours)\n",
    "\n",
    "for i in range(len(opening_hours_df)):\n",
    "    print( list(opening_hours_df.iloc[i, :]) ) \n",
    "\n"
   ]
  },
  {
   "cell_type": "markdown",
   "metadata": {},
   "source": [
    "#### Amenities"
   ]
  },
  {
   "cell_type": "markdown",
   "metadata": {},
   "source": [
    "#### Restaurant dataset"
   ]
  },
  {
   "cell_type": "code",
   "execution_count": 76,
   "metadata": {},
   "outputs": [],
   "source": [
    "resto_df = pd.DataFrame({'name':name, 'rating':rating, 'reviews': reviews, 'price_range': price_range})"
   ]
  },
  {
   "cell_type": "code",
   "execution_count": 77,
   "metadata": {},
   "outputs": [],
   "source": [
    "resto_df = pd.merge(resto_df, location_resto_df, 'left')"
   ]
  },
  {
   "cell_type": "code",
   "execution_count": 78,
   "metadata": {},
   "outputs": [],
   "source": [
    "resto_df =  pd.merge(resto_df, photo_resto_df, 'left')"
   ]
  },
  {
   "cell_type": "code",
   "execution_count": 79,
   "metadata": {},
   "outputs": [
    {
     "name": "stdout",
     "output_type": "stream",
     "text": [
      "<class 'pandas.core.frame.DataFrame'>\n",
      "Int64Index: 240 entries, 0 to 239\n",
      "Data columns (total 8 columns):\n",
      " #   Column       Non-Null Count  Dtype \n",
      "---  ------       --------------  ----- \n",
      " 0   name         240 non-null    object\n",
      " 1   rating       240 non-null    object\n",
      " 2   reviews      240 non-null    object\n",
      " 3   price_range  200 non-null    object\n",
      " 4   location     240 non-null    object\n",
      " 5   street       240 non-null    object\n",
      " 6   postal_code  222 non-null    object\n",
      " 7   nb_photos    228 non-null    object\n",
      "dtypes: object(8)\n",
      "memory usage: 16.9+ KB\n"
     ]
    }
   ],
   "source": [
    "resto_df.info()"
   ]
  },
  {
   "cell_type": "code",
   "execution_count": 80,
   "metadata": {},
   "outputs": [
    {
     "data": {
      "text/plain": [
       "price_range    40\n",
       "postal_code    18\n",
       "nb_photos      12\n",
       "street          0\n",
       "location        0\n",
       "reviews         0\n",
       "rating          0\n",
       "name            0\n",
       "dtype: int64"
      ]
     },
     "execution_count": 80,
     "metadata": {},
     "output_type": "execute_result"
    }
   ],
   "source": [
    "# Missing values \n",
    "resto_df.isnull().sum().sort_values(ascending=False)"
   ]
  },
  {
   "cell_type": "code",
   "execution_count": 81,
   "metadata": {},
   "outputs": [
    {
     "data": {
      "text/html": [
       "<div>\n",
       "<style scoped>\n",
       "    .dataframe tbody tr th:only-of-type {\n",
       "        vertical-align: middle;\n",
       "    }\n",
       "\n",
       "    .dataframe tbody tr th {\n",
       "        vertical-align: top;\n",
       "    }\n",
       "\n",
       "    .dataframe thead th {\n",
       "        text-align: right;\n",
       "    }\n",
       "</style>\n",
       "<table border=\"1\" class=\"dataframe\">\n",
       "  <thead>\n",
       "    <tr style=\"text-align: right;\">\n",
       "      <th></th>\n",
       "      <th>name</th>\n",
       "      <th>rating</th>\n",
       "      <th>reviews</th>\n",
       "      <th>price_range</th>\n",
       "      <th>location</th>\n",
       "      <th>street</th>\n",
       "      <th>postal_code</th>\n",
       "      <th>nb_photos</th>\n",
       "    </tr>\n",
       "  </thead>\n",
       "  <tbody>\n",
       "    <tr>\n",
       "      <th>11</th>\n",
       "      <td>Firebug</td>\n",
       "      <td>4.5</td>\n",
       "      <td>125</td>\n",
       "      <td>€€</td>\n",
       "      <td>Passeig de Sant Joan, 23::08010 Barcelona::Spain</td>\n",
       "      <td>Passeig de Sant Joan, 23</td>\n",
       "      <td>08010 Barcelona</td>\n",
       "      <td>258</td>\n",
       "    </tr>\n",
       "    <tr>\n",
       "      <th>20</th>\n",
       "      <td>El Asador de Aranda</td>\n",
       "      <td>4.5</td>\n",
       "      <td>28</td>\n",
       "      <td>€€€</td>\n",
       "      <td>Calle Pau Claris, 70::08010 Barcelona::Spain</td>\n",
       "      <td>Calle Pau Claris, 70</td>\n",
       "      <td>08010 Barcelona</td>\n",
       "      <td>105</td>\n",
       "    </tr>\n",
       "    <tr>\n",
       "      <th>33</th>\n",
       "      <td>Bar Mut</td>\n",
       "      <td>4.5</td>\n",
       "      <td>149</td>\n",
       "      <td>€€€</td>\n",
       "      <td>Carrer de Pau Claris, 192::08037 Barcelona::Spain</td>\n",
       "      <td>Carrer de Pau Claris, 192</td>\n",
       "      <td>08037 Barcelona</td>\n",
       "      <td>294</td>\n",
       "    </tr>\n",
       "    <tr>\n",
       "      <th>37</th>\n",
       "      <td>A Tu Bola</td>\n",
       "      <td>4.5</td>\n",
       "      <td>79</td>\n",
       "      <td>€</td>\n",
       "      <td>Carrer Hospital 78::08001 Barcelona::Spain</td>\n",
       "      <td>Carrer Hospital 78</td>\n",
       "      <td>08001 Barcelona</td>\n",
       "      <td>132</td>\n",
       "    </tr>\n",
       "    <tr>\n",
       "      <th>43</th>\n",
       "      <td>2254</td>\n",
       "      <td>4.5</td>\n",
       "      <td>62</td>\n",
       "      <td>€€€</td>\n",
       "      <td>Consell de Cent, 335::08007 Barcelona::Spain</td>\n",
       "      <td>Consell de Cent, 335</td>\n",
       "      <td>08007 Barcelona</td>\n",
       "      <td>99</td>\n",
       "    </tr>\n",
       "    <tr>\n",
       "      <th>45</th>\n",
       "      <td>Federal</td>\n",
       "      <td>4.5</td>\n",
       "      <td>55</td>\n",
       "      <td>€</td>\n",
       "      <td>Passatge de la Pau, 11::08002 Barcelona::Spain</td>\n",
       "      <td>Passatge de la Pau, 11</td>\n",
       "      <td>08002 Barcelona</td>\n",
       "      <td>136</td>\n",
       "    </tr>\n",
       "    <tr>\n",
       "      <th>81</th>\n",
       "      <td>Eat My Trip</td>\n",
       "      <td>4.5</td>\n",
       "      <td>73</td>\n",
       "      <td>€€</td>\n",
       "      <td>Carrer del Consell de Cent, 378::08009 Barcelo...</td>\n",
       "      <td>Carrer del Consell de Cent, 378</td>\n",
       "      <td>08009 Barcelona</td>\n",
       "      <td>193</td>\n",
       "    </tr>\n",
       "    <tr>\n",
       "      <th>83</th>\n",
       "      <td>Billy Brunch</td>\n",
       "      <td>5</td>\n",
       "      <td>42</td>\n",
       "      <td>NaN</td>\n",
       "      <td>Carrer de Bailèn, 115::08009 Barcelona::Spain</td>\n",
       "      <td>Carrer de Bailèn, 115</td>\n",
       "      <td>08009 Barcelona</td>\n",
       "      <td>104</td>\n",
       "    </tr>\n",
       "    <tr>\n",
       "      <th>96</th>\n",
       "      <td>La Paradeta</td>\n",
       "      <td>4.5</td>\n",
       "      <td>44</td>\n",
       "      <td>€€€</td>\n",
       "      <td>Passatge de Simó, 18::08025 Barcelona::Spain</td>\n",
       "      <td>Passatge de Simó, 18</td>\n",
       "      <td>08025 Barcelona</td>\n",
       "      <td>534</td>\n",
       "    </tr>\n",
       "    <tr>\n",
       "      <th>101</th>\n",
       "      <td>Doña Rosa</td>\n",
       "      <td>4.5</td>\n",
       "      <td>2</td>\n",
       "      <td>NaN</td>\n",
       "      <td></td>\n",
       "      <td></td>\n",
       "      <td>NaN</td>\n",
       "      <td>NaN</td>\n",
       "    </tr>\n",
       "    <tr>\n",
       "      <th>112</th>\n",
       "      <td>La Paradeta</td>\n",
       "      <td>4.5</td>\n",
       "      <td>155</td>\n",
       "      <td>€€</td>\n",
       "      <td>Passatge de Simó, 18::08025 Barcelona::Spain</td>\n",
       "      <td>Passatge de Simó, 18</td>\n",
       "      <td>08025 Barcelona</td>\n",
       "      <td>534</td>\n",
       "    </tr>\n",
       "    <tr>\n",
       "      <th>117</th>\n",
       "      <td>Eden</td>\n",
       "      <td>4.5</td>\n",
       "      <td>118</td>\n",
       "      <td>€€</td>\n",
       "      <td></td>\n",
       "      <td></td>\n",
       "      <td>NaN</td>\n",
       "      <td>NaN</td>\n",
       "    </tr>\n",
       "    <tr>\n",
       "      <th>120</th>\n",
       "      <td>El Xampanyet</td>\n",
       "      <td>4.5</td>\n",
       "      <td>279</td>\n",
       "      <td>€€</td>\n",
       "      <td>Carrer de Montcada, 22::08003 Barcelona::Spain</td>\n",
       "      <td>Carrer de Montcada, 22</td>\n",
       "      <td>08003 Barcelona</td>\n",
       "      <td>673</td>\n",
       "    </tr>\n",
       "    <tr>\n",
       "      <th>124</th>\n",
       "      <td>Paella Bar</td>\n",
       "      <td>4</td>\n",
       "      <td>44</td>\n",
       "      <td>€€</td>\n",
       "      <td>Pòrtics de la Boqueria, s/n::Locals, 6-7::Merc...</td>\n",
       "      <td>Pòrtics de la Boqueria, s/n</td>\n",
       "      <td>NaN</td>\n",
       "      <td>132</td>\n",
       "    </tr>\n",
       "    <tr>\n",
       "      <th>125</th>\n",
       "      <td>Cremat 11</td>\n",
       "      <td>5</td>\n",
       "      <td>15</td>\n",
       "      <td>NaN</td>\n",
       "      <td>Carrer Cremat Gran, 11::08003 Barcelona::Spain</td>\n",
       "      <td>Carrer Cremat Gran, 11</td>\n",
       "      <td>08003 Barcelona</td>\n",
       "      <td>32</td>\n",
       "    </tr>\n",
       "    <tr>\n",
       "      <th>126</th>\n",
       "      <td>Pirineu en Boca</td>\n",
       "      <td>4.5</td>\n",
       "      <td>14</td>\n",
       "      <td>€€</td>\n",
       "      <td>Carrer de Girona, 17::08010 Barcelona::Spain</td>\n",
       "      <td>Carrer de Girona, 17</td>\n",
       "      <td>08010 Barcelona</td>\n",
       "      <td>72</td>\n",
       "    </tr>\n",
       "    <tr>\n",
       "      <th>127</th>\n",
       "      <td>Salterio</td>\n",
       "      <td>4.5</td>\n",
       "      <td>66</td>\n",
       "      <td>€€</td>\n",
       "      <td>Carrer de Sant Domènec del Call, 4::08002 Barc...</td>\n",
       "      <td>Carrer de Sant Domènec del Call, 4</td>\n",
       "      <td>08002 Barcelona</td>\n",
       "      <td>115</td>\n",
       "    </tr>\n",
       "    <tr>\n",
       "      <th>158</th>\n",
       "      <td>Rosat’s</td>\n",
       "      <td>4.5</td>\n",
       "      <td>2</td>\n",
       "      <td>€</td>\n",
       "      <td>Carrer Creu Coberta, 58::08014 Barcelona::Spain</td>\n",
       "      <td>Carrer Creu Coberta, 58</td>\n",
       "      <td>08014 Barcelona</td>\n",
       "      <td>11</td>\n",
       "    </tr>\n",
       "    <tr>\n",
       "      <th>200</th>\n",
       "      <td>Honest Greens</td>\n",
       "      <td>5</td>\n",
       "      <td>22</td>\n",
       "      <td>NaN</td>\n",
       "      <td>Rambla de Catalunya, 3::08007 Barcelona::Spain</td>\n",
       "      <td>Rambla de Catalunya, 3</td>\n",
       "      <td>08007 Barcelona</td>\n",
       "      <td>43</td>\n",
       "    </tr>\n",
       "    <tr>\n",
       "      <th>202</th>\n",
       "      <td>Els Sortidors del Parlament</td>\n",
       "      <td>4.5</td>\n",
       "      <td>18</td>\n",
       "      <td>€€</td>\n",
       "      <td>Carrer del Parlament, 53::08015 Barcelona::Spain</td>\n",
       "      <td>Carrer del Parlament, 53</td>\n",
       "      <td>08015 Barcelona</td>\n",
       "      <td>64</td>\n",
       "    </tr>\n",
       "    <tr>\n",
       "      <th>204</th>\n",
       "      <td>Marina Bay</td>\n",
       "      <td>4</td>\n",
       "      <td>35</td>\n",
       "      <td>€€</td>\n",
       "      <td>Carrer de la Marina, 19 - 21::08005 Barcelona:...</td>\n",
       "      <td>Carrer de la Marina, 19 - 21</td>\n",
       "      <td>08005 Barcelona</td>\n",
       "      <td>168</td>\n",
       "    </tr>\n",
       "    <tr>\n",
       "      <th>205</th>\n",
       "      <td>Norte</td>\n",
       "      <td>4</td>\n",
       "      <td>9</td>\n",
       "      <td>€</td>\n",
       "      <td>Carrer de la Diputació, 321::08009 Barcelona::...</td>\n",
       "      <td>Carrer de la Diputació, 321</td>\n",
       "      <td>08009 Barcelona</td>\n",
       "      <td>14</td>\n",
       "    </tr>\n",
       "    <tr>\n",
       "      <th>209</th>\n",
       "      <td>Obe Restaurant</td>\n",
       "      <td>5</td>\n",
       "      <td>35</td>\n",
       "      <td>€€</td>\n",
       "      <td>Plaça Santa Caterina, 1::08003 Barcelona::Spain</td>\n",
       "      <td>Plaça Santa Caterina, 1</td>\n",
       "      <td>08003 Barcelona</td>\n",
       "      <td>107</td>\n",
       "    </tr>\n",
       "    <tr>\n",
       "      <th>211</th>\n",
       "      <td>Kamasot</td>\n",
       "      <td>4.5</td>\n",
       "      <td>9</td>\n",
       "      <td>€€</td>\n",
       "      <td>Carrer del Consell de Cent, 465::08013 Barcelo...</td>\n",
       "      <td>Carrer del Consell de Cent, 465</td>\n",
       "      <td>08013 Barcelona</td>\n",
       "      <td>24</td>\n",
       "    </tr>\n",
       "    <tr>\n",
       "      <th>213</th>\n",
       "      <td>Solomillo</td>\n",
       "      <td>4.5</td>\n",
       "      <td>10</td>\n",
       "      <td>€€€€</td>\n",
       "      <td>Carrer de Mallorca, 251::08008 Barcelona::Spain</td>\n",
       "      <td>Carrer de Mallorca, 251</td>\n",
       "      <td>08008 Barcelona</td>\n",
       "      <td>50</td>\n",
       "    </tr>\n",
       "    <tr>\n",
       "      <th>214</th>\n",
       "      <td>Modu Korean Bowl</td>\n",
       "      <td>4.5</td>\n",
       "      <td>7</td>\n",
       "      <td>NaN</td>\n",
       "      <td>Carrer Minerva, 8::08006 Barcelona::Spain</td>\n",
       "      <td>Carrer Minerva, 8</td>\n",
       "      <td>08006 Barcelona</td>\n",
       "      <td>5</td>\n",
       "    </tr>\n",
       "    <tr>\n",
       "      <th>218</th>\n",
       "      <td>Viena</td>\n",
       "      <td>4.5</td>\n",
       "      <td>72</td>\n",
       "      <td>€</td>\n",
       "      <td>La Rambla del Estudis, 115::08002 Barcelona::S...</td>\n",
       "      <td>La Rambla del Estudis, 115</td>\n",
       "      <td>08002 Barcelona</td>\n",
       "      <td>102</td>\n",
       "    </tr>\n",
       "    <tr>\n",
       "      <th>228</th>\n",
       "      <td>Estimar</td>\n",
       "      <td>4.5</td>\n",
       "      <td>19</td>\n",
       "      <td>€€€€</td>\n",
       "      <td>Carrer de Sant Antoni dels Sombrerers, 3::0800...</td>\n",
       "      <td>Carrer de Sant Antoni dels Sombrerers, 3</td>\n",
       "      <td>08003 Barcelona</td>\n",
       "      <td>144</td>\n",
       "    </tr>\n",
       "    <tr>\n",
       "      <th>236</th>\n",
       "      <td>La Cova Fumada</td>\n",
       "      <td>4.5</td>\n",
       "      <td>118</td>\n",
       "      <td>€€</td>\n",
       "      <td>Carrer del Baluard, 56::08003 Barcelona::Spain</td>\n",
       "      <td>Carrer del Baluard, 56</td>\n",
       "      <td>08003 Barcelona</td>\n",
       "      <td>301</td>\n",
       "    </tr>\n",
       "  </tbody>\n",
       "</table>\n",
       "</div>"
      ],
      "text/plain": [
       "                            name rating reviews price_range  \\\n",
       "11                       Firebug    4.5     125          €€   \n",
       "20           El Asador de Aranda    4.5      28         €€€   \n",
       "33                       Bar Mut    4.5     149         €€€   \n",
       "37                     A Tu Bola    4.5      79           €   \n",
       "43                          2254    4.5      62         €€€   \n",
       "45                       Federal    4.5      55           €   \n",
       "81                   Eat My Trip    4.5      73          €€   \n",
       "83                  Billy Brunch      5      42         NaN   \n",
       "96                   La Paradeta    4.5      44         €€€   \n",
       "101                    Doña Rosa    4.5       2         NaN   \n",
       "112                  La Paradeta    4.5     155          €€   \n",
       "117                         Eden    4.5     118          €€   \n",
       "120                 El Xampanyet    4.5     279          €€   \n",
       "124                   Paella Bar      4      44          €€   \n",
       "125                    Cremat 11      5      15         NaN   \n",
       "126              Pirineu en Boca    4.5      14          €€   \n",
       "127                     Salterio    4.5      66          €€   \n",
       "158                      Rosat’s    4.5       2           €   \n",
       "200                Honest Greens      5      22         NaN   \n",
       "202  Els Sortidors del Parlament    4.5      18          €€   \n",
       "204                   Marina Bay      4      35          €€   \n",
       "205                        Norte      4       9           €   \n",
       "209               Obe Restaurant      5      35          €€   \n",
       "211                      Kamasot    4.5       9          €€   \n",
       "213                    Solomillo    4.5      10        €€€€   \n",
       "214             Modu Korean Bowl    4.5       7         NaN   \n",
       "218                        Viena    4.5      72           €   \n",
       "228                      Estimar    4.5      19        €€€€   \n",
       "236               La Cova Fumada    4.5     118          €€   \n",
       "\n",
       "                                              location  \\\n",
       "11    Passeig de Sant Joan, 23::08010 Barcelona::Spain   \n",
       "20        Calle Pau Claris, 70::08010 Barcelona::Spain   \n",
       "33   Carrer de Pau Claris, 192::08037 Barcelona::Spain   \n",
       "37          Carrer Hospital 78::08001 Barcelona::Spain   \n",
       "43        Consell de Cent, 335::08007 Barcelona::Spain   \n",
       "45      Passatge de la Pau, 11::08002 Barcelona::Spain   \n",
       "81   Carrer del Consell de Cent, 378::08009 Barcelo...   \n",
       "83       Carrer de Bailèn, 115::08009 Barcelona::Spain   \n",
       "96        Passatge de Simó, 18::08025 Barcelona::Spain   \n",
       "101                                                      \n",
       "112       Passatge de Simó, 18::08025 Barcelona::Spain   \n",
       "117                                                      \n",
       "120     Carrer de Montcada, 22::08003 Barcelona::Spain   \n",
       "124  Pòrtics de la Boqueria, s/n::Locals, 6-7::Merc...   \n",
       "125     Carrer Cremat Gran, 11::08003 Barcelona::Spain   \n",
       "126       Carrer de Girona, 17::08010 Barcelona::Spain   \n",
       "127  Carrer de Sant Domènec del Call, 4::08002 Barc...   \n",
       "158    Carrer Creu Coberta, 58::08014 Barcelona::Spain   \n",
       "200     Rambla de Catalunya, 3::08007 Barcelona::Spain   \n",
       "202   Carrer del Parlament, 53::08015 Barcelona::Spain   \n",
       "204  Carrer de la Marina, 19 - 21::08005 Barcelona:...   \n",
       "205  Carrer de la Diputació, 321::08009 Barcelona::...   \n",
       "209    Plaça Santa Caterina, 1::08003 Barcelona::Spain   \n",
       "211  Carrer del Consell de Cent, 465::08013 Barcelo...   \n",
       "213    Carrer de Mallorca, 251::08008 Barcelona::Spain   \n",
       "214          Carrer Minerva, 8::08006 Barcelona::Spain   \n",
       "218  La Rambla del Estudis, 115::08002 Barcelona::S...   \n",
       "228  Carrer de Sant Antoni dels Sombrerers, 3::0800...   \n",
       "236     Carrer del Baluard, 56::08003 Barcelona::Spain   \n",
       "\n",
       "                                       street      postal_code nb_photos  \n",
       "11                   Passeig de Sant Joan, 23  08010 Barcelona       258  \n",
       "20                       Calle Pau Claris, 70  08010 Barcelona       105  \n",
       "33                  Carrer de Pau Claris, 192  08037 Barcelona       294  \n",
       "37                         Carrer Hospital 78  08001 Barcelona       132  \n",
       "43                       Consell de Cent, 335  08007 Barcelona        99  \n",
       "45                     Passatge de la Pau, 11  08002 Barcelona       136  \n",
       "81            Carrer del Consell de Cent, 378  08009 Barcelona       193  \n",
       "83                      Carrer de Bailèn, 115  08009 Barcelona       104  \n",
       "96                       Passatge de Simó, 18  08025 Barcelona       534  \n",
       "101                                                        NaN       NaN  \n",
       "112                      Passatge de Simó, 18  08025 Barcelona       534  \n",
       "117                                                        NaN       NaN  \n",
       "120                    Carrer de Montcada, 22  08003 Barcelona       673  \n",
       "124               Pòrtics de la Boqueria, s/n              NaN       132  \n",
       "125                    Carrer Cremat Gran, 11  08003 Barcelona        32  \n",
       "126                      Carrer de Girona, 17  08010 Barcelona        72  \n",
       "127        Carrer de Sant Domènec del Call, 4  08002 Barcelona       115  \n",
       "158                   Carrer Creu Coberta, 58  08014 Barcelona        11  \n",
       "200                    Rambla de Catalunya, 3  08007 Barcelona        43  \n",
       "202                  Carrer del Parlament, 53  08015 Barcelona        64  \n",
       "204              Carrer de la Marina, 19 - 21  08005 Barcelona       168  \n",
       "205               Carrer de la Diputació, 321  08009 Barcelona        14  \n",
       "209                   Plaça Santa Caterina, 1  08003 Barcelona       107  \n",
       "211           Carrer del Consell de Cent, 465  08013 Barcelona        24  \n",
       "213                   Carrer de Mallorca, 251  08008 Barcelona        50  \n",
       "214                         Carrer Minerva, 8  08006 Barcelona         5  \n",
       "218                La Rambla del Estudis, 115  08002 Barcelona       102  \n",
       "228  Carrer de Sant Antoni dels Sombrerers, 3  08003 Barcelona       144  \n",
       "236                    Carrer del Baluard, 56  08003 Barcelona       301  "
      ]
     },
     "execution_count": 81,
     "metadata": {},
     "output_type": "execute_result"
    }
   ],
   "source": [
    "# duplicates values\n",
    "resto_df[resto_df.duplicated()]"
   ]
  },
  {
   "cell_type": "code",
   "execution_count": 82,
   "metadata": {},
   "outputs": [],
   "source": [
    "resto_df.drop_duplicates(inplace=True)"
   ]
  },
  {
   "cell_type": "markdown",
   "metadata": {},
   "source": [
    "#### Cleaning"
   ]
  },
  {
   "cell_type": "code",
   "execution_count": 83,
   "metadata": {},
   "outputs": [],
   "source": [
    "# Price range (price per person)\n",
    "# Based on information from yelp and Quora:\n",
    "# $= under $10. $$=11-30. $$$=31-60. $$$$= over $61\n",
    "# Converting to EUR\n",
    "\n",
    "# 1 EUR = 1.11234 USD\n",
    "Euro = (pd.Series([10, 11, 30, 31, 60, 61]) * 1.11234).apply(lambda x: int(x))\n",
    "\n",
    "mapper = {'€':'under 11', \"€€\":'[12 - 33]', '€€€':'[34 - 66]', '€€€€':'over 67'}\n",
    "\n",
    "resto_df['price_range'] = resto_df['price_range'].map(mapper)"
   ]
  },
  {
   "cell_type": "code",
   "execution_count": 84,
   "metadata": {},
   "outputs": [
    {
     "data": {
      "text/html": [
       "<div>\n",
       "<style scoped>\n",
       "    .dataframe tbody tr th:only-of-type {\n",
       "        vertical-align: middle;\n",
       "    }\n",
       "\n",
       "    .dataframe tbody tr th {\n",
       "        vertical-align: top;\n",
       "    }\n",
       "\n",
       "    .dataframe thead th {\n",
       "        text-align: right;\n",
       "    }\n",
       "</style>\n",
       "<table border=\"1\" class=\"dataframe\">\n",
       "  <thead>\n",
       "    <tr style=\"text-align: right;\">\n",
       "      <th></th>\n",
       "      <th>rating</th>\n",
       "      <th>reviews</th>\n",
       "    </tr>\n",
       "  </thead>\n",
       "  <tbody>\n",
       "    <tr>\n",
       "      <th>count</th>\n",
       "      <td>211.000000</td>\n",
       "      <td>211.000000</td>\n",
       "    </tr>\n",
       "    <tr>\n",
       "      <th>mean</th>\n",
       "      <td>4.457346</td>\n",
       "      <td>98.781991</td>\n",
       "    </tr>\n",
       "    <tr>\n",
       "      <th>std</th>\n",
       "      <td>0.297738</td>\n",
       "      <td>166.929925</td>\n",
       "    </tr>\n",
       "    <tr>\n",
       "      <th>min</th>\n",
       "      <td>4.000000</td>\n",
       "      <td>1.000000</td>\n",
       "    </tr>\n",
       "    <tr>\n",
       "      <th>25%</th>\n",
       "      <td>4.500000</td>\n",
       "      <td>15.000000</td>\n",
       "    </tr>\n",
       "    <tr>\n",
       "      <th>50%</th>\n",
       "      <td>4.500000</td>\n",
       "      <td>42.000000</td>\n",
       "    </tr>\n",
       "    <tr>\n",
       "      <th>75%</th>\n",
       "      <td>4.500000</td>\n",
       "      <td>108.500000</td>\n",
       "    </tr>\n",
       "    <tr>\n",
       "      <th>max</th>\n",
       "      <td>5.000000</td>\n",
       "      <td>1279.000000</td>\n",
       "    </tr>\n",
       "  </tbody>\n",
       "</table>\n",
       "</div>"
      ],
      "text/plain": [
       "           rating      reviews\n",
       "count  211.000000   211.000000\n",
       "mean     4.457346    98.781991\n",
       "std      0.297738   166.929925\n",
       "min      4.000000     1.000000\n",
       "25%      4.500000    15.000000\n",
       "50%      4.500000    42.000000\n",
       "75%      4.500000   108.500000\n",
       "max      5.000000  1279.000000"
      ]
     },
     "execution_count": 84,
     "metadata": {},
     "output_type": "execute_result"
    }
   ],
   "source": [
    "# Rating and number of reviews\n",
    "resto_df['rating'] = resto_df['rating'].apply(lambda x: float(x)) \n",
    "resto_df['reviews'] = resto_df['reviews'].apply(lambda x: float(x))\n",
    "\n",
    "resto_df.describe()"
   ]
  },
  {
   "cell_type": "code",
   "execution_count": 85,
   "metadata": {},
   "outputs": [
    {
     "data": {
      "text/plain": [
       "(211, 8)"
      ]
     },
     "execution_count": 85,
     "metadata": {},
     "output_type": "execute_result"
    }
   ],
   "source": [
    "# get coordinates from addresses\n",
    "pd.DataFrame(resto_df.street + ' ' + resto_df.postal_code).to_csv('resto_addresses.csv', index=False)\n",
    "\n",
    "resto_df.shape"
   ]
  },
  {
   "cell_type": "code",
   "execution_count": null,
   "metadata": {},
   "outputs": [],
   "source": [
    "# after using an addon on google sheet\n",
    "coordinates = pd.read_csv('resto_coordinates.csv')[['Latitude', 'Longitude']]\n",
    "coordinates.shape"
   ]
  },
  {
   "cell_type": "code",
   "execution_count": 86,
   "metadata": {},
   "outputs": [
    {
     "name": "stdout",
     "output_type": "stream",
     "text": [
      "<class 'pandas.core.frame.DataFrame'>\n",
      "Int64Index: 211 entries, 0 to 239\n",
      "Data columns (total 8 columns):\n",
      " #   Column       Non-Null Count  Dtype  \n",
      "---  ------       --------------  -----  \n",
      " 0   name         211 non-null    object \n",
      " 1   rating       211 non-null    float64\n",
      " 2   reviews      211 non-null    float64\n",
      " 3   price_range  176 non-null    object \n",
      " 4   location     211 non-null    object \n",
      " 5   street       211 non-null    object \n",
      " 6   postal_code  196 non-null    object \n",
      " 7   nb_photos    201 non-null    object \n",
      "dtypes: float64(2), object(6)\n",
      "memory usage: 14.8+ KB\n"
     ]
    }
   ],
   "source": [
    "# index inconsistent because of dropping duplicates\n",
    "resto_df.info()"
   ]
  },
  {
   "cell_type": "code",
   "execution_count": 87,
   "metadata": {},
   "outputs": [],
   "source": [
    "# because of dropping duplicates need to reset the index\n",
    "resto_df = pd.concat([resto_df.reset_index(drop=True), coordinates], axis = 1)"
   ]
  },
  {
   "cell_type": "code",
   "execution_count": 88,
   "metadata": {},
   "outputs": [
    {
     "name": "stdout",
     "output_type": "stream",
     "text": [
      "<class 'pandas.core.frame.DataFrame'>\n",
      "RangeIndex: 211 entries, 0 to 210\n",
      "Data columns (total 10 columns):\n",
      " #   Column       Non-Null Count  Dtype  \n",
      "---  ------       --------------  -----  \n",
      " 0   name         211 non-null    object \n",
      " 1   rating       211 non-null    float64\n",
      " 2   reviews      211 non-null    float64\n",
      " 3   price_range  176 non-null    object \n",
      " 4   location     211 non-null    object \n",
      " 5   street       211 non-null    object \n",
      " 6   postal_code  196 non-null    object \n",
      " 7   nb_photos    201 non-null    object \n",
      " 8   Latitude     196 non-null    float64\n",
      " 9   Longitude    196 non-null    float64\n",
      "dtypes: float64(4), object(6)\n",
      "memory usage: 16.6+ KB\n"
     ]
    }
   ],
   "source": [
    "resto_df.info()"
   ]
  },
  {
   "cell_type": "code",
   "execution_count": 89,
   "metadata": {},
   "outputs": [],
   "source": [
    "resto_df.to_csv('resto_dataset.csv', index=False)"
   ]
  },
  {
   "cell_type": "markdown",
   "metadata": {},
   "source": [
    "# Hotels"
   ]
  },
  {
   "cell_type": "code",
   "execution_count": 90,
   "metadata": {},
   "outputs": [
    {
     "name": "stdout",
     "output_type": "stream",
     "text": [
      "Index(['Barceló Raval', 'Hotel 1898', 'W Barcelona',\n",
      "       'Hotel Continental Barcelona', 'Pulitzer Barcelona',\n",
      "       'Le Méridien Barcelona', 'Hotel Cotton House', 'Hotel Ayre Roselon',\n",
      "       'Hotel Majestic', 'Renaissance Barcelona Hotel',\n",
      "       ...\n",
      "       'Catalonia Barcelona Golf.1', 'Mihlton.1', 'Ilunion Almirante.1',\n",
      "       'Hotel Peninsular.1', 'Banys Oriental.1', 'Hotel Capri by Fraser.1',\n",
      "       'Hotel Granados 83.1', 'Hotel Oasis.1', 'Ámister Art Hotel.1',\n",
      "       'Hotel Regina.1'],\n",
      "      dtype='object', length=259)\n",
      "Index(['0', '10', '20', '30', '40', '50', '60', '70', '80', '90', '100', '110',\n",
      "       '120', '130', '140', '150', '160', '170', '180', '190', '200', '210',\n",
      "       '220', '230'],\n",
      "      dtype='object')\n"
     ]
    }
   ],
   "source": [
    "hotel_soup = pd.read_csv('hotel_soup.csv').drop(columns='Unnamed: 0').squeeze()\n",
    "hotel_soup2 = pd.read_csv('hotel_soup2.csv').drop(columns='Unnamed: 0').squeeze()\n",
    "print(hotel_soup2.index)\n",
    "print(hotel_soup.index)"
   ]
  },
  {
   "cell_type": "markdown",
   "metadata": {},
   "source": [
    "#### Name"
   ]
  },
  {
   "cell_type": "code",
   "execution_count": 94,
   "metadata": {},
   "outputs": [],
   "source": [
    "#### Name\n",
    "name = []\n",
    "for row in hotel_soup:  # row contain 10 restaurants\n",
    "    soup = BeautifulSoup(row, 'html.parser')\n",
    "    result = soup.select('.css-1egxyvc .css-1m051bw')\n",
    "    for tag in result:\n",
    "        # print(tag.text)\n",
    "        name.append(tag.text)\n"
   ]
  },
  {
   "cell_type": "code",
   "execution_count": 95,
   "metadata": {},
   "outputs": [
    {
     "data": {
      "text/plain": [
       "Chic&Basic Velvet        2\n",
       "Acta BCN 40              2\n",
       "Gaudi Hotel Barcelona    2\n",
       "St. Christopher’s Inn    2\n",
       "OD Barcelona             2\n",
       "                        ..\n",
       "Soho House               1\n",
       "Hotel Advance            1\n",
       "Le Palacete              1\n",
       "Sabor Intens             1\n",
       "Casa Marcelo             1\n",
       "Length: 234, dtype: int64"
      ]
     },
     "execution_count": 95,
     "metadata": {},
     "output_type": "execute_result"
    }
   ],
   "source": [
    "# It's like there are duplicates\n",
    "pd.Series(name).value_counts()"
   ]
  },
  {
   "cell_type": "markdown",
   "metadata": {},
   "source": [
    "#### Price range"
   ]
  },
  {
   "cell_type": "code",
   "execution_count": 93,
   "metadata": {},
   "outputs": [
    {
     "name": "stdout",
     "output_type": "stream",
     "text": [
      "Barceló Raval €€\n",
      "Hotel 1898 €€€\n",
      "W Barcelona €€€€\n",
      "Hotel Continental Barcelona €\n",
      "Pulitzer Barcelona €€\n",
      "Le Méridien Barcelona €€€\n",
      "Hotel Cotton House €€€\n",
      "Hotel Ayre Roselon €\n",
      "Hotel Majestic €€€\n",
      "Renaissance Barcelona Hotel €€€\n",
      "Villa Emilia €€\n",
      "Hotel Arts Barcelona nan\n",
      "Mandarin Oriental €€€€\n",
      "Hotel Jazz €€\n",
      "K+K Hotel Picasso Barcelona nan\n",
      "Hotel Europark €€\n",
      "Grand Hotel Central nan\n",
      "Hotel Barcelona 1882 nan\n",
      "Alma Barcelona €€€\n",
      "Novotel Barcelona City €€\n",
      "Casa Fuster €€€€\n",
      "The Barcelona EDITION €€€\n",
      "Hotel Barcelona Universal €€\n",
      "Hotel NH Collection Barcelona Gran Hotel Calderón €€€\n",
      "H10 Madison nan\n",
      "Claris €€€\n",
      "Alexandra Barcelona Hotel €€€\n",
      "Hilton Barcelona Hotel €€€\n",
      "Hotel Duquesa de Cardona €€€\n",
      "Hotel Mercer €€€\n",
      "Casa Bonay €€\n",
      "El Palace €€€€\n",
      "Hotel Praktik €€\n",
      "Hotel U232 €€\n",
      "Soho House €€€€\n",
      "Hotel Catalonia Born €€\n",
      "Hotel Condes de Barcelona €€€\n",
      "Hotel Sofia nan\n",
      "Olivia Balmes €€€\n",
      "Colonial €€\n",
      "Best Western Premier Hotel Dante €€\n",
      "Arc la Rambla €€\n",
      "Vividora nan\n",
      "Hotel Colón €€€\n",
      "H10 Port Vell €€\n",
      "Barcelona Airport Hotel nan\n",
      "Hotel España Ramblas €€\n",
      "Hotel Ohla €€€\n",
      "AC Hotel Diagonal L’iIlla €€€\n",
      "The Wittmore €€€\n",
      "Hilton Diagonal Mar €€€\n",
      "The One nan\n",
      "Hotel Catalonia Port €€\n",
      "Hotel Barcelona Catedral €€€€\n",
      "The Serras €€€€\n",
      "Sir Victor Hotel €€€\n",
      "Room Mate Carla Hotel €€\n",
      "Gallery Hotel €€€\n",
      "Iberostar Selection Paseo de Gracia €€€\n",
      "Hostal Grau Barcelona €\n",
      "Renaissance Barcelona Fira Hotel nan\n",
      "Do €€\n",
      "AC Hotel by Marriott Irla €€\n",
      "Axel €€€\n",
      "Hotel Sagrada Familia €€\n",
      "Hotel Turin €\n",
      "Hotel NH Collection Barcelona Pódium €€\n",
      "Eurostars Grand Marina €€€\n",
      "Neri €€€\n",
      "Millenni €€\n",
      "Hotel Cram €€€\n",
      "Sallés Hotel nan\n",
      "Hotel Catalonia Eixample 1864 €€\n",
      "Hotel Sixty Two €€€\n",
      "Hotel Condal €\n",
      "Rafaelhoteles Badalona nan\n",
      "Ayre Hotel Rosellón €€\n",
      "Andante Hotel €€\n",
      "Gaudi Hotel Barcelona nan\n",
      "H10 Catalunya Plaza €€€\n",
      "Siresa Europea nan\n",
      "Gotico Hotel €€€\n",
      "Majestic Residence €€€\n",
      "Hotel Catalonia Park Guell €€€\n",
      "Nobu Hotel Barcelona nan\n",
      "Royal Ramblas Hotel €€€\n",
      "H10 Casa Mimosa €€\n",
      "Praktik Rambla €€\n",
      "Constanza €€€\n",
      "Hotel Occidental Atenea Mar €€€\n",
      "Olivia Plaza Hotel €€€\n",
      "Barcelona Nouvel Hotel €€€\n",
      "Ayre Hotel Caspe €€\n",
      "Avenida Palace €€€€\n",
      "The Mirror Hotel €€\n",
      "Equity Point Centric nan\n",
      "Hotel Medium Prisma €€\n",
      "Hotel Curious €€\n",
      "Hotel Lleó €€\n",
      "Le Palacete nan\n",
      "Hotel Catalonia 505 €€\n",
      "Ramblas 108 €€\n",
      "Hotel Regencia Colon €€\n",
      "Hotel Del Mar €\n",
      "Room Mate Pau Hotel €€\n",
      "Alimara €€\n",
      "Hotel Catalonia Diagonal Centro €€\n",
      "Park Hotel €€€€\n",
      "Hotel Crowne Plaza Fira Center €€€\n",
      "AC Hotel by Marriott Barcelona Forum €€€\n",
      "Hotel 54 Barceloneta €€\n",
      "Hotel Balmes €€\n",
      "Jorsu Catalana nan\n",
      "Senator Barcelona €€€\n",
      "Gaudi Hotel Barcelona nan\n",
      "Gaudí nan\n",
      "Ibis €€\n",
      "The Corner Hotel €€\n",
      "Hotel Nouvel €€\n",
      "Motel One €€\n",
      "Campanile Barcelona Sud-Cornella nan\n",
      "Royal €€\n",
      "Monument Hotel nan\n",
      "Room Mate Anna Hotel €€\n",
      "Hotel Acta Splendid €€\n",
      "NH Constanza €€€\n",
      "AC Hotel by Marriott Sants €€\n",
      "hotels barcelona spain €\n",
      "Soho Barcelona €€\n",
      "Hostalin Barcelona nan\n",
      "Casa Marcelo nan\n",
      "AC Hotel by Marriott Victoria Suites €€\n",
      "Colors nan\n",
      "Hesperia Presidente €€€\n",
      "Hotel Miramar €€€€\n",
      "Hotel Medicis €€€\n",
      "Hotel NH Porta Barcelona nan\n",
      "Hotel Ciutadella Barcelona €€\n",
      "St. Christopher’s Inn nan\n",
      "B Hotel €€\n",
      "Catalonia Barcelona Golf nan\n",
      "Mihlton nan\n",
      "Ilunion Almirante nan\n",
      "Hotel Peninsular nan\n",
      "Banys Oriental €€\n",
      "Hotel Capri by Fraser €€\n",
      "Hotel Granados 83 €€€\n",
      "Hotel Oasis €€\n",
      "Ámister Art Hotel €€\n",
      "Hotel Regina €€€\n",
      "St. Christopher’s Inn nan\n",
      "Silken Concordia €€\n",
      "H10 Art Gallery €€\n",
      "Gran Hotel Havana €€\n",
      "AC Hotel by Marriott Som nan\n",
      "Hotel Ciutat Barcelona €€\n",
      "Tryp Apolo Hotel €€\n",
      "Franquesa Malaguti nan\n",
      "Petit Palace Boqueria Garden €€\n",
      "Hotel Casa Camper €€€\n",
      "Holiday Inn Express €€\n",
      "Siete Cero DOS Limpiezas Gestionadas nan\n",
      "Hotel Apsis Porta Marina €€\n",
      "Hotel Catalonia €€€\n",
      "Banquetes Reunidos nan\n",
      "Fonda Espanya €€€€\n",
      "Exe Laietana Palace €€€\n",
      "Hotel H10 €€\n",
      "H10 Metropolitan €€€\n",
      "Hotel Ohla Eixample €€€\n",
      "Well and Come €€€\n",
      "Hotel La Casa del Sol €€\n",
      "Meliá Barcelona €€€\n",
      "Hotel Del Compte €\n",
      "NH Eixample €\n",
      "HCC Montblanc €€\n",
      "Hotel Bagués €€€€\n",
      "Hotel Porta Fira nan\n",
      "Santa Marta €€\n",
      "Petit Palace Museum €€€\n",
      "Two Hotel €€\n",
      "Ibis Barcelona Centro nan\n",
      "Ficfrei nan\n",
      "H10 Cubik €€€\n",
      "Fedasosa nan\n",
      "Hotel Advance €€\n",
      "Praktik Garden €€\n",
      "Hotel Barcelona House €€\n",
      "Hotel NH Barcelona Les Corts nan\n",
      "Four Points by Sheraton Barcelona Diagonal €€\n",
      "Four Points by Sheraton Barcelona Diagonal €€\n",
      "Hotel Apsis Sant Angelo €\n",
      "ABaC Hotel €€€€\n",
      "Hotel Nuñez Urgel Comte D’urgell, 232 nan\n",
      "Silken Sant Gervasi €€\n",
      "Wilson €€\n",
      "Hostemplo nan\n",
      "Gestion Hotelera Ballester nan\n",
      "Hotel Pelayo €\n",
      "Sunotel BCN €€\n",
      "Acta Mimic nan\n",
      "Marin Gonzalez Gabriel nan\n",
      "Hotel America €€\n",
      "Hotel Abba Garden nan\n",
      "Hotel Catalonia Portal de l’Angel €€€\n",
      "City Park Hotel Sant Just nan\n",
      "Mercer Hoteles €€€\n",
      "Hotel Reding €€\n",
      "Acta BCN 40 nan\n",
      "OD Barcelona nan\n",
      "Acta BCN 40 nan\n",
      "OD Barcelona nan\n",
      "Pullman €€€\n",
      "Hotel NH Barcelona Entenza €\n",
      "Hoteles Solvasa nan\n",
      "Hotel Ibis nan\n",
      "Fairmont Rey Juan Carlos I €€€\n",
      "Intown Europe nan\n",
      "Rey Don Jaime I €\n",
      "Vincci Gala 4 €€\n",
      "H10 Montcada €€€\n",
      "Almanac nan\n",
      "Hotel Denit €€\n",
      "Hotel Midmost €€\n",
      "Hotel Front Maritim €€\n",
      "Hotel Granvía €€\n",
      "roig cerrudo,ana 000950091r slne nan\n",
      "Sabor Intens nan\n",
      "Aparthotel Silver €€\n",
      "Chic&Basic Velvet nan\n",
      "Chic&Basic Velvet nan\n",
      "Hotel Catalonia Plaza Catalunya €€\n",
      "Omnium nan\n",
      "Ibis Styles €€\n",
      "Patacolls nan\n",
      "Hotel Fira Congress nan\n",
      "ANBA Bed And Breakfast nan\n",
      "Chic & Basic Lemon Boutique nan\n",
      "Tres Torres Atiram €€\n",
      "Abba Rambla €€\n"
     ]
    }
   ],
   "source": [
    "#### Price range\n",
    "price_range = []\n",
    "container_class = 'container__09f24__mpR8_ hoverable__09f24__wQ_on margin-t3__09f24__riq4X margin-b3__09f24__l9v5d padding-t3__09f24__TMrIW padding-r3__09f24__eaF7p padding-b3__09f24__S8R2d padding-l3__09f24__IOjKY border--top__09f24__exYYb border--right__09f24__X7Tln border--bottom__09f24___mg5X border--left__09f24__DMOkM border-color--default__09f24__NPAKY'\n",
    "for row in hotel_soup:\n",
    "    soup = BeautifulSoup(row, 'html.parser')\n",
    "    result = soup.find_all(class_ = container_class)\n",
    "    for tag in result:\n",
    "        header_text = tag.div.div.div.nextSibling.div\n",
    "        price = header_text.select_one('.css-1s7bx9e')\n",
    "        if price is not None:\n",
    "            price_range.append(price.text)\n",
    "        else:\n",
    "            price_range.append(np.nan)\n",
    "\n",
    "# test\n",
    "# for n, price in zip(name, price_range):\n",
    "#     print(n, price) "
   ]
  },
  {
   "cell_type": "markdown",
   "metadata": {},
   "source": [
    "#### Rating"
   ]
  },
  {
   "cell_type": "code",
   "execution_count": 96,
   "metadata": {},
   "outputs": [
    {
     "name": "stdout",
     "output_type": "stream",
     "text": [
      "Barceló Raval 4.5\n",
      "Hotel 1898 4.5\n",
      "W Barcelona 4\n",
      "Hotel Continental Barcelona 4.5\n",
      "Pulitzer Barcelona 4\n",
      "Le Méridien Barcelona 4\n",
      "Hotel Cotton House 4.5\n",
      "Hotel Ayre Roselon 4.5\n",
      "Hotel Majestic 4\n",
      "Renaissance Barcelona Hotel 4\n",
      "Villa Emilia 5\n",
      "Hotel Arts Barcelona 4\n",
      "Mandarin Oriental 4\n",
      "Hotel Jazz 4.5\n",
      "K+K Hotel Picasso Barcelona 4.5\n",
      "Hotel Europark 4.5\n",
      "Grand Hotel Central 4\n",
      "Hotel Barcelona 1882 4.5\n",
      "Alma Barcelona 4.5\n",
      "Novotel Barcelona City 4\n",
      "Casa Fuster 4.5\n",
      "The Barcelona EDITION 4\n",
      "Hotel Barcelona Universal 4\n",
      "Hotel NH Collection Barcelona Gran Hotel Calderón 4\n",
      "H10 Madison 5\n",
      "Claris 4\n",
      "Alexandra Barcelona Hotel 4\n",
      "Hilton Barcelona Hotel 3.5\n",
      "Hotel Duquesa de Cardona 4.5\n",
      "Hotel Mercer 4.5\n",
      "Casa Bonay 4.5\n",
      "El Palace 4.5\n",
      "Hotel Praktik 4.5\n",
      "Hotel U232 4.5\n",
      "Soho House 5\n",
      "Hotel Catalonia Born 4\n",
      "Hotel Condes de Barcelona 4\n",
      "Hotel Sofia 5\n",
      "Olivia Balmes 4.5\n",
      "Colonial 3.5\n",
      "Best Western Premier Hotel Dante 4\n",
      "Arc la Rambla 4\n",
      "Vividora 5\n",
      "Hotel Colón 4\n",
      "H10 Port Vell 5\n",
      "Barcelona Airport Hotel 2.5\n",
      "Hotel España Ramblas 3.5\n",
      "Hotel Ohla 4\n",
      "AC Hotel Diagonal L’iIlla 2.5\n",
      "The Wittmore 4.5\n",
      "Hilton Diagonal Mar 4\n",
      "The One 3\n",
      "Hotel Catalonia Port 4\n",
      "Hotel Barcelona Catedral 4.5\n",
      "The Serras 5\n",
      "Sir Victor Hotel 4\n",
      "Room Mate Carla Hotel 4.5\n",
      "Gallery Hotel 4.5\n",
      "Iberostar Selection Paseo de Gracia 2.5\n",
      "Hostal Grau Barcelona 4.5\n",
      "Renaissance Barcelona Fira Hotel 4\n",
      "Do 4.5\n",
      "AC Hotel by Marriott Irla 4\n",
      "Axel 3\n",
      "Hotel Sagrada Familia 3.5\n",
      "Hotel Turin 4\n",
      "Hotel NH Collection Barcelona Pódium 4.5\n",
      "Eurostars Grand Marina 3.5\n",
      "Neri 4\n",
      "Millenni 4\n",
      "Hotel Cram 4.5\n",
      "Sallés Hotel 3.5\n",
      "Hotel Catalonia Eixample 1864 4\n",
      "Hotel Sixty Two 4.5\n",
      "Hotel Condal 2\n",
      "Rafaelhoteles Badalona 3.5\n",
      "Ayre Hotel Rosellón 4\n",
      "Andante Hotel 4.5\n",
      "Gaudi Hotel Barcelona 2.5\n",
      "H10 Catalunya Plaza 3.5\n",
      "Siresa Europea nan\n",
      "Gotico Hotel 3.5\n",
      "Majestic Residence 4\n",
      "Hotel Catalonia Park Guell 1\n",
      "Nobu Hotel Barcelona 4\n",
      "Royal Ramblas Hotel 4\n",
      "H10 Casa Mimosa 5\n",
      "Praktik Rambla 4.5\n",
      "Constanza 4\n",
      "Hotel Occidental Atenea Mar 3\n",
      "Olivia Plaza Hotel 4.5\n",
      "Barcelona Nouvel Hotel 3.5\n",
      "Ayre Hotel Caspe 3.5\n",
      "Avenida Palace 3.5\n",
      "The Mirror Hotel 4\n",
      "Equity Point Centric 3\n",
      "Hotel Medium Prisma 3.5\n",
      "Hotel Curious 4.5\n",
      "Hotel Lleó 4\n",
      "Le Palacete 5\n",
      "Hotel Catalonia 505 3\n",
      "Ramblas 108 5\n",
      "Hotel Regencia Colon 4\n",
      "Hotel Del Mar 2.5\n",
      "Room Mate Pau Hotel 4\n",
      "Alimara 2.5\n",
      "Hotel Catalonia Diagonal Centro 4\n",
      "Park Hotel 4.5\n",
      "Hotel Crowne Plaza Fira Center 4.5\n",
      "AC Hotel by Marriott Barcelona Forum 3\n",
      "Hotel 54 Barceloneta 3.5\n",
      "Hotel Balmes 4.5\n",
      "Jorsu Catalana nan\n",
      "Senator Barcelona 2.5\n",
      "Gaudi Hotel Barcelona 2.5\n",
      "Gaudí nan\n",
      "Ibis 4.5\n",
      "The Corner Hotel 4.5\n",
      "Hotel Nouvel 3.5\n",
      "Motel One 4\n",
      "Campanile Barcelona Sud-Cornella 4\n",
      "Royal 4\n",
      "Monument Hotel 3.5\n",
      "Room Mate Anna Hotel 4.5\n",
      "Hotel Acta Splendid 3\n",
      "NH Constanza 3\n",
      "AC Hotel by Marriott Sants 4\n",
      "hotels barcelona spain 4.5\n",
      "Soho Barcelona 4\n",
      "Hostalin Barcelona 3\n",
      "Casa Marcelo 5\n",
      "AC Hotel by Marriott Victoria Suites 4.5\n",
      "Colors 2\n",
      "Hesperia Presidente 4\n",
      "Hotel Miramar 4\n",
      "Hotel Medicis 4\n",
      "Hotel NH Porta Barcelona 4\n",
      "Hotel Ciutadella Barcelona 3\n",
      "St. Christopher’s Inn 4\n",
      "B Hotel 4.5\n",
      "Catalonia Barcelona Golf 3\n",
      "Mihlton 5\n",
      "Ilunion Almirante 3\n",
      "Hotel Peninsular 4\n",
      "Banys Oriental 4.5\n",
      "Hotel Capri by Fraser 3.5\n",
      "Hotel Granados 83 4\n",
      "Hotel Oasis 4\n",
      "Ámister Art Hotel 4\n",
      "Hotel Regina 3\n",
      "St. Christopher’s Inn 4\n",
      "Silken Concordia 4\n",
      "H10 Art Gallery 3\n",
      "Gran Hotel Havana 4\n",
      "AC Hotel by Marriott Som 3\n",
      "Hotel Ciutat Barcelona 3.5\n",
      "Tryp Apolo Hotel 3\n",
      "Franquesa Malaguti nan\n",
      "Petit Palace Boqueria Garden 3.5\n",
      "Hotel Casa Camper 4.5\n",
      "Holiday Inn Express 3.5\n",
      "Siete Cero DOS Limpiezas Gestionadas nan\n",
      "Hotel Apsis Porta Marina 4\n",
      "Hotel Catalonia 3\n",
      "Banquetes Reunidos nan\n",
      "Fonda Espanya 4.5\n",
      "Exe Laietana Palace 2.5\n",
      "Hotel H10 4.5\n",
      "H10 Metropolitan 4\n",
      "Hotel Ohla Eixample 4\n",
      "Well and Come 5\n",
      "Hotel La Casa del Sol 5\n",
      "Meliá Barcelona 4\n",
      "Hotel Del Compte 4\n",
      "NH Eixample 3\n",
      "HCC Montblanc 3\n",
      "Hotel Bagués 5\n",
      "Hotel Porta Fira 4\n",
      "Santa Marta 5\n",
      "Petit Palace Museum 3.5\n",
      "Two Hotel 4.5\n",
      "Ibis Barcelona Centro 4\n",
      "Ficfrei nan\n",
      "H10 Cubik 4\n",
      "Fedasosa nan\n",
      "Hotel Advance 5\n",
      "Praktik Garden 3.5\n",
      "Hotel Barcelona House 2\n",
      "Hotel NH Barcelona Les Corts 3.5\n",
      "Four Points by Sheraton Barcelona Diagonal 4\n",
      "Four Points by Sheraton Barcelona Diagonal 4\n",
      "Hotel Apsis Sant Angelo 5\n",
      "ABaC Hotel 5\n",
      "Hotel Nuñez Urgel Comte D’urgell, 232 nan\n",
      "Silken Sant Gervasi 4\n",
      "Wilson 5\n",
      "Hostemplo nan\n",
      "Gestion Hotelera Ballester nan\n",
      "Hotel Pelayo 4\n",
      "Sunotel BCN 1\n",
      "Acta Mimic 3\n",
      "Marin Gonzalez Gabriel nan\n",
      "Hotel America 4.5\n",
      "Hotel Abba Garden 3.5\n",
      "Hotel Catalonia Portal de l’Angel 4\n",
      "City Park Hotel Sant Just nan\n",
      "Mercer Hoteles 5\n",
      "Hotel Reding 4\n",
      "Acta BCN 40 5\n",
      "OD Barcelona 5\n",
      "Acta BCN 40 5\n",
      "OD Barcelona 5\n",
      "Pullman 4\n",
      "Hotel NH Barcelona Entenza 4.5\n",
      "Hoteles Solvasa 1\n",
      "Hotel Ibis 3\n",
      "Fairmont Rey Juan Carlos I 4\n",
      "Intown Europe nan\n",
      "Rey Don Jaime I 1.5\n",
      "Vincci Gala 4 4.5\n",
      "H10 Montcada 4\n",
      "Almanac 5\n",
      "Hotel Denit 3.5\n",
      "Hotel Midmost 3.5\n",
      "Hotel Front Maritim 3\n",
      "Hotel Granvía 4\n",
      "roig cerrudo,ana 000950091r slne nan\n",
      "Sabor Intens nan\n",
      "Aparthotel Silver 4.5\n",
      "Chic&Basic Velvet 1\n",
      "Chic&Basic Velvet 1\n",
      "Hotel Catalonia Plaza Catalunya 4.5\n",
      "Omnium 4\n",
      "Ibis Styles nan\n",
      "Patacolls nan\n",
      "Hotel Fira Congress 3\n",
      "ANBA Bed And Breakfast 5\n",
      "Chic & Basic Lemon Boutique nan\n",
      "Tres Torres Atiram 3\n",
      "Abba Rambla 4\n"
     ]
    }
   ],
   "source": [
    "#### Rating\n",
    "rating = []\n",
    "container_class = 'container__09f24__mpR8_ hoverable__09f24__wQ_on margin-t3__09f24__riq4X margin-b3__09f24__l9v5d padding-t3__09f24__TMrIW padding-r3__09f24__eaF7p padding-b3__09f24__S8R2d padding-l3__09f24__IOjKY border--top__09f24__exYYb border--right__09f24__X7Tln border--bottom__09f24___mg5X border--left__09f24__DMOkM border-color--default__09f24__NPAKY'\n",
    "for row in hotel_soup:\n",
    "    soup = BeautifulSoup(row, 'html.parser')\n",
    "    result = soup.find_all(class_ = container_class)\n",
    "    for tag in result:\n",
    "        header_text = tag.div.div.div.nextSibling.div\n",
    "        rat = header_text.select_one('.overflow--hidden__09f24___ayzG')\n",
    "        \n",
    "        if rat is not None:\n",
    "            rating.append(rat['aria-label'].split()[0])\n",
    "\n",
    "            # print(rat['aria-label'])\n",
    "\n",
    "        else:\n",
    "            rating.append(np.nan)\n",
    "        \n",
    "# test\n",
    "for n, rat in zip(name, rating):\n",
    "    print(n, rat) "
   ]
  },
  {
   "cell_type": "markdown",
   "metadata": {},
   "source": [
    "#### Reviews"
   ]
  },
  {
   "cell_type": "code",
   "execution_count": 97,
   "metadata": {},
   "outputs": [
    {
     "name": "stdout",
     "output_type": "stream",
     "text": [
      "Barceló Raval 56\n",
      "Hotel 1898 76\n",
      "W Barcelona 176\n",
      "Hotel Continental Barcelona 12\n",
      "Pulitzer Barcelona 42\n",
      "Le Méridien Barcelona 84\n",
      "Hotel Cotton House 47\n",
      "Hotel Ayre Roselon 7\n",
      "Hotel Majestic 40\n",
      "Renaissance Barcelona Hotel 53\n",
      "Villa Emilia 25\n",
      "Hotel Arts Barcelona 103\n",
      "Mandarin Oriental 40\n",
      "Hotel Jazz 22\n",
      "K+K Hotel Picasso Barcelona 20\n",
      "Hotel Europark 46\n",
      "Grand Hotel Central 38\n",
      "Hotel Barcelona 1882 6\n",
      "Alma Barcelona 29\n",
      "Novotel Barcelona City 13\n",
      "Casa Fuster 24\n",
      "The Barcelona EDITION 21\n",
      "Hotel Barcelona Universal 41\n",
      "Hotel NH Collection Barcelona Gran Hotel Calderón 24\n",
      "H10 Madison 16\n",
      "Claris 31\n",
      "Alexandra Barcelona Hotel 45\n",
      "Hilton Barcelona Hotel 46\n",
      "Hotel Duquesa de Cardona 32\n",
      "Hotel Mercer 12\n",
      "Casa Bonay 15\n",
      "El Palace 20\n",
      "Hotel Praktik 18\n",
      "Hotel U232 29\n",
      "Soho House 5\n",
      "Hotel Catalonia Born 11\n",
      "Hotel Condes de Barcelona 15\n",
      "Hotel Sofia 6\n",
      "Olivia Balmes 28\n",
      "Colonial 4\n",
      "Best Western Premier Hotel Dante 9\n",
      "Arc la Rambla 9\n",
      "Vividora 2\n",
      "Hotel Colón 48\n",
      "H10 Port Vell 9\n",
      "Barcelona Airport Hotel 24\n",
      "Hotel España Ramblas 17\n",
      "Hotel Ohla 20\n",
      "AC Hotel Diagonal L’iIlla 3\n",
      "The Wittmore 10\n",
      "Hilton Diagonal Mar 67\n",
      "The One 2\n",
      "Hotel Catalonia Port 10\n",
      "Hotel Barcelona Catedral 15\n",
      "The Serras 14\n",
      "Sir Victor Hotel 25\n",
      "Room Mate Carla Hotel 22\n",
      "Gallery Hotel 23\n",
      "Iberostar Selection Paseo de Gracia 3\n",
      "Hostal Grau Barcelona 15\n",
      "Renaissance Barcelona Fira Hotel 35\n",
      "Do 13\n",
      "AC Hotel by Marriott Irla 12\n",
      "Axel 32\n",
      "Hotel Sagrada Familia 11\n",
      "Hotel Turin 3\n",
      "Hotel NH Collection Barcelona Pódium 6\n",
      "Eurostars Grand Marina 30\n",
      "Neri 21\n",
      "Millenni 4\n",
      "Hotel Cram 12\n",
      "Sallés Hotel 14\n",
      "Hotel Catalonia Eixample 1864 4\n",
      "Hotel Sixty Two 15\n",
      "Hotel Condal 6\n",
      "Rafaelhoteles Badalona 3\n",
      "Ayre Hotel Rosellón 11\n",
      "Andante Hotel 16\n",
      "Gaudi Hotel Barcelona 15\n",
      "H10 Catalunya Plaza 9\n",
      "Siresa Europea nan\n",
      "Gotico Hotel 11\n",
      "Majestic Residence 2\n",
      "Hotel Catalonia Park Guell 4\n",
      "Nobu Hotel Barcelona 1\n",
      "Royal Ramblas Hotel 14\n",
      "H10 Casa Mimosa 9\n",
      "Praktik Rambla 13\n",
      "Constanza 8\n",
      "Hotel Occidental Atenea Mar 7\n",
      "Olivia Plaza Hotel 19\n",
      "Barcelona Nouvel Hotel 3\n",
      "Ayre Hotel Caspe 7\n",
      "Avenida Palace 18\n",
      "The Mirror Hotel 17\n",
      "Equity Point Centric 11\n",
      "Hotel Medium Prisma 3\n",
      "Hotel Curious 15\n",
      "Hotel Lleó 7\n",
      "Le Palacete 1\n",
      "Hotel Catalonia 505 3\n",
      "Ramblas 108 1\n",
      "Hotel Regencia Colon 8\n",
      "Hotel Del Mar 7\n",
      "Room Mate Pau Hotel 9\n",
      "Alimara 8\n",
      "Hotel Catalonia Diagonal Centro 1\n",
      "Park Hotel 4\n",
      "Hotel Crowne Plaza Fira Center 22\n",
      "AC Hotel by Marriott Barcelona Forum 25\n",
      "Hotel 54 Barceloneta 4\n",
      "Hotel Balmes 8\n",
      "Jorsu Catalana nan\n",
      "Senator Barcelona 2\n",
      "Gaudi Hotel Barcelona 15\n",
      "Gaudí nan\n",
      "Ibis 7\n",
      "The Corner Hotel 17\n",
      "Hotel Nouvel 16\n",
      "Motel One 7\n",
      "Campanile Barcelona Sud-Cornella 2\n",
      "Royal 7\n",
      "Monument Hotel 3\n",
      "Room Mate Anna Hotel 9\n",
      "Hotel Acta Splendid 3\n",
      "NH Constanza 7\n",
      "AC Hotel by Marriott Sants 17\n",
      "hotels barcelona spain 3\n",
      "Soho Barcelona 9\n",
      "Hostalin Barcelona 2\n",
      "Casa Marcelo 1\n",
      "AC Hotel by Marriott Victoria Suites 4\n",
      "Colors 1\n",
      "Hesperia Presidente 14\n",
      "Hotel Miramar 15\n",
      "Hotel Medicis 2\n",
      "Hotel NH Porta Barcelona 1\n",
      "Hotel Ciutadella Barcelona 3\n",
      "St. Christopher’s Inn 20\n",
      "B Hotel 15\n",
      "Catalonia Barcelona Golf 1\n",
      "Mihlton 1\n",
      "Ilunion Almirante 6\n",
      "Hotel Peninsular 8\n",
      "Banys Oriental 13\n",
      "Hotel Capri by Fraser 3\n",
      "Hotel Granados 83 25\n",
      "Hotel Oasis 8\n",
      "Ámister Art Hotel 8\n",
      "Hotel Regina 8\n",
      "St. Christopher’s Inn 20\n",
      "Silken Concordia 10\n",
      "H10 Art Gallery 3\n",
      "Gran Hotel Havana 12\n",
      "AC Hotel by Marriott Som 6\n",
      "Hotel Ciutat Barcelona 13\n",
      "Tryp Apolo Hotel 35\n",
      "Franquesa Malaguti nan\n",
      "Petit Palace Boqueria Garden 21\n",
      "Hotel Casa Camper 30\n",
      "Holiday Inn Express 15\n",
      "Siete Cero DOS Limpiezas Gestionadas nan\n",
      "Hotel Apsis Porta Marina 1\n",
      "Hotel Catalonia 7\n",
      "Banquetes Reunidos nan\n",
      "Fonda Espanya 10\n",
      "Exe Laietana Palace 7\n",
      "Hotel H10 7\n",
      "H10 Metropolitan 4\n",
      "Hotel Ohla Eixample 5\n",
      "Well and Come 3\n",
      "Hotel La Casa del Sol 2\n",
      "Meliá Barcelona 19\n",
      "Hotel Del Compte 2\n",
      "NH Eixample 7\n",
      "HCC Montblanc 12\n",
      "Hotel Bagués 8\n",
      "Hotel Porta Fira 27\n",
      "Santa Marta 2\n",
      "Petit Palace Museum 5\n",
      "Two Hotel 17\n",
      "Ibis Barcelona Centro 6\n",
      "Ficfrei nan\n",
      "H10 Cubik 16\n",
      "Fedasosa nan\n",
      "Hotel Advance 4\n",
      "Praktik Garden 13\n",
      "Hotel Barcelona House 13\n",
      "Hotel NH Barcelona Les Corts 2\n",
      "Four Points by Sheraton Barcelona Diagonal 26\n",
      "Four Points by Sheraton Barcelona Diagonal 26\n",
      "Hotel Apsis Sant Angelo 1\n",
      "ABaC Hotel 4\n",
      "Hotel Nuñez Urgel Comte D’urgell, 232 nan\n",
      "Silken Sant Gervasi 5\n",
      "Wilson 10\n",
      "Hostemplo nan\n",
      "Gestion Hotelera Ballester nan\n",
      "Hotel Pelayo 1\n",
      "Sunotel BCN 2\n",
      "Acta Mimic 7\n",
      "Marin Gonzalez Gabriel nan\n",
      "Hotel America 7\n",
      "Hotel Abba Garden 3\n",
      "Hotel Catalonia Portal de l’Angel 5\n",
      "City Park Hotel Sant Just nan\n",
      "Mercer Hoteles 1\n",
      "Hotel Reding 10\n",
      "Acta BCN 40 2\n",
      "OD Barcelona 5\n",
      "Acta BCN 40 2\n",
      "OD Barcelona 5\n",
      "Pullman 22\n",
      "Hotel NH Barcelona Entenza 3\n",
      "Hoteles Solvasa 1\n",
      "Hotel Ibis 2\n",
      "Fairmont Rey Juan Carlos I 29\n",
      "Intown Europe nan\n",
      "Rey Don Jaime I 3\n",
      "Vincci Gala 4 7\n",
      "H10 Montcada 19\n",
      "Almanac 7\n",
      "Hotel Denit 17\n",
      "Hotel Midmost 9\n",
      "Hotel Front Maritim 4\n",
      "Hotel Granvía 22\n",
      "roig cerrudo,ana 000950091r slne nan\n",
      "Sabor Intens nan\n",
      "Aparthotel Silver 11\n",
      "Chic&Basic Velvet 1\n",
      "Chic&Basic Velvet 1\n",
      "Hotel Catalonia Plaza Catalunya 5\n",
      "Omnium 3\n",
      "Ibis Styles nan\n",
      "Patacolls nan\n",
      "Hotel Fira Congress 11\n",
      "ANBA Bed And Breakfast 4\n",
      "Chic & Basic Lemon Boutique nan\n",
      "Tres Torres Atiram 1\n",
      "Abba Rambla 5\n"
     ]
    }
   ],
   "source": [
    "reviews = []\n",
    "container_class = 'container__09f24__mpR8_ hoverable__09f24__wQ_on margin-t3__09f24__riq4X margin-b3__09f24__l9v5d padding-t3__09f24__TMrIW padding-r3__09f24__eaF7p padding-b3__09f24__S8R2d padding-l3__09f24__IOjKY border--top__09f24__exYYb border--right__09f24__X7Tln border--bottom__09f24___mg5X border--left__09f24__DMOkM border-color--default__09f24__NPAKY'\n",
    "for row in hotel_soup:\n",
    "    soup = BeautifulSoup(row, 'html.parser')\n",
    "    result = soup.find_all(class_ = container_class)\n",
    "    for tag in result:\n",
    "        header_text = tag.div.div.div.nextSibling.div\n",
    "        rev = header_text.select_one('.reviewCount__09f24__tnBk4')\n",
    "        \n",
    "        if rev is not None:\n",
    "            \n",
    "            reviews.append(rev.text)\n",
    "\n",
    "\n",
    "        else:\n",
    "            reviews.append(np.nan)\n",
    "        \n",
    "#test\n",
    "for n, rev in zip(name, reviews):\n",
    "    print(n, rev) "
   ]
  },
  {
   "cell_type": "markdown",
   "metadata": {},
   "source": [
    "#### Location"
   ]
  },
  {
   "cell_type": "code",
   "execution_count": 98,
   "metadata": {},
   "outputs": [
    {
     "data": {
      "text/plain": [
       "(259,)"
      ]
     },
     "execution_count": 98,
     "metadata": {},
     "output_type": "execute_result"
    }
   ],
   "source": [
    "hotel_soup2.shape"
   ]
  },
  {
   "cell_type": "code",
   "execution_count": 99,
   "metadata": {},
   "outputs": [],
   "source": [
    "#### Location\n",
    "\n",
    "location = [] \n",
    "for row in hotel_soup2:\n",
    "    soup = BeautifulSoup(row, 'html.parser')\n",
    "    result = soup.select('address .raw__09f24__T4Ezm')\n",
    "    adress_elements = []\n",
    "    for tag in result:\n",
    "        adress_elements.append(tag.text)\n",
    "    location.append( '::'.join(adress_elements) )"
   ]
  },
  {
   "cell_type": "code",
   "execution_count": 100,
   "metadata": {},
   "outputs": [],
   "source": [
    "location_hotel_df = pd.DataFrame({'name': hotel_soup2.index, 'location': location})\n",
    "# for n, loc in zip(hotel_soup2.index, location):\n",
    "#     print(n,loc)"
   ]
  },
  {
   "cell_type": "code",
   "execution_count": 101,
   "metadata": {},
   "outputs": [
    {
     "data": {
      "text/plain": [
       "3    231\n",
       "1     26\n",
       "4      2\n",
       "Name: location, dtype: int64"
      ]
     },
     "execution_count": 101,
     "metadata": {},
     "output_type": "execute_result"
    }
   ],
   "source": [
    "location_hotel_df.location.str.split('::').apply(lambda x: len(x)).value_counts()"
   ]
  },
  {
   "cell_type": "code",
   "execution_count": 102,
   "metadata": {},
   "outputs": [],
   "source": [
    "location_hotel_df['street'] = location_hotel_df.location.str.split('::').apply(lambda x: x[0])\n",
    "location_hotel_df['postal_code'] = location_hotel_df.location.str.split('::').apply(lambda x: x[1] if len(x) == 3 else np.nan)"
   ]
  },
  {
   "cell_type": "markdown",
   "metadata": {},
   "source": [
    "#### Website"
   ]
  },
  {
   "cell_type": "code",
   "execution_count": null,
   "metadata": {},
   "outputs": [],
   "source": [
    "#### Website\n",
    "website = []\n",
    "for row in hotel_soup2:\n",
    "    soup = BeautifulSoup(row, 'html.parser')\n",
    "    result = soup.select_one('.css-na3oda+ .css-1p9ibgf .css-1um3nx')\n",
    "    # for tag in result:\n",
    "    if result is not None:\n",
    "        website.append( result.text ) \n",
    "\n",
    "    else:\n",
    "        website.append(np.nan)\n",
    "\n"
   ]
  },
  {
   "cell_type": "code",
   "execution_count": null,
   "metadata": {},
   "outputs": [],
   "source": [
    "for n, web in zip(hotel_soup2.index, website):\n",
    "    print(n,web)"
   ]
  },
  {
   "cell_type": "markdown",
   "metadata": {},
   "source": [
    "#### Number of photos"
   ]
  },
  {
   "cell_type": "code",
   "execution_count": 103,
   "metadata": {},
   "outputs": [],
   "source": [
    "#### Number of photos\n",
    "nb_photos = []\n",
    "photo_header_class = 'photo-header-content-container__09f24__jDLBB border-color--default__09f24__NPAKY'\n",
    "for row in hotel_soup2:\n",
    "    soup = BeautifulSoup(row, 'html.parser')\n",
    "    photo_header = soup.find(class_ = photo_header_class)\n",
    "    if photo_header is not None:\n",
    "\n",
    "        nb_photos.append(  pd.Series(photo_header.text).str.extract(r'See (\\d+) photos').squeeze()  )\n",
    "        # print('-'*100)\n",
    "\n",
    "    else:\n",
    "        nb_photos.append(np.nan)\n",
    "    \n",
    "\n"
   ]
  },
  {
   "cell_type": "code",
   "execution_count": 104,
   "metadata": {},
   "outputs": [
    {
     "name": "stdout",
     "output_type": "stream",
     "text": [
      "Barceló Raval 157\n",
      "Hotel 1898 156\n",
      "W Barcelona 464\n",
      "Hotel Continental Barcelona 8\n",
      "Pulitzer Barcelona 100\n",
      "Le Méridien Barcelona 161\n",
      "Hotel Cotton House 151\n",
      "Hotel Ayre Roselon 16\n",
      "Hotel Majestic 129\n",
      "Renaissance Barcelona Hotel 197\n",
      "Villa Emilia 94\n",
      "Hotel Arts Barcelona 287\n",
      "Mandarin Oriental 106\n",
      "Hotel Jazz 23\n",
      "K+K Hotel Picasso Barcelona 79\n",
      "Hotel Europark 105\n",
      "Grand Hotel Central 151\n",
      "Hotel Barcelona 1882 37\n",
      "Alma Barcelona 75\n",
      "Novotel Barcelona City 21\n",
      "Casa Fuster 49\n",
      "The Barcelona EDITION 78\n",
      "Hotel Barcelona Universal 63\n",
      "Hotel NH Collection Barcelona Gran Hotel Calderón 62\n",
      "H10 Madison 62\n",
      "Claris 56\n",
      "Alexandra Barcelona Hotel 159\n",
      "Hilton Barcelona Hotel 157\n",
      "Hotel Duquesa de Cardona 84\n",
      "Hotel Mercer 16\n",
      "Casa Bonay 34\n",
      "El Palace 71\n",
      "Hotel Praktik 34\n",
      "Hotel U232 54\n",
      "Soho House nan\n",
      "Hotel Catalonia Born 6\n",
      "Hotel Condes de Barcelona 35\n",
      "Hotel Sofia 14\n",
      "Olivia Balmes 55\n",
      "Colonial 61\n",
      "Best Western Premier Hotel Dante 63\n",
      "Arc la Rambla 14\n",
      "Vividora nan\n",
      "Hotel Colón 78\n",
      "H10 Port Vell 18\n",
      "Barcelona Airport Hotel nan\n",
      "Hotel España Ramblas 51\n",
      "Hotel Ohla 14\n",
      "AC Hotel Diagonal L’iIlla 25\n",
      "The Wittmore 115\n",
      "Hilton Diagonal Mar 237\n",
      "The One 9\n",
      "Hotel Catalonia Port 13\n",
      "Hotel Barcelona Catedral 23\n",
      "The Serras 44\n",
      "Sir Victor Hotel 100\n",
      "Room Mate Carla Hotel 45\n",
      "Gallery Hotel 14\n",
      "Iberostar Selection Paseo de Gracia 4\n",
      "Hostal Grau Barcelona 36\n",
      "Renaissance Barcelona Fira Hotel 147\n",
      "Do 18\n",
      "AC Hotel by Marriott Irla 22\n",
      "Axel 34\n",
      "Hotel Sagrada Familia 17\n",
      "Hotel Turin 16\n",
      "Hotel NH Collection Barcelona Pódium 55\n",
      "Eurostars Grand Marina 57\n",
      "Neri 28\n",
      "Millenni nan\n",
      "Hotel Cram 34\n",
      "Sallés Hotel 26\n",
      "Hotel Catalonia Eixample 1864 5\n",
      "Hotel Sixty Two 68\n",
      "Hotel Condal 6\n",
      "Rafaelhoteles Badalona nan\n",
      "Ayre Hotel Rosellón 34\n",
      "Andante Hotel 17\n",
      "Gaudi Hotel Barcelona nan\n",
      "H10 Catalunya Plaza 57\n",
      "Siresa Europea nan\n",
      "Gotico Hotel 55\n",
      "Majestic Residence 36\n",
      "Hotel Catalonia Park Guell 8\n",
      "Nobu Hotel Barcelona 14\n",
      "Royal Ramblas Hotel 6\n",
      "H10 Casa Mimosa 4\n",
      "Praktik Rambla 20\n",
      "Constanza 17\n",
      "Hotel Occidental Atenea Mar 27\n",
      "Olivia Plaza Hotel 42\n",
      "Barcelona Nouvel Hotel nan\n",
      "Ayre Hotel Caspe 6\n",
      "Avenida Palace 26\n",
      "The Mirror Hotel 32\n",
      "Equity Point Centric 16\n",
      "Hotel Medium Prisma 23\n",
      "Hotel Curious 13\n",
      "Hotel Lleó nan\n",
      "Le Palacete 8\n",
      "Hotel Catalonia 505 24\n",
      "Ramblas 108 nan\n",
      "Hotel Regencia Colon 10\n",
      "Hotel Del Mar 54\n",
      "Room Mate Pau Hotel 58\n",
      "Alimara nan\n",
      "Hotel Catalonia Diagonal Centro 11\n",
      "Park Hotel 31\n",
      "Hotel Crowne Plaza Fira Center 42\n",
      "AC Hotel by Marriott Barcelona Forum 44\n",
      "Hotel 54 Barceloneta 19\n",
      "Hotel Balmes 55\n",
      "Jorsu Catalana nan\n",
      "Senator Barcelona 16\n",
      "Gaudí nan\n",
      "Ibis 8\n",
      "The Corner Hotel 34\n",
      "Hotel Nouvel 29\n",
      "Motel One 30\n",
      "Campanile Barcelona Sud-Cornella nan\n",
      "Royal 33\n",
      "Monument Hotel 9\n",
      "Room Mate Anna Hotel 18\n",
      "Hotel Acta Splendid nan\n",
      "NH Constanza 21\n",
      "AC Hotel by Marriott Sants 47\n",
      "hotels barcelona spain 54\n",
      "Soho Barcelona 16\n",
      "Hostalin Barcelona nan\n",
      "Casa Marcelo 4\n",
      "AC Hotel by Marriott Victoria Suites 14\n",
      "Colors nan\n",
      "Hesperia Presidente 10\n",
      "Hotel Miramar 37\n",
      "Hotel Medicis 5\n",
      "Hotel NH Porta Barcelona 5\n",
      "Hotel Ciutadella Barcelona 40\n",
      "St. Christopher’s Inn nan\n",
      "B Hotel 18\n",
      "Catalonia Barcelona Golf nan\n",
      "Mihlton nan\n",
      "Ilunion Almirante nan\n",
      "Hotel Peninsular nan\n",
      "Banys Oriental nan\n",
      "Hotel Capri by Fraser nan\n",
      "Hotel Granados 83 nan\n",
      "Hotel Oasis nan\n",
      "Ámister Art Hotel nan\n",
      "Hotel Regina nan\n",
      "Silken Concordia nan\n",
      "H10 Art Gallery nan\n",
      "Gran Hotel Havana nan\n",
      "AC Hotel by Marriott Som nan\n",
      "Hotel Ciutat Barcelona nan\n",
      "Tryp Apolo Hotel nan\n",
      "Franquesa Malaguti nan\n",
      "Petit Palace Boqueria Garden nan\n",
      "Hotel Casa Camper nan\n",
      "Holiday Inn Express nan\n",
      "Siete Cero DOS Limpiezas Gestionadas nan\n",
      "Hotel Apsis Porta Marina nan\n",
      "Hotel Catalonia nan\n",
      "Banquetes Reunidos nan\n",
      "Chic&Basic Velvet 19\n",
      "Hotel Catalonia Plaza Catalunya 8\n",
      "Omnium 13\n",
      "Ibis Styles nan\n",
      "Patacolls nan\n",
      "Hotel Fira Congress 5\n",
      "ANBA Bed And Breakfast 9\n",
      "Chic & Basic Lemon Boutique 9\n",
      "Tres Torres Atiram 11\n",
      "Abba Rambla 5\n",
      "H10 Montcada 20\n",
      "Almanac 17\n",
      "Hotel Denit 43\n",
      "Hotel Midmost 17\n",
      "Hotel Front Maritim 6\n",
      "Hotel Granvía 53\n",
      "roig cerrudo,ana 000950091r slne nan\n",
      "Sabor Intens nan\n",
      "Aparthotel Silver 37\n",
      "Acta BCN 40 nan\n",
      "OD Barcelona 11\n",
      "Pullman 103\n",
      "Hotel NH Barcelona Entenza 29\n",
      "Hoteles Solvasa nan\n",
      "Hotel Ibis 16\n",
      "Fairmont Rey Juan Carlos I 71\n",
      "Intown Europe nan\n",
      "Rey Don Jaime I nan\n",
      "Vincci Gala 4 21\n",
      "Acta Mimic 11\n",
      "Marin Gonzalez Gabriel nan\n",
      "Hotel America 10\n",
      "Hotel Abba Garden 30\n",
      "Hotel Catalonia Portal de l’Angel 9\n",
      "City Park Hotel Sant Just nan\n",
      "Mercer Hoteles nan\n",
      "Hotel Reding nan\n",
      "Four Points by Sheraton Barcelona Diagonal 46\n",
      "Hotel Apsis Sant Angelo 11\n",
      "ABaC Hotel 40\n",
      "Hotel Nuñez Urgel Comte D’urgell, 232 nan\n",
      "Silken Sant Gervasi 9\n",
      "Wilson 12\n",
      "Hostemplo nan\n",
      "Gestion Hotelera Ballester nan\n",
      "Hotel Pelayo nan\n",
      "Sunotel BCN nan\n",
      "Two Hotel 13\n",
      "Ibis Barcelona Centro 6\n",
      "Ficfrei nan\n",
      "H10 Cubik 49\n",
      "Fedasosa nan\n",
      "Hotel Advance 12\n",
      "Praktik Garden 14\n",
      "Hotel Barcelona House 7\n",
      "Hotel NH Barcelona Les Corts 33\n",
      "Well and Come 5\n",
      "Hotel La Casa del Sol nan\n",
      "Meliá Barcelona 53\n",
      "Hotel Del Compte 10\n",
      "NH Eixample 7\n",
      "HCC Montblanc 11\n",
      "Hotel Bagués 22\n",
      "Hotel Porta Fira 73\n",
      "Santa Marta nan\n",
      "Petit Palace Museum 9\n",
      "Holiday Inn Express.1 nan\n",
      "Siete Cero DOS Limpiezas Gestionadas.1 nan\n",
      "Hotel Apsis Porta Marina.1 4\n",
      "Hotel Catalonia.1 7\n",
      "Banquetes Reunidos.1 nan\n",
      "Fonda Espanya 28\n",
      "Exe Laietana Palace 4\n",
      "Hotel H10 23\n",
      "H10 Metropolitan 67\n",
      "Hotel Ohla Eixample 6\n",
      "St. Christopher’s Inn.1 14\n",
      "Silken Concordia.1 14\n",
      "H10 Art Gallery.1 7\n",
      "Gran Hotel Havana.1 73\n",
      "AC Hotel by Marriott Som.1 32\n",
      "Hotel Ciutat Barcelona.1 7\n",
      "Tryp Apolo Hotel.1 65\n",
      "Franquesa Malaguti.1 nan\n",
      "Petit Palace Boqueria Garden.1 71\n",
      "Hotel Casa Camper.1 27\n",
      "Catalonia Barcelona Golf.1 nan\n",
      "Mihlton.1 nan\n",
      "Ilunion Almirante.1 nan\n",
      "Hotel Peninsular.1 nan\n",
      "Banys Oriental.1 5\n",
      "Hotel Capri by Fraser.1 31\n",
      "Hotel Granados 83.1 33\n",
      "Hotel Oasis.1 4\n",
      "Ámister Art Hotel.1 24\n",
      "Hotel Regina.1 27\n"
     ]
    }
   ],
   "source": [
    "for n, photo in zip(hotel_soup2.index, nb_photos):\n",
    "    print(n, photo)"
   ]
  },
  {
   "cell_type": "code",
   "execution_count": 105,
   "metadata": {},
   "outputs": [],
   "source": [
    "photo_hotel_df = pd.DataFrame({'name': hotel_soup2.index, 'nb_photos': nb_photos})"
   ]
  },
  {
   "cell_type": "markdown",
   "metadata": {},
   "source": [
    "#### Opening hours\n",
    "Most of the hotels open 24 hours...so opening hours would not be helpful here\n",
    "We can skip it for now"
   ]
  },
  {
   "cell_type": "markdown",
   "metadata": {},
   "source": [
    "#### Amenities"
   ]
  },
  {
   "cell_type": "markdown",
   "metadata": {},
   "source": [
    "#### Hotel dataset"
   ]
  },
  {
   "cell_type": "code",
   "execution_count": 106,
   "metadata": {},
   "outputs": [],
   "source": [
    "# Elements from first page\n",
    "hotel_df = pd.DataFrame({'name':name, 'rating':rating, 'reviews': reviews, 'price_range': price_range})"
   ]
  },
  {
   "cell_type": "code",
   "execution_count": 107,
   "metadata": {},
   "outputs": [
    {
     "data": {
      "text/html": [
       "<div>\n",
       "<style scoped>\n",
       "    .dataframe tbody tr th:only-of-type {\n",
       "        vertical-align: middle;\n",
       "    }\n",
       "\n",
       "    .dataframe tbody tr th {\n",
       "        vertical-align: top;\n",
       "    }\n",
       "\n",
       "    .dataframe thead th {\n",
       "        text-align: right;\n",
       "    }\n",
       "</style>\n",
       "<table border=\"1\" class=\"dataframe\">\n",
       "  <thead>\n",
       "    <tr style=\"text-align: right;\">\n",
       "      <th></th>\n",
       "      <th>name</th>\n",
       "      <th>rating</th>\n",
       "      <th>reviews</th>\n",
       "      <th>price_range</th>\n",
       "      <th>street</th>\n",
       "      <th>postal_code</th>\n",
       "    </tr>\n",
       "  </thead>\n",
       "  <tbody>\n",
       "    <tr>\n",
       "      <th>0</th>\n",
       "      <td>Barceló Raval</td>\n",
       "      <td>4.5</td>\n",
       "      <td>56</td>\n",
       "      <td>€€</td>\n",
       "      <td>Rambla del Raval, 17 - 21</td>\n",
       "      <td>08001 Barcelona</td>\n",
       "    </tr>\n",
       "    <tr>\n",
       "      <th>1</th>\n",
       "      <td>Hotel 1898</td>\n",
       "      <td>4.5</td>\n",
       "      <td>76</td>\n",
       "      <td>€€€</td>\n",
       "      <td>La Rambla, 109</td>\n",
       "      <td>08002 Barcelona</td>\n",
       "    </tr>\n",
       "    <tr>\n",
       "      <th>2</th>\n",
       "      <td>W Barcelona</td>\n",
       "      <td>4</td>\n",
       "      <td>176</td>\n",
       "      <td>€€€€</td>\n",
       "      <td>Plaça de la Rosa dels Vents, 1</td>\n",
       "      <td>08039 Barcelona</td>\n",
       "    </tr>\n",
       "    <tr>\n",
       "      <th>3</th>\n",
       "      <td>Hotel Continental Barcelona</td>\n",
       "      <td>4.5</td>\n",
       "      <td>12</td>\n",
       "      <td>€</td>\n",
       "      <td>Paseo la Rambla, 138</td>\n",
       "      <td>08002 Barcelona</td>\n",
       "    </tr>\n",
       "    <tr>\n",
       "      <th>4</th>\n",
       "      <td>Pulitzer Barcelona</td>\n",
       "      <td>4</td>\n",
       "      <td>42</td>\n",
       "      <td>€€</td>\n",
       "      <td>Carrer Bergara, 8</td>\n",
       "      <td>08002 Barcelona</td>\n",
       "    </tr>\n",
       "    <tr>\n",
       "      <th>...</th>\n",
       "      <td>...</td>\n",
       "      <td>...</td>\n",
       "      <td>...</td>\n",
       "      <td>...</td>\n",
       "      <td>...</td>\n",
       "      <td>...</td>\n",
       "    </tr>\n",
       "    <tr>\n",
       "      <th>235</th>\n",
       "      <td>Hotel Fira Congress</td>\n",
       "      <td>3</td>\n",
       "      <td>11</td>\n",
       "      <td>NaN</td>\n",
       "      <td>Carrer de Jose Augustin Goytisolo, 9-11</td>\n",
       "      <td>08908 Hospitalet de Llobregat</td>\n",
       "    </tr>\n",
       "    <tr>\n",
       "      <th>236</th>\n",
       "      <td>ANBA Bed And Breakfast</td>\n",
       "      <td>5</td>\n",
       "      <td>4</td>\n",
       "      <td>NaN</td>\n",
       "      <td>Ronda de Sant Pere, 27</td>\n",
       "      <td>08010 Barcelona</td>\n",
       "    </tr>\n",
       "    <tr>\n",
       "      <th>237</th>\n",
       "      <td>Chic &amp; Basic Lemon Boutique</td>\n",
       "      <td>NaN</td>\n",
       "      <td>NaN</td>\n",
       "      <td>NaN</td>\n",
       "      <td>Carrer de Pelai, 6</td>\n",
       "      <td>08001 Barcelona</td>\n",
       "    </tr>\n",
       "    <tr>\n",
       "      <th>238</th>\n",
       "      <td>Tres Torres Atiram</td>\n",
       "      <td>3</td>\n",
       "      <td>1</td>\n",
       "      <td>€€</td>\n",
       "      <td>Carrer de Calatrava, 32</td>\n",
       "      <td>08017 Barcelona</td>\n",
       "    </tr>\n",
       "    <tr>\n",
       "      <th>239</th>\n",
       "      <td>Abba Rambla</td>\n",
       "      <td>4</td>\n",
       "      <td>5</td>\n",
       "      <td>€€</td>\n",
       "      <td>Rambla del Raval, 4C</td>\n",
       "      <td>08001 Barcelona</td>\n",
       "    </tr>\n",
       "  </tbody>\n",
       "</table>\n",
       "<p>240 rows × 6 columns</p>\n",
       "</div>"
      ],
      "text/plain": [
       "                            name rating reviews price_range  \\\n",
       "0                  Barceló Raval    4.5      56          €€   \n",
       "1                     Hotel 1898    4.5      76         €€€   \n",
       "2                    W Barcelona      4     176        €€€€   \n",
       "3    Hotel Continental Barcelona    4.5      12           €   \n",
       "4             Pulitzer Barcelona      4      42          €€   \n",
       "..                           ...    ...     ...         ...   \n",
       "235          Hotel Fira Congress      3      11         NaN   \n",
       "236       ANBA Bed And Breakfast      5       4         NaN   \n",
       "237  Chic & Basic Lemon Boutique    NaN     NaN         NaN   \n",
       "238           Tres Torres Atiram      3       1          €€   \n",
       "239                  Abba Rambla      4       5          €€   \n",
       "\n",
       "                                      street                    postal_code  \n",
       "0                  Rambla del Raval, 17 - 21                08001 Barcelona  \n",
       "1                             La Rambla, 109                08002 Barcelona  \n",
       "2             Plaça de la Rosa dels Vents, 1                08039 Barcelona  \n",
       "3                       Paseo la Rambla, 138                08002 Barcelona  \n",
       "4                          Carrer Bergara, 8                08002 Barcelona  \n",
       "..                                       ...                            ...  \n",
       "235  Carrer de Jose Augustin Goytisolo, 9-11  08908 Hospitalet de Llobregat  \n",
       "236                   Ronda de Sant Pere, 27                08010 Barcelona  \n",
       "237                       Carrer de Pelai, 6                08001 Barcelona  \n",
       "238                  Carrer de Calatrava, 32                08017 Barcelona  \n",
       "239                     Rambla del Raval, 4C                08001 Barcelona  \n",
       "\n",
       "[240 rows x 6 columns]"
      ]
     },
     "execution_count": 107,
     "metadata": {},
     "output_type": "execute_result"
    }
   ],
   "source": [
    "# Elements from second page\n",
    "# location\n",
    "hotel_df = pd.merge(hotel_df, location_hotel_df, 'left').drop('location', axis = 1)\n",
    "hotel_df"
   ]
  },
  {
   "cell_type": "code",
   "execution_count": 108,
   "metadata": {},
   "outputs": [],
   "source": [
    "hotel_df = pd.merge(hotel_df, photo_hotel_df, 'left')"
   ]
  },
  {
   "cell_type": "code",
   "execution_count": 109,
   "metadata": {},
   "outputs": [
    {
     "name": "stdout",
     "output_type": "stream",
     "text": [
      "<class 'pandas.core.frame.DataFrame'>\n",
      "Int64Index: 240 entries, 0 to 239\n",
      "Data columns (total 7 columns):\n",
      " #   Column       Non-Null Count  Dtype \n",
      "---  ------       --------------  ----- \n",
      " 0   name         240 non-null    object\n",
      " 1   rating       221 non-null    object\n",
      " 2   reviews      221 non-null    object\n",
      " 3   price_range  175 non-null    object\n",
      " 4   street       240 non-null    object\n",
      " 5   postal_code  211 non-null    object\n",
      " 6   nb_photos    174 non-null    object\n",
      "dtypes: object(7)\n",
      "memory usage: 15.0+ KB\n"
     ]
    }
   ],
   "source": [
    "hotel_df.info()"
   ]
  },
  {
   "cell_type": "code",
   "execution_count": 110,
   "metadata": {},
   "outputs": [
    {
     "data": {
      "text/plain": [
       "nb_photos      66\n",
       "price_range    65\n",
       "postal_code    29\n",
       "reviews        19\n",
       "rating         19\n",
       "street          0\n",
       "name            0\n",
       "dtype: int64"
      ]
     },
     "execution_count": 110,
     "metadata": {},
     "output_type": "execute_result"
    }
   ],
   "source": [
    "# Missing values\n",
    "hotel_df.isnull().sum().sort_values(ascending=False)"
   ]
  },
  {
   "cell_type": "code",
   "execution_count": 111,
   "metadata": {},
   "outputs": [
    {
     "data": {
      "text/html": [
       "<div>\n",
       "<style scoped>\n",
       "    .dataframe tbody tr th:only-of-type {\n",
       "        vertical-align: middle;\n",
       "    }\n",
       "\n",
       "    .dataframe tbody tr th {\n",
       "        vertical-align: top;\n",
       "    }\n",
       "\n",
       "    .dataframe thead th {\n",
       "        text-align: right;\n",
       "    }\n",
       "</style>\n",
       "<table border=\"1\" class=\"dataframe\">\n",
       "  <thead>\n",
       "    <tr style=\"text-align: right;\">\n",
       "      <th></th>\n",
       "      <th>name</th>\n",
       "      <th>rating</th>\n",
       "      <th>reviews</th>\n",
       "      <th>price_range</th>\n",
       "      <th>street</th>\n",
       "      <th>postal_code</th>\n",
       "      <th>nb_photos</th>\n",
       "    </tr>\n",
       "  </thead>\n",
       "  <tbody>\n",
       "    <tr>\n",
       "      <th>114</th>\n",
       "      <td>Gaudi Hotel Barcelona</td>\n",
       "      <td>2.5</td>\n",
       "      <td>15</td>\n",
       "      <td>NaN</td>\n",
       "      <td>Calle NOU de la Rambla, 12</td>\n",
       "      <td>08001 Barcelona</td>\n",
       "      <td>NaN</td>\n",
       "    </tr>\n",
       "    <tr>\n",
       "      <th>150</th>\n",
       "      <td>St. Christopher’s Inn</td>\n",
       "      <td>4</td>\n",
       "      <td>20</td>\n",
       "      <td>NaN</td>\n",
       "      <td></td>\n",
       "      <td>NaN</td>\n",
       "      <td>NaN</td>\n",
       "    </tr>\n",
       "    <tr>\n",
       "      <th>190</th>\n",
       "      <td>Four Points by Sheraton Barcelona Diagonal</td>\n",
       "      <td>4</td>\n",
       "      <td>26</td>\n",
       "      <td>€€</td>\n",
       "      <td>Avenida Diagonal, 161</td>\n",
       "      <td>08018 Barcelona</td>\n",
       "      <td>46</td>\n",
       "    </tr>\n",
       "    <tr>\n",
       "      <th>210</th>\n",
       "      <td>Acta BCN 40</td>\n",
       "      <td>5</td>\n",
       "      <td>2</td>\n",
       "      <td>NaN</td>\n",
       "      <td>c/ Joaquin Costa 40</td>\n",
       "      <td>08001 Barcelona</td>\n",
       "      <td>NaN</td>\n",
       "    </tr>\n",
       "    <tr>\n",
       "      <th>211</th>\n",
       "      <td>OD Barcelona</td>\n",
       "      <td>5</td>\n",
       "      <td>5</td>\n",
       "      <td>NaN</td>\n",
       "      <td>Carrer d'Aragó, 300</td>\n",
       "      <td>08009 Barcelona</td>\n",
       "      <td>11</td>\n",
       "    </tr>\n",
       "    <tr>\n",
       "      <th>230</th>\n",
       "      <td>Chic&amp;Basic Velvet</td>\n",
       "      <td>1</td>\n",
       "      <td>1</td>\n",
       "      <td>NaN</td>\n",
       "      <td>Carrer del Consell de Cent, 74</td>\n",
       "      <td>08015 Barcelona</td>\n",
       "      <td>19</td>\n",
       "    </tr>\n",
       "  </tbody>\n",
       "</table>\n",
       "</div>"
      ],
      "text/plain": [
       "                                           name rating reviews price_range  \\\n",
       "114                       Gaudi Hotel Barcelona    2.5      15         NaN   \n",
       "150                       St. Christopher’s Inn      4      20         NaN   \n",
       "190  Four Points by Sheraton Barcelona Diagonal      4      26          €€   \n",
       "210                                 Acta BCN 40      5       2         NaN   \n",
       "211                                OD Barcelona      5       5         NaN   \n",
       "230                           Chic&Basic Velvet      1       1         NaN   \n",
       "\n",
       "                             street      postal_code nb_photos  \n",
       "114      Calle NOU de la Rambla, 12  08001 Barcelona       NaN  \n",
       "150                                              NaN       NaN  \n",
       "190           Avenida Diagonal, 161  08018 Barcelona        46  \n",
       "210             c/ Joaquin Costa 40  08001 Barcelona       NaN  \n",
       "211             Carrer d'Aragó, 300  08009 Barcelona        11  \n",
       "230  Carrer del Consell de Cent, 74  08015 Barcelona        19  "
      ]
     },
     "execution_count": 111,
     "metadata": {},
     "output_type": "execute_result"
    }
   ],
   "source": [
    "# duplicates values\n",
    "hotel_df[hotel_df.duplicated()]"
   ]
  },
  {
   "cell_type": "code",
   "execution_count": 112,
   "metadata": {},
   "outputs": [],
   "source": [
    "# drop duplicates\n",
    "hotel_df.drop_duplicates(inplace=True)"
   ]
  },
  {
   "cell_type": "markdown",
   "metadata": {},
   "source": [
    "#### Cleaning"
   ]
  },
  {
   "cell_type": "code",
   "execution_count": 113,
   "metadata": {},
   "outputs": [
    {
     "name": "stdout",
     "output_type": "stream",
     "text": [
      "0    11\n",
      "1    12\n",
      "2    33\n",
      "3    34\n",
      "4    66\n",
      "5    67\n",
      "dtype: int64\n"
     ]
    }
   ],
   "source": [
    "# Price range (price per person)\n",
    "# Based on information from yelp and Quora:\n",
    "# $= under $10. $$=11-30. $$$=31-60. $$$$= over $61\n",
    "# Converting to EUR\n",
    "\n",
    "# 1 EUR = 1.11234 USD\n",
    "Euro = (pd.Series([10, 11, 30, 31, 60, 61]) * 1.11234).apply(lambda x: int(x))\n",
    "print(Euro)\n",
    "mapper = {'€':'under 11', \"€€\":'[12 - 33]', '€€€':'[34 - 66]', '€€€€':'over 67'}\n",
    "\n",
    "hotel_df['price_range'] = hotel_df['price_range'].map(mapper)\n"
   ]
  },
  {
   "cell_type": "code",
   "execution_count": 114,
   "metadata": {},
   "outputs": [
    {
     "data": {
      "text/html": [
       "<div>\n",
       "<style scoped>\n",
       "    .dataframe tbody tr th:only-of-type {\n",
       "        vertical-align: middle;\n",
       "    }\n",
       "\n",
       "    .dataframe tbody tr th {\n",
       "        vertical-align: top;\n",
       "    }\n",
       "\n",
       "    .dataframe thead th {\n",
       "        text-align: right;\n",
       "    }\n",
       "</style>\n",
       "<table border=\"1\" class=\"dataframe\">\n",
       "  <thead>\n",
       "    <tr style=\"text-align: right;\">\n",
       "      <th></th>\n",
       "      <th>rating</th>\n",
       "      <th>reviews</th>\n",
       "    </tr>\n",
       "  </thead>\n",
       "  <tbody>\n",
       "    <tr>\n",
       "      <th>count</th>\n",
       "      <td>215.000000</td>\n",
       "      <td>215.000000</td>\n",
       "    </tr>\n",
       "    <tr>\n",
       "      <th>mean</th>\n",
       "      <td>3.909302</td>\n",
       "      <td>14.669767</td>\n",
       "    </tr>\n",
       "    <tr>\n",
       "      <th>std</th>\n",
       "      <td>0.804431</td>\n",
       "      <td>18.538361</td>\n",
       "    </tr>\n",
       "    <tr>\n",
       "      <th>min</th>\n",
       "      <td>1.000000</td>\n",
       "      <td>1.000000</td>\n",
       "    </tr>\n",
       "    <tr>\n",
       "      <th>25%</th>\n",
       "      <td>3.500000</td>\n",
       "      <td>4.000000</td>\n",
       "    </tr>\n",
       "    <tr>\n",
       "      <th>50%</th>\n",
       "      <td>4.000000</td>\n",
       "      <td>9.000000</td>\n",
       "    </tr>\n",
       "    <tr>\n",
       "      <th>75%</th>\n",
       "      <td>4.500000</td>\n",
       "      <td>18.000000</td>\n",
       "    </tr>\n",
       "    <tr>\n",
       "      <th>max</th>\n",
       "      <td>5.000000</td>\n",
       "      <td>176.000000</td>\n",
       "    </tr>\n",
       "  </tbody>\n",
       "</table>\n",
       "</div>"
      ],
      "text/plain": [
       "           rating     reviews\n",
       "count  215.000000  215.000000\n",
       "mean     3.909302   14.669767\n",
       "std      0.804431   18.538361\n",
       "min      1.000000    1.000000\n",
       "25%      3.500000    4.000000\n",
       "50%      4.000000    9.000000\n",
       "75%      4.500000   18.000000\n",
       "max      5.000000  176.000000"
      ]
     },
     "execution_count": 114,
     "metadata": {},
     "output_type": "execute_result"
    }
   ],
   "source": [
    "# Rating and number of reviews\n",
    "hotel_df['rating'] = hotel_df['rating'].apply(lambda x: float(x)) \n",
    "hotel_df['reviews'] = hotel_df['reviews'].apply(lambda x: float(x))\n",
    "\n",
    "hotel_df.describe()"
   ]
  },
  {
   "cell_type": "code",
   "execution_count": 115,
   "metadata": {},
   "outputs": [
    {
     "data": {
      "text/plain": [
       "(234, 7)"
      ]
     },
     "execution_count": 115,
     "metadata": {},
     "output_type": "execute_result"
    }
   ],
   "source": [
    "# get coordinates from addresses\n",
    "pd.DataFrame(hotel_df.street + ' ' + hotel_df.postal_code).to_csv('hotel_addresses.csv', index=False)\n",
    "\n",
    "hotel_df.shape"
   ]
  },
  {
   "cell_type": "code",
   "execution_count": 116,
   "metadata": {},
   "outputs": [
    {
     "data": {
      "text/plain": [
       "(234, 2)"
      ]
     },
     "execution_count": 116,
     "metadata": {},
     "output_type": "execute_result"
    }
   ],
   "source": [
    "# after using an addon on google sheet\n",
    "coordinates = pd.read_csv('hotel_coordinates.csv')[['Latitude', 'Longitude']]\n",
    "coordinates.shape"
   ]
  },
  {
   "cell_type": "code",
   "execution_count": 117,
   "metadata": {},
   "outputs": [
    {
     "name": "stdout",
     "output_type": "stream",
     "text": [
      "<class 'pandas.core.frame.DataFrame'>\n",
      "Int64Index: 234 entries, 0 to 239\n",
      "Data columns (total 7 columns):\n",
      " #   Column       Non-Null Count  Dtype  \n",
      "---  ------       --------------  -----  \n",
      " 0   name         234 non-null    object \n",
      " 1   rating       215 non-null    float64\n",
      " 2   reviews      215 non-null    float64\n",
      " 3   price_range  174 non-null    object \n",
      " 4   street       234 non-null    object \n",
      " 5   postal_code  206 non-null    object \n",
      " 6   nb_photos    171 non-null    object \n",
      "dtypes: float64(2), object(5)\n",
      "memory usage: 14.6+ KB\n"
     ]
    }
   ],
   "source": [
    "\n",
    "# shape 234 but index from 0 to 239 because of dropping duplicates\n",
    "hotel_df.info()"
   ]
  },
  {
   "cell_type": "code",
   "execution_count": 118,
   "metadata": {},
   "outputs": [],
   "source": [
    "# because of dropping duplicates need to reset the index\n",
    "hotel_df = pd.concat([hotel_df.reset_index(drop=True), coordinates], axis = 1)"
   ]
  },
  {
   "cell_type": "code",
   "execution_count": 119,
   "metadata": {},
   "outputs": [
    {
     "name": "stdout",
     "output_type": "stream",
     "text": [
      "<class 'pandas.core.frame.DataFrame'>\n",
      "RangeIndex: 234 entries, 0 to 233\n",
      "Data columns (total 9 columns):\n",
      " #   Column       Non-Null Count  Dtype  \n",
      "---  ------       --------------  -----  \n",
      " 0   name         234 non-null    object \n",
      " 1   rating       215 non-null    float64\n",
      " 2   reviews      215 non-null    float64\n",
      " 3   price_range  174 non-null    object \n",
      " 4   street       234 non-null    object \n",
      " 5   postal_code  206 non-null    object \n",
      " 6   nb_photos    171 non-null    object \n",
      " 7   Latitude     206 non-null    float64\n",
      " 8   Longitude    206 non-null    float64\n",
      "dtypes: float64(4), object(5)\n",
      "memory usage: 16.6+ KB\n"
     ]
    }
   ],
   "source": [
    "# check cleaning\n",
    "hotel_df.info()"
   ]
  },
  {
   "cell_type": "code",
   "execution_count": 121,
   "metadata": {},
   "outputs": [],
   "source": [
    "hotel_df.to_csv('hotel_dataset.csv', index=False)"
   ]
  },
  {
   "cell_type": "markdown",
   "metadata": {},
   "source": [
    "#### Analysis"
   ]
  },
  {
   "cell_type": "code",
   "execution_count": null,
   "metadata": {},
   "outputs": [],
   "source": [
    "# Distribution of rating\n",
    "px.histogram(data_frame=hotel_df, x= 'rating')"
   ]
  },
  {
   "cell_type": "code",
   "execution_count": null,
   "metadata": {},
   "outputs": [],
   "source": [
    "# rating normalized\n",
    "# hotel_df.rating.apply(lambda x:( x - hotel_df.rating.min()) / (hotel_df.rating.max() - hotel_df.rating.max() )  )"
   ]
  },
  {
   "cell_type": "code",
   "execution_count": null,
   "metadata": {},
   "outputs": [],
   "source": [
    "# distribution of reviews\n",
    "\n",
    "px.histogram(data_frame=hotel_df, x = 'reviews')"
   ]
  },
  {
   "cell_type": "code",
   "execution_count": null,
   "metadata": {},
   "outputs": [],
   "source": [
    "px.box(data_frame=hotel_df, x = 'rating', y = 'reviews')\n",
    "# median would be probably a better central value (most the groups have outliers)"
   ]
  },
  {
   "cell_type": "code",
   "execution_count": null,
   "metadata": {},
   "outputs": [],
   "source": [
    "# Top 20 Most reviews\n",
    "\n",
    "hotel_df.sort_values(by='reviews', ascending=False).head(20)"
   ]
  },
  {
   "cell_type": "code",
   "execution_count": null,
   "metadata": {},
   "outputs": [],
   "source": [
    "# Price range. How does it relates to reviews/rating?\n",
    "\n",
    "hotel_df.groupby('price_range')['reviews'].agg('median').plot(kind = 'bar')\n",
    "\n"
   ]
  },
  {
   "cell_type": "code",
   "execution_count": null,
   "metadata": {},
   "outputs": [],
   "source": [
    "# In which area (postal code) are most of the hotels?\n",
    "hotel_df.postal_code.value_counts().plot(kind = 'bar', figsize = (15, 6))"
   ]
  },
  {
   "cell_type": "code",
   "execution_count": null,
   "metadata": {},
   "outputs": [],
   "source": []
  },
  {
   "cell_type": "code",
   "execution_count": null,
   "metadata": {},
   "outputs": [],
   "source": [
    "px.scatter(data_frame=hotel_df, x = 'Latitude', y = 'Longitude')"
   ]
  },
  {
   "cell_type": "code",
   "execution_count": null,
   "metadata": {},
   "outputs": [],
   "source": [
    "# rating over overiew\n",
    "hotel_df['rating_reviews'] = hotel_df.rating / hotel_df.reviews\n",
    "\n",
    "# min max normalization\n",
    "maximum = hotel_df['rating_reviews'].max()\n",
    "minimum = hotel_df['rating_reviews'].min()\n",
    "hotel_df['normalized_rating_reviews'] = hotel_df['rating_reviews'].apply(lambda x: (x - minimum) / (maximum - minimum) )"
   ]
  },
  {
   "cell_type": "markdown",
   "metadata": {},
   "source": [
    "# Pubs"
   ]
  },
  {
   "cell_type": "code",
   "execution_count": 122,
   "metadata": {},
   "outputs": [
    {
     "name": "stdout",
     "output_type": "stream",
     "text": [
      "Index(['Scobies Irish Pub', 'H1898 Rooftopbar', 'L’Ovella Negra',\n",
      "       'Bobby’s Free', 'Madame George', 'Nevermind', 'The Michael Collins',\n",
      "       'Bar Rubí', 'Old Fashioned', 'The Bollocks',\n",
      "       ...\n",
      "       'Tripode', 'La Pubilla del Taulat', 'Piacere Caffe', 'D9', 'Vanguard',\n",
      "       'El Ciclista', 'That’s the Way', 'Pipa', 'Sifó', 'Kè?'],\n",
      "      dtype='object', length=232)\n",
      "Index(['0', '10', '20', '30', '40', '50', '60', '70', '80', '90', '100', '110',\n",
      "       '120', '130', '140', '150', '160', '170', '180', '190', '200', '210',\n",
      "       '220', '230'],\n",
      "      dtype='object')\n"
     ]
    }
   ],
   "source": [
    "pub_soup = pd.read_csv('pub_soup.csv').drop(columns='Unnamed: 0').squeeze()\n",
    "pub_soup2 = pd.read_csv('pub_soup2.csv').drop(columns='Unnamed: 0').squeeze()\n",
    "print(pub_soup2.index)\n",
    "print(pub_soup.index)"
   ]
  },
  {
   "cell_type": "markdown",
   "metadata": {},
   "source": [
    "#### Name"
   ]
  },
  {
   "cell_type": "code",
   "execution_count": 123,
   "metadata": {},
   "outputs": [],
   "source": [
    "#### Name\n",
    "name = []\n",
    "for row in pub_soup:  # row contain 10 restaurants\n",
    "    soup = BeautifulSoup(row, 'html.parser')\n",
    "    result = soup.select('.css-1egxyvc .css-1m051bw')\n",
    "    for tag in result:\n",
    "        # print(tag.text)\n",
    "        name.append(tag.text)\n"
   ]
  },
  {
   "cell_type": "code",
   "execution_count": 124,
   "metadata": {},
   "outputs": [
    {
     "data": {
      "text/plain": [
       "33/45          2\n",
       "El Rouge       2\n",
       "Um Que Rico    2\n",
       "The Fastnet    2\n",
       "The Cottage    2\n",
       "              ..\n",
       "Bar Ardevol    1\n",
       "McCarthy’s     1\n",
       "Tripode        1\n",
       "cactus bar     1\n",
       "Soho           1\n",
       "Length: 232, dtype: int64"
      ]
     },
     "execution_count": 124,
     "metadata": {},
     "output_type": "execute_result"
    }
   ],
   "source": [
    "# It's like there are duplicates\n",
    "pd.Series(name).value_counts()"
   ]
  },
  {
   "cell_type": "markdown",
   "metadata": {},
   "source": [
    "#### Price range"
   ]
  },
  {
   "cell_type": "code",
   "execution_count": 125,
   "metadata": {},
   "outputs": [
    {
     "name": "stdout",
     "output_type": "stream",
     "text": [
      "Scobies Irish Pub €\n",
      "H1898 Rooftopbar €€\n",
      "L’Ovella Negra €\n",
      "Bobby’s Free €\n",
      "Madame George €\n",
      "Nevermind €\n",
      "The Michael Collins €€\n",
      "Bar Rubí €\n",
      "Old Fashioned €€\n",
      "The Bollocks €\n",
      "Biercab €\n",
      "Flaherty’s €\n",
      "Dow Jones €€\n",
      "El Bosc de les Fades €€\n",
      "Obama €€\n",
      "Tandem €€\n",
      "Hemingway €€€\n",
      "Samba Brasil €€\n",
      "The George Payne €€\n",
      "Snooker €€\n",
      "Limerick nan\n",
      "Otto Zutz €€\n",
      "My Bar €€\n",
      "McCarthy’s nan\n",
      "Garage Beer Co €\n",
      "Chill Bar €\n",
      "JazzMan €€\n",
      "Polaroid €\n",
      "George & Dragon €€€\n",
      "La Cinemateca €€\n",
      "La Pepita €€\n",
      "London Bar €\n",
      "Marsella €\n",
      "The Black Horse €€\n",
      "The Philharmonic €€\n",
      "Elephanta €€\n",
      "La Birreria €\n",
      "First Bar €\n",
      "Hogan’s Australian Pub €€\n",
      "The Black Lion €\n",
      "The Lime House €€\n",
      "Bonavida €\n",
      "Dublin Sports €€\n",
      "Musical María €€\n",
      "Dunne’s Irish Bar €€\n",
      "Xixbar €€\n",
      "Gato Negro €\n",
      "Lennox nan\n",
      "Le Standard nan\n",
      "Belushi’s €\n",
      "Craft Barcelona €\n",
      "Stoke Bar €€\n",
      "Fizz Barcelona nan\n",
      "Bloomsday Irish Pub nan\n",
      "Barna Brew €\n",
      "Pippermint €€\n",
      "Obama Gastropub nan\n",
      "Oviso €\n",
      "Touch Music Karaoke €€\n",
      "Sor Rita €\n",
      "La Barrica €\n",
      "Arcano €€€\n",
      "Bar Zodiaco €\n",
      "Big Bang Bar €\n",
      "Maestró €€\n",
      "Belchica €€\n",
      "Xpressing Underground Club €€\n",
      "Lunatic €€\n",
      "Temple Bar €\n",
      "Ina €\n",
      "Espai d’Art Tinta Roja €€\n",
      "Flann O’Brien €\n",
      "Mojito Rock €\n",
      "Never More nan\n",
      "Mingus €€\n",
      "Black Lab €€\n",
      "Pepe Bar nan\n",
      "La Concha Barcelona €\n",
      "Stereo €\n",
      "Vicente Emilio Barcelona Villen nan\n",
      "Ryans Beach nan\n",
      "Bar Ardevol €€\n",
      "Two Schmucks €€\n",
      "Bernie’s €€\n",
      "Bonobo nan\n",
      "Veronica Griselda Villafan Zea nan\n",
      "cactus bar €€€\n",
      "absentha nan\n",
      "Bodega €\n",
      "El Vaso de Oro €€\n",
      "La Catedra €€\n",
      "Cheers €\n",
      "Belice Cocktail Bar €€\n",
      "Bodega Saltó €\n",
      "La Cervesera Artesana €€\n",
      "Ale&Hop €\n",
      "Hendrix €\n",
      "Sonora €\n",
      "Ya lo sabes nan\n",
      "The Cottage nan\n",
      "Kentucky €€\n",
      "Hell Awaits nan\n",
      "Pepe’s Bar €\n",
      "New York Café €\n",
      "Enigma nan\n",
      "El Pony nan\n",
      "Dirty Dick’s nan\n",
      "Irish Sailing Pub €€\n",
      "Bloody Mary €€\n",
      "Paspartú €€\n",
      "Kahiki €€€\n",
      "The Cottage nan\n",
      "Zim €€\n",
      "Cervecería Jazz €€€\n",
      "Bubblic €€\n",
      "Elephant €€€\n",
      "Rocksound €€\n",
      "Koitton Club €€\n",
      "Bobby Gin €€\n",
      "Filomena €€\n",
      "Woody Bar nan\n",
      "The End nan\n",
      "La Principal €\n",
      "Tequila 44 €€\n",
      "Insòlita Gea nan\n",
      "Filomena €€\n",
      "Blondie €€\n",
      "Set Barcelona nan\n",
      "Coctelería Cooler €€\n",
      "El Rouge €€€\n",
      "Inch Bar €\n",
      "El Rouge €€€\n",
      "Bar International Beer €\n",
      "Bongo’s nan\n",
      "Marula Café €€\n",
      "Pub Fiction €€\n",
      "Le Cyrano €\n",
      "Rare nan\n",
      "La Beata nan\n",
      "Barcelona Pipa Club nan\n",
      "Velcro Bar €€€\n",
      "Bar Fidel €\n",
      "DiSapore Bar nan\n",
      "Ballbreaker nan\n",
      "Kimera nan\n",
      "La Gorda €€\n",
      "La República €€\n",
      "Marmalade €€\n",
      "A Viva Voz nan\n",
      "Colombo €€\n",
      "Versailles €\n",
      "Garage 442 €\n",
      "Living Barcelona 1925 nan\n",
      "Ginger €€\n",
      "Milk Bar & Bistro €€\n",
      "Exterior nan\n",
      "Butyklan €€\n",
      "Bar Do nan\n",
      "The Fastnet €\n",
      "Bar Prasoa €\n",
      "El Jardinet d’Aribau €€\n",
      "Alpaca´s €€\n",
      "The Fastnet €\n",
      "Síncopa €€\n",
      "Alfa Bar €€\n",
      "Ende €€\n",
      "Kioto nan\n",
      "Botanic nan\n",
      "El Zoo nan\n",
      "Sensi €€\n",
      "Rabipelao €\n",
      "La Bodeguita Bright €\n",
      "Victor Gomez Hidalgo nan\n",
      "Bar Mut €€€\n",
      "Bodegon del Norte - Marzan €€\n",
      "Soho nan\n",
      "Caribbean Club €€€\n",
      "Grill Room Bar Thonet nan\n",
      "Gracia Latina €€\n",
      "33/45 €\n",
      "33/45 €\n",
      "Mil Estones nan\n",
      "Pesca Salada €€\n",
      "Bar Dúrcal nan\n",
      "Nello’s €€\n",
      "Armony Cocktails Gintonics €€\n",
      "3011 Hosteleria y Restauracion, S.C.P. nan\n",
      "Kaizen Afterwork €€\n",
      "Smoking Dog nan\n",
      "La Guayra nan\n",
      "Manchester €\n",
      "Bar Malasang €€\n",
      "Mandri €€\n",
      "No Sweat Bar €€\n",
      "Tropical nan\n",
      "El Garaje Hermético nan\n",
      "Mar de Copas nan\n",
      "Bodega del Onze nan\n",
      "Els Tres Porquets €€€\n",
      "Quilombo €€\n",
      "Pastís €€\n",
      "Bar Pastis nan\n",
      "Coppelia Club nan\n",
      "Opera Samfaina €€\n",
      "Black Velvet €€\n",
      "Night and Day nan\n",
      "Thales €\n",
      "Homo Sibaris €\n",
      "El Circulo €€\n",
      "Um Que Rico nan\n",
      "Um Que Rico nan\n",
      "Gente de Pasta nan\n",
      "Gris nan\n",
      "Bar Manolo nan\n",
      "Foxy Bar €€\n",
      "BeeriVins €€\n",
      "Central 134 €\n",
      "Bar la Maquinista nan\n",
      "Aloha nan\n",
      "Pasapalo €€\n",
      "Mora nan\n",
      "Wild Rover Barcelona €€\n",
      "Red Rocket nan\n",
      "Cheers nan\n",
      "Mexcla €\n",
      "La Abadiba nan\n",
      "No Sé €€\n",
      "Vic-Lor Scp nan\n",
      "Bloomsday Literary Pub nan\n",
      "Tripode nan\n",
      "La Pubilla del Taulat €€\n",
      "Bloomsday Literary Pub nan\n",
      "Piacere Caffe €\n",
      "D9 €\n",
      "Vanguard €€\n",
      "El Ciclista €€\n",
      "That’s the Way nan\n",
      "Pipa nan\n",
      "Sifó €\n",
      "Kè? €\n"
     ]
    }
   ],
   "source": [
    "#### Price range\n",
    "price_range = []\n",
    "container_class = 'container__09f24__mpR8_ hoverable__09f24__wQ_on margin-t3__09f24__riq4X margin-b3__09f24__l9v5d padding-t3__09f24__TMrIW padding-r3__09f24__eaF7p padding-b3__09f24__S8R2d padding-l3__09f24__IOjKY border--top__09f24__exYYb border--right__09f24__X7Tln border--bottom__09f24___mg5X border--left__09f24__DMOkM border-color--default__09f24__NPAKY'\n",
    "for row in pub_soup:\n",
    "    soup = BeautifulSoup(row, 'html.parser')\n",
    "    result = soup.find_all(class_ = container_class)\n",
    "    for tag in result:\n",
    "        header_text = tag.div.div.div.nextSibling.div\n",
    "        price = header_text.select_one('.css-1s7bx9e')\n",
    "        if price is not None:\n",
    "            price_range.append(price.text)\n",
    "        else:\n",
    "            price_range.append(np.nan)\n",
    "\n",
    "# test\n",
    "for n, price in zip(name, price_range):\n",
    "    print(n, price) "
   ]
  },
  {
   "cell_type": "markdown",
   "metadata": {},
   "source": [
    "#### Rating"
   ]
  },
  {
   "cell_type": "code",
   "execution_count": 126,
   "metadata": {},
   "outputs": [
    {
     "name": "stdout",
     "output_type": "stream",
     "text": [
      "Scobies Irish Pub 4.5\n",
      "H1898 Rooftopbar 4\n",
      "L’Ovella Negra 4\n",
      "Bobby’s Free 4.5\n",
      "Madame George 5\n",
      "Nevermind 4.5\n",
      "The Michael Collins 4\n",
      "Bar Rubí 4.5\n",
      "Old Fashioned 5\n",
      "The Bollocks 4\n",
      "Biercab 4.5\n",
      "Flaherty’s 4\n",
      "Dow Jones 3.5\n",
      "El Bosc de les Fades 4\n",
      "Obama 3.5\n",
      "Tandem 5\n",
      "Hemingway 5\n",
      "Samba Brasil 4\n",
      "The George Payne 3.5\n",
      "Snooker 4\n",
      "Limerick 4\n",
      "Otto Zutz 3.5\n",
      "My Bar 4.5\n",
      "McCarthy’s 4\n",
      "Garage Beer Co 4.5\n",
      "Chill Bar 4.5\n",
      "JazzMan 4.5\n",
      "Polaroid 4\n",
      "George & Dragon 3.5\n",
      "La Cinemateca 4\n",
      "La Pepita 4.5\n",
      "London Bar 4\n",
      "Marsella 4\n",
      "The Black Horse 4\n",
      "The Philharmonic 4\n",
      "Elephanta 4.5\n",
      "La Birreria 4.5\n",
      "First Bar 4.5\n",
      "Hogan’s Australian Pub 4\n",
      "The Black Lion 3.5\n",
      "The Lime House 4\n",
      "Bonavida 4.5\n",
      "Dublin Sports 3.5\n",
      "Musical María 4.5\n",
      "Dunne’s Irish Bar 3.5\n",
      "Xixbar 4.5\n",
      "Gato Negro 4.5\n",
      "Lennox 4\n",
      "Le Standard 4.5\n",
      "Belushi’s 3.5\n",
      "Craft Barcelona 4\n",
      "Stoke Bar 4\n",
      "Fizz Barcelona 4.5\n",
      "Bloomsday Irish Pub 5\n",
      "Barna Brew 4.5\n",
      "Pippermint 3\n",
      "Obama Gastropub 3.5\n",
      "Oviso 4\n",
      "Touch Music Karaoke 4.5\n",
      "Sor Rita 4.5\n",
      "La Barrica 3\n",
      "Arcano 4.5\n",
      "Bar Zodiaco 4\n",
      "Big Bang Bar 4\n",
      "Maestró 4\n",
      "Belchica 3.5\n",
      "Xpressing Underground Club 4\n",
      "Lunatic 4.5\n",
      "Temple Bar 3.5\n",
      "Ina 4.5\n",
      "Espai d’Art Tinta Roja 3.5\n",
      "Flann O’Brien 3.5\n",
      "Mojito Rock 4\n",
      "Never More 5\n",
      "Mingus 4\n",
      "Black Lab 4\n",
      "Pepe Bar 5\n",
      "La Concha Barcelona 4.5\n",
      "Stereo 4.5\n",
      "Vicente Emilio Barcelona Villen 5\n",
      "Ryans Beach 4\n",
      "Bar Ardevol 4\n",
      "Two Schmucks 5\n",
      "Bernie’s 4\n",
      "Bonobo 4\n",
      "Veronica Griselda Villafan Zea 5\n",
      "cactus bar 4\n",
      "absentha 4\n",
      "Bodega 5\n",
      "El Vaso de Oro 4.5\n",
      "La Catedra 4.5\n",
      "Cheers 3\n",
      "Belice Cocktail Bar 5\n",
      "Bodega Saltó 4\n",
      "La Cervesera Artesana 4\n",
      "Ale&Hop 4.5\n",
      "Hendrix 4.5\n",
      "Sonora 3\n",
      "Ya lo sabes 4\n",
      "The Cottage 5\n",
      "Kentucky 4\n",
      "Hell Awaits 4\n",
      "Pepe’s Bar 3.5\n",
      "New York Café 4\n",
      "Enigma 4\n",
      "El Pony 4\n",
      "Dirty Dick’s 2.5\n",
      "Irish Sailing Pub 3.5\n",
      "Bloody Mary 4.5\n",
      "Paspartú 5\n",
      "Kahiki 2.5\n",
      "The Cottage 5\n",
      "Zim 4.5\n",
      "Cervecería Jazz 4.5\n",
      "Bubblic 4\n",
      "Elephant 4\n",
      "Rocksound 4.5\n",
      "Koitton Club 4.5\n",
      "Bobby Gin 4.5\n",
      "Filomena 4.5\n",
      "Woody Bar 4\n",
      "The End 4\n",
      "La Principal 3.5\n",
      "Tequila 44 4\n",
      "Insòlita Gea 4.5\n",
      "Filomena 4.5\n",
      "Blondie 5\n",
      "Set Barcelona 5\n",
      "Coctelería Cooler 4\n",
      "El Rouge 4\n",
      "Inch Bar 4.5\n",
      "El Rouge 4\n",
      "Bar International Beer 2.5\n",
      "Bongo’s 5\n",
      "Marula Café 4\n",
      "Pub Fiction 4.5\n",
      "Le Cyrano 4\n",
      "Rare 4\n",
      "La Beata 4.5\n",
      "Barcelona Pipa Club 5\n",
      "Velcro Bar 4\n",
      "Bar Fidel 4.5\n",
      "DiSapore Bar 4.5\n",
      "Ballbreaker 4\n",
      "Kimera 4\n",
      "La Gorda 4\n",
      "La República 4\n",
      "Marmalade 4\n",
      "A Viva Voz 3\n",
      "Colombo 4\n",
      "Versailles 4.5\n",
      "Garage 442 nan\n",
      "Living Barcelona 1925 4\n",
      "Ginger 4\n",
      "Milk Bar & Bistro 4.5\n",
      "Exterior 5\n",
      "Butyklan 3.5\n",
      "Bar Do nan\n",
      "The Fastnet 3.5\n",
      "Bar Prasoa 3.5\n",
      "El Jardinet d’Aribau 2\n",
      "Alpaca´s nan\n",
      "The Fastnet 3.5\n",
      "Síncopa 3.5\n",
      "Alfa Bar 4\n",
      "Ende 4\n",
      "Kioto 5\n",
      "Botanic 3.5\n",
      "El Zoo 3\n",
      "Sensi 4.5\n",
      "Rabipelao 3.5\n",
      "La Bodeguita Bright 4.5\n",
      "Victor Gomez Hidalgo 5\n",
      "Bar Mut 4.5\n",
      "Bodegon del Norte - Marzan 3\n",
      "Soho nan\n",
      "Caribbean Club 5\n",
      "Grill Room Bar Thonet 5\n",
      "Gracia Latina 3.5\n",
      "33/45 4\n",
      "33/45 4\n",
      "Mil Estones 4\n",
      "Pesca Salada 4.5\n",
      "Bar Dúrcal 5\n",
      "Nello’s 2\n",
      "Armony Cocktails Gintonics nan\n",
      "3011 Hosteleria y Restauracion, S.C.P. 3\n",
      "Kaizen Afterwork 5\n",
      "Smoking Dog 3\n",
      "La Guayra 3\n",
      "Manchester 3.5\n",
      "Bar Malasang 4.5\n",
      "Mandri 4\n",
      "No Sweat Bar 3.5\n",
      "Tropical 5\n",
      "El Garaje Hermético 3\n",
      "Mar de Copas nan\n",
      "Bodega del Onze 4\n",
      "Els Tres Porquets 4\n",
      "Quilombo 4\n",
      "Pastís 3.5\n",
      "Bar Pastis 5\n",
      "Coppelia Club nan\n",
      "Opera Samfaina 4\n",
      "Black Velvet 4\n",
      "Night and Day nan\n",
      "Thales 3.5\n",
      "Homo Sibaris 4\n",
      "El Circulo 5\n",
      "Um Que Rico 5\n",
      "Um Que Rico 5\n",
      "Gente de Pasta 5\n",
      "Gris 3\n",
      "Bar Manolo 4\n",
      "Foxy Bar 4\n",
      "BeeriVins 5\n",
      "Central 134 nan\n",
      "Bar la Maquinista 4\n",
      "Aloha 4\n",
      "Pasapalo 5\n",
      "Mora 3\n",
      "Wild Rover Barcelona 2\n",
      "Red Rocket 4\n",
      "Cheers 3\n",
      "Mexcla 4\n",
      "La Abadiba nan\n",
      "No Sé 4\n",
      "Vic-Lor Scp 5\n",
      "Bloomsday Literary Pub 2.5\n",
      "Tripode 3.5\n",
      "La Pubilla del Taulat 4.5\n",
      "Bloomsday Literary Pub 2.5\n",
      "Piacere Caffe 3.5\n",
      "D9 4\n",
      "Vanguard 4\n",
      "El Ciclista 4\n",
      "That’s the Way nan\n",
      "Pipa 4\n",
      "Sifó 4\n",
      "Kè? 3.5\n"
     ]
    }
   ],
   "source": [
    "#### Rating\n",
    "rating = []\n",
    "container_class = 'container__09f24__mpR8_ hoverable__09f24__wQ_on margin-t3__09f24__riq4X margin-b3__09f24__l9v5d padding-t3__09f24__TMrIW padding-r3__09f24__eaF7p padding-b3__09f24__S8R2d padding-l3__09f24__IOjKY border--top__09f24__exYYb border--right__09f24__X7Tln border--bottom__09f24___mg5X border--left__09f24__DMOkM border-color--default__09f24__NPAKY'\n",
    "for row in pub_soup:\n",
    "    soup = BeautifulSoup(row, 'html.parser')\n",
    "    result = soup.find_all(class_ = container_class)\n",
    "    for tag in result:\n",
    "        header_text = tag.div.div.div.nextSibling.div\n",
    "        rat = header_text.select_one('.overflow--hidden__09f24___ayzG')\n",
    "        \n",
    "        if rat is not None:\n",
    "            rating.append(rat['aria-label'].split()[0])\n",
    "\n",
    "            # print(rat['aria-label'])\n",
    "\n",
    "        else:\n",
    "            rating.append(np.nan)\n",
    "        \n",
    "# test\n",
    "for n, rat in zip(name, rating):\n",
    "    print(n, rat) "
   ]
  },
  {
   "cell_type": "markdown",
   "metadata": {},
   "source": [
    "#### Reviews"
   ]
  },
  {
   "cell_type": "code",
   "execution_count": 127,
   "metadata": {},
   "outputs": [
    {
     "name": "stdout",
     "output_type": "stream",
     "text": [
      "Scobies Irish Pub 26\n",
      "H1898 Rooftopbar 7\n",
      "L’Ovella Negra 78\n",
      "Bobby’s Free 21\n",
      "Madame George 4\n",
      "Nevermind 15\n",
      "The Michael Collins 40\n",
      "Bar Rubí 38\n",
      "Old Fashioned 108\n",
      "The Bollocks 18\n",
      "Biercab 124\n",
      "Flaherty’s 41\n",
      "Dow Jones 47\n",
      "El Bosc de les Fades 121\n",
      "Obama 40\n",
      "Tandem 28\n",
      "Hemingway 18\n",
      "Samba Brasil 8\n",
      "The George Payne 61\n",
      "Snooker 2\n",
      "Limerick 2\n",
      "Otto Zutz 50\n",
      "My Bar 7\n",
      "McCarthy’s 4\n",
      "Garage Beer Co 43\n",
      "Chill Bar 142\n",
      "JazzMan 13\n",
      "Polaroid 31\n",
      "George & Dragon 2\n",
      "La Cinemateca 6\n",
      "La Pepita 514\n",
      "London Bar 14\n",
      "Marsella 51\n",
      "The Black Horse 6\n",
      "The Philharmonic 14\n",
      "Elephanta 32\n",
      "La Birreria 3\n",
      "First Bar 7\n",
      "Hogan’s Australian Pub 5\n",
      "The Black Lion 6\n",
      "The Lime House 13\n",
      "Bonavida 10\n",
      "Dublin Sports 9\n",
      "Musical María 8\n",
      "Dunne’s Irish Bar 36\n",
      "Xixbar 26\n",
      "Gato Negro 5\n",
      "Lennox 4\n",
      "Le Standard 3\n",
      "Belushi’s 20\n",
      "Craft Barcelona 20\n",
      "Stoke Bar 31\n",
      "Fizz Barcelona 3\n",
      "Bloomsday Irish Pub 3\n",
      "Barna Brew 5\n",
      "Pippermint 11\n",
      "Obama Gastropub 13\n",
      "Oviso 64\n",
      "Touch Music Karaoke 8\n",
      "Sor Rita 22\n",
      "La Barrica 1\n",
      "Arcano 292\n",
      "Bar Zodiaco 19\n",
      "Big Bang Bar 10\n",
      "Maestró 33\n",
      "Belchica 8\n",
      "Xpressing Underground Club 1\n",
      "Lunatic 5\n",
      "Temple Bar 21\n",
      "Ina 6\n",
      "Espai d’Art Tinta Roja 9\n",
      "Flann O’Brien 3\n",
      "Mojito Rock 11\n",
      "Never More 1\n",
      "Mingus 15\n",
      "Black Lab 83\n",
      "Pepe Bar 1\n",
      "La Concha Barcelona 8\n",
      "Stereo 2\n",
      "Vicente Emilio Barcelona Villen 1\n",
      "Ryans Beach 1\n",
      "Bar Ardevol 8\n",
      "Two Schmucks 17\n",
      "Bernie’s 40\n",
      "Bonobo 4\n",
      "Veronica Griselda Villafan Zea 1\n",
      "cactus bar 1\n",
      "absentha 3\n",
      "Bodega 5\n",
      "El Vaso de Oro 178\n",
      "La Catedra 3\n",
      "Cheers 16\n",
      "Belice Cocktail Bar 2\n",
      "Bodega Saltó 15\n",
      "La Cervesera Artesana 37\n",
      "Ale&Hop 43\n",
      "Hendrix 2\n",
      "Sonora 20\n",
      "Ya lo sabes 1\n",
      "The Cottage 1\n",
      "Kentucky 13\n",
      "Hell Awaits 2\n",
      "Pepe’s Bar 4\n",
      "New York Café 1\n",
      "Enigma 1\n",
      "El Pony 7\n",
      "Dirty Dick’s 2\n",
      "Irish Sailing Pub 2\n",
      "Bloody Mary 9\n",
      "Paspartú 10\n",
      "Kahiki 7\n",
      "The Cottage 1\n",
      "Zim 10\n",
      "Cervecería Jazz 10\n",
      "Bubblic 5\n",
      "Elephant 8\n",
      "Rocksound 2\n",
      "Koitton Club 2\n",
      "Bobby Gin 54\n",
      "Filomena 7\n",
      "Woody Bar 5\n",
      "The End 1\n",
      "La Principal 16\n",
      "Tequila 44 12\n",
      "Insòlita Gea 18\n",
      "Filomena 7\n",
      "Blondie 1\n",
      "Set Barcelona 1\n",
      "Coctelería Cooler 12\n",
      "El Rouge 4\n",
      "Inch Bar 11\n",
      "El Rouge 4\n",
      "Bar International Beer 16\n",
      "Bongo’s 1\n",
      "Marula Café 18\n",
      "Pub Fiction 3\n",
      "Le Cyrano 9\n",
      "Rare 1\n",
      "La Beata 3\n",
      "Barcelona Pipa Club 2\n",
      "Velcro Bar 6\n",
      "Bar Fidel 17\n",
      "DiSapore Bar 2\n",
      "Ballbreaker 5\n",
      "Kimera 3\n",
      "La Gorda 1\n",
      "La República 16\n",
      "Marmalade 68\n",
      "A Viva Voz 3\n",
      "Colombo 7\n",
      "Versailles 4\n",
      "Garage 442 nan\n",
      "Living Barcelona 1925 20\n",
      "Ginger 9\n",
      "Milk Bar & Bistro 431\n",
      "Exterior 1\n",
      "Butyklan 7\n",
      "Bar Do nan\n",
      "The Fastnet 8\n",
      "Bar Prasoa 4\n",
      "El Jardinet d’Aribau 4\n",
      "Alpaca´s nan\n",
      "The Fastnet 8\n",
      "Síncopa 9\n",
      "Alfa Bar 6\n",
      "Ende 2\n",
      "Kioto 1\n",
      "Botanic 2\n",
      "El Zoo 1\n",
      "Sensi 377\n",
      "Rabipelao 9\n",
      "La Bodeguita Bright 4\n",
      "Victor Gomez Hidalgo 1\n",
      "Bar Mut 149\n",
      "Bodegon del Norte - Marzan 3\n",
      "Soho nan\n",
      "Caribbean Club 11\n",
      "Grill Room Bar Thonet 8\n",
      "Gracia Latina 4\n",
      "33/45 17\n",
      "33/45 17\n",
      "Mil Estones 1\n",
      "Pesca Salada 12\n",
      "Bar Dúrcal 1\n",
      "Nello’s 5\n",
      "Armony Cocktails Gintonics nan\n",
      "3011 Hosteleria y Restauracion, S.C.P. 1\n",
      "Kaizen Afterwork 1\n",
      "Smoking Dog 1\n",
      "La Guayra 2\n",
      "Manchester 9\n",
      "Bar Malasang 10\n",
      "Mandri 12\n",
      "No Sweat Bar 2\n",
      "Tropical 1\n",
      "El Garaje Hermético 1\n",
      "Mar de Copas nan\n",
      "Bodega del Onze 3\n",
      "Els Tres Porquets 9\n",
      "Quilombo 8\n",
      "Pastís 6\n",
      "Bar Pastis 1\n",
      "Coppelia Club nan\n",
      "Opera Samfaina 11\n",
      "Black Velvet 1\n",
      "Night and Day nan\n",
      "Thales 8\n",
      "Homo Sibaris 27\n",
      "El Circulo 1\n",
      "Um Que Rico 1\n",
      "Um Que Rico 1\n",
      "Gente de Pasta 1\n",
      "Gris 1\n",
      "Bar Manolo 4\n",
      "Foxy Bar 11\n",
      "BeeriVins 2\n",
      "Central 134 nan\n",
      "Bar la Maquinista 1\n",
      "Aloha 8\n",
      "Pasapalo 15\n",
      "Mora 1\n",
      "Wild Rover Barcelona 3\n",
      "Red Rocket 3\n",
      "Cheers 1\n",
      "Mexcla 29\n",
      "La Abadiba nan\n",
      "No Sé 8\n",
      "Vic-Lor Scp 1\n",
      "Bloomsday Literary Pub 2\n",
      "Tripode 4\n",
      "La Pubilla del Taulat 11\n",
      "Bloomsday Literary Pub 2\n",
      "Piacere Caffe 6\n",
      "D9 12\n",
      "Vanguard 6\n",
      "El Ciclista 10\n",
      "That’s the Way nan\n",
      "Pipa 1\n",
      "Sifó 14\n",
      "Kè? 11\n"
     ]
    }
   ],
   "source": [
    "reviews = []\n",
    "container_class = 'container__09f24__mpR8_ hoverable__09f24__wQ_on margin-t3__09f24__riq4X margin-b3__09f24__l9v5d padding-t3__09f24__TMrIW padding-r3__09f24__eaF7p padding-b3__09f24__S8R2d padding-l3__09f24__IOjKY border--top__09f24__exYYb border--right__09f24__X7Tln border--bottom__09f24___mg5X border--left__09f24__DMOkM border-color--default__09f24__NPAKY'\n",
    "for row in pub_soup:\n",
    "    soup = BeautifulSoup(row, 'html.parser')\n",
    "    result = soup.find_all(class_ = container_class)\n",
    "    for tag in result:\n",
    "        header_text = tag.div.div.div.nextSibling.div\n",
    "        rev = header_text.select_one('.reviewCount__09f24__tnBk4')\n",
    "        \n",
    "        if rev is not None:\n",
    "            \n",
    "            reviews.append(rev.text)\n",
    "\n",
    "\n",
    "        else:\n",
    "            reviews.append(np.nan)\n",
    "        \n",
    "#test\n",
    "for n, rev in zip(name, reviews):\n",
    "    print(n, rev) "
   ]
  },
  {
   "cell_type": "markdown",
   "metadata": {},
   "source": [
    "#### Location"
   ]
  },
  {
   "cell_type": "code",
   "execution_count": 128,
   "metadata": {},
   "outputs": [
    {
     "data": {
      "text/plain": [
       "(232,)"
      ]
     },
     "execution_count": 128,
     "metadata": {},
     "output_type": "execute_result"
    }
   ],
   "source": [
    "pub_soup2.shape"
   ]
  },
  {
   "cell_type": "code",
   "execution_count": 129,
   "metadata": {},
   "outputs": [],
   "source": [
    "#### Location\n",
    "\n",
    "location = [] \n",
    "for row in pub_soup2:\n",
    "    soup = BeautifulSoup(row, 'html.parser')\n",
    "    result = soup.select('address .raw__09f24__T4Ezm')\n",
    "    adress_elements = []\n",
    "    for tag in result:\n",
    "        adress_elements.append(tag.text)\n",
    "    location.append( '::'.join(adress_elements) )"
   ]
  },
  {
   "cell_type": "code",
   "execution_count": 130,
   "metadata": {},
   "outputs": [],
   "source": [
    "location_pub_df = pd.DataFrame({'name': pub_soup2.index, 'location': location})\n",
    "# for n, loc in zip(pub_soup2.index, location):\n",
    "#     print(n,loc)"
   ]
  },
  {
   "cell_type": "code",
   "execution_count": 131,
   "metadata": {},
   "outputs": [
    {
     "data": {
      "text/plain": [
       "3    224\n",
       "1      6\n",
       "4      2\n",
       "Name: location, dtype: int64"
      ]
     },
     "execution_count": 131,
     "metadata": {},
     "output_type": "execute_result"
    }
   ],
   "source": [
    "location_pub_df.location.str.split('::').apply(lambda x: len(x)).value_counts()"
   ]
  },
  {
   "cell_type": "code",
   "execution_count": 132,
   "metadata": {},
   "outputs": [],
   "source": [
    "location_pub_df['street'] = location_pub_df.location.str.split('::').apply(lambda x: x[0])\n",
    "location_pub_df['postal_code'] = location_pub_df.location.str.split('::').apply(lambda x: x[1] if len(x) == 3 else np.nan)"
   ]
  },
  {
   "cell_type": "markdown",
   "metadata": {},
   "source": [
    "#### Website"
   ]
  },
  {
   "cell_type": "code",
   "execution_count": null,
   "metadata": {},
   "outputs": [],
   "source": [
    "#### Website\n",
    "website = []\n",
    "for row in pub_soup2:\n",
    "    soup = BeautifulSoup(row, 'html.parser')\n",
    "    result = soup.select_one('.css-na3oda+ .css-1p9ibgf .css-1um3nx')\n",
    "    # for tag in result:\n",
    "    if result is not None:\n",
    "        website.append( result.text ) \n",
    "\n",
    "    else:\n",
    "        website.append(np.nan)\n",
    "\n"
   ]
  },
  {
   "cell_type": "code",
   "execution_count": null,
   "metadata": {},
   "outputs": [],
   "source": [
    "for n, web in zip(pub_soup2.index, website):\n",
    "    print(n,web)"
   ]
  },
  {
   "cell_type": "markdown",
   "metadata": {},
   "source": [
    "#### Number of photos"
   ]
  },
  {
   "cell_type": "code",
   "execution_count": 133,
   "metadata": {},
   "outputs": [],
   "source": [
    "#### Number of photos\n",
    "nb_photos = []\n",
    "photo_header_class = 'photo-header-content-container__09f24__jDLBB border-color--default__09f24__NPAKY'\n",
    "for row in pub_soup2:\n",
    "    soup = BeautifulSoup(row, 'html.parser')\n",
    "    photo_header = soup.find(class_ = photo_header_class)\n",
    "    if photo_header is not None:\n",
    "\n",
    "        nb_photos.append(  pd.Series(photo_header.text).str.extract(r'See (\\d+) photos').squeeze()  )\n",
    "        # print('-'*100)\n",
    "\n",
    "    else:\n",
    "        nb_photos.append(np.nan)\n",
    "    \n",
    "\n"
   ]
  },
  {
   "cell_type": "code",
   "execution_count": 134,
   "metadata": {},
   "outputs": [
    {
     "name": "stdout",
     "output_type": "stream",
     "text": [
      "Scobies Irish Pub 17\n",
      "H1898 Rooftopbar 14\n",
      "L’Ovella Negra 50\n",
      "Bobby’s Free 42\n",
      "Madame George 35\n",
      "Nevermind 26\n",
      "The Michael Collins 47\n",
      "Bar Rubí 71\n",
      "Old Fashioned 218\n",
      "The Bollocks 22\n",
      "Biercab 215\n",
      "Flaherty’s 69\n",
      "Dow Jones 56\n",
      "El Bosc de les Fades 100\n",
      "Obama 66\n",
      "Tandem 53\n",
      "Hemingway 45\n",
      "Samba Brasil 4\n",
      "The George Payne 40\n",
      "Snooker 9\n",
      "Limerick 6\n",
      "Otto Zutz 18\n",
      "My Bar 6\n",
      "McCarthy’s nan\n",
      "Garage Beer Co nan\n",
      "Chill Bar 213\n",
      "JazzMan 32\n",
      "Polaroid 36\n",
      "George & Dragon nan\n",
      "La Cinemateca 5\n",
      "La Pepita 1065\n",
      "London Bar 56\n",
      "Marsella 55\n",
      "The Black Horse 8\n",
      "The Philharmonic 6\n",
      "Elephanta 41\n",
      "La Birreria 5\n",
      "First Bar 21\n",
      "Hogan’s Australian Pub 34\n",
      "The Black Lion 23\n",
      "The Lime House 11\n",
      "Bonavida 31\n",
      "Dublin Sports 7\n",
      "Musical María 5\n",
      "Dunne’s Irish Bar 17\n",
      "Xixbar 199\n",
      "Gato Negro 20\n",
      "Lennox 9\n",
      "Le Standard nan\n",
      "Belushi’s 26\n",
      "Craft Barcelona 45\n",
      "Stoke Bar 36\n",
      "Fizz Barcelona nan\n",
      "Bloomsday Irish Pub 4\n",
      "Barna Brew 14\n",
      "Pippermint 31\n",
      "Obama Gastropub 8\n",
      "Oviso 70\n",
      "Touch Music Karaoke 38\n",
      "Sor Rita 51\n",
      "La Barrica 15\n",
      "Arcano 555\n",
      "Bar Zodiaco 25\n",
      "Big Bang Bar 43\n",
      "Maestró 119\n",
      "Belchica 23\n",
      "Xpressing Underground Club 9\n",
      "Lunatic 9\n",
      "Temple Bar 29\n",
      "Ina 10\n",
      "Espai d’Art Tinta Roja 11\n",
      "Flann O’Brien nan\n",
      "Mojito Rock 5\n",
      "Never More 7\n",
      "Mingus 15\n",
      "Black Lab 172\n",
      "Pepe Bar nan\n",
      "La Concha Barcelona 10\n",
      "Stereo 11\n",
      "Vicente Emilio Barcelona Villen nan\n",
      "Ryans Beach nan\n",
      "Bar Ardevol nan\n",
      "Two Schmucks 29\n",
      "Bernie’s 121\n",
      "Bonobo 5\n",
      "Veronica Griselda Villafan Zea nan\n",
      "cactus bar nan\n",
      "absentha 7\n",
      "Bodega 11\n",
      "El Vaso de Oro 359\n",
      "La Catedra 9\n",
      "Cheers 4\n",
      "Belice Cocktail Bar 8\n",
      "Bodega Saltó 11\n",
      "La Cervesera Artesana 34\n",
      "Ale&Hop 106\n",
      "Hendrix 9\n",
      "Sonora 21\n",
      "Ya lo sabes nan\n",
      "The Cottage nan\n",
      "Kentucky 15\n",
      "Hell Awaits 8\n",
      "Pepe’s Bar nan\n",
      "New York Café nan\n",
      "Enigma nan\n",
      "El Pony nan\n",
      "Dirty Dick’s nan\n",
      "Irish Sailing Pub nan\n",
      "Bloody Mary 54\n",
      "Paspartú 8\n",
      "Kahiki 7\n",
      "Zim 5\n",
      "Cervecería Jazz 13\n",
      "Bubblic 8\n",
      "Elephant nan\n",
      "Rocksound nan\n",
      "Koitton Club 4\n",
      "Bobby Gin 77\n",
      "Filomena 36\n",
      "Woody Bar nan\n",
      "The End nan\n",
      "La Principal 41\n",
      "Tequila 44 23\n",
      "Insòlita Gea 62\n",
      "Blondie nan\n",
      "Set Barcelona 8\n",
      "Coctelería Cooler 40\n",
      "El Rouge 9\n",
      "Inch Bar 11\n",
      "Bar International Beer 30\n",
      "Bongo’s nan\n",
      "Marula Café 17\n",
      "Pub Fiction nan\n",
      "Le Cyrano 4\n",
      "Rare 12\n",
      "La Beata 4\n",
      "Barcelona Pipa Club nan\n",
      "Velcro Bar nan\n",
      "Bar Fidel 18\n",
      "DiSapore Bar 15\n",
      "Ballbreaker 8\n",
      "Kimera nan\n",
      "La Gorda 5\n",
      "La República 64\n",
      "Marmalade 125\n",
      "A Viva Voz 18\n",
      "Colombo 11\n",
      "Versailles 17\n",
      "Garage 442 nan\n",
      "Living Barcelona 1925 43\n",
      "Ginger 21\n",
      "Milk Bar & Bistro 649\n",
      "Exterior nan\n",
      "Butyklan 6\n",
      "Bar Do nan\n",
      "The Fastnet 6\n",
      "Bar Prasoa nan\n",
      "El Jardinet d’Aribau 58\n",
      "Alpaca´s nan\n",
      "Síncopa 12\n",
      "Alfa Bar 11\n",
      "Ende nan\n",
      "Kioto nan\n",
      "Botanic 76\n",
      "El Zoo nan\n",
      "Sensi 681\n",
      "Rabipelao 17\n",
      "La Bodeguita Bright 48\n",
      "Victor Gomez Hidalgo nan\n",
      "Bar Mut 294\n",
      "Bodegon del Norte - Marzan nan\n",
      "Soho nan\n",
      "Caribbean Club 18\n",
      "Grill Room Bar Thonet 21\n",
      "Gracia Latina 13\n",
      "33/45 11\n",
      "Mil Estones nan\n",
      "Pesca Salada 10\n",
      "Bar Dúrcal nan\n",
      "Nello’s 14\n",
      "Armony Cocktails Gintonics 5\n",
      "3011 Hosteleria y Restauracion, S.C.P. nan\n",
      "Kaizen Afterwork 28\n",
      "Smoking Dog nan\n",
      "La Guayra 10\n",
      "Manchester 6\n",
      "Bar Malasang 24\n",
      "Mandri 10\n",
      "No Sweat Bar nan\n",
      "Tropical nan\n",
      "El Garaje Hermético nan\n",
      "Mar de Copas 6\n",
      "Bodega del Onze 5\n",
      "Els Tres Porquets 114\n",
      "Quilombo 5\n",
      "Pastís 4\n",
      "Bar Pastis nan\n",
      "Coppelia Club 9\n",
      "Opera Samfaina 65\n",
      "Black Velvet 10\n",
      "Night and Day 45\n",
      "Thales 14\n",
      "Homo Sibaris 49\n",
      "El Circulo 11\n",
      "Um Que Rico nan\n",
      "Gente de Pasta nan\n",
      "Gris nan\n",
      "Bar Manolo 4\n",
      "Foxy Bar 9\n",
      "BeeriVins 4\n",
      "Central 134 nan\n",
      "Bar la Maquinista nan\n",
      "Aloha 18\n",
      "Pasapalo 52\n",
      "Mora nan\n",
      "Wild Rover Barcelona 24\n",
      "Red Rocket nan\n",
      "Mexcla 93\n",
      "La Abadiba nan\n",
      "No Sé 10\n",
      "Vic-Lor Scp nan\n",
      "Bloomsday Literary Pub nan\n",
      "Tripode nan\n",
      "La Pubilla del Taulat 22\n",
      "Piacere Caffe 4\n",
      "D9 1497\n",
      "Vanguard nan\n",
      "El Ciclista 7\n",
      "That’s the Way 12\n",
      "Pipa nan\n",
      "Sifó 5\n",
      "Kè? 9\n"
     ]
    }
   ],
   "source": [
    "for n, photo in zip(pub_soup2.index, nb_photos):\n",
    "    print(n, photo)"
   ]
  },
  {
   "cell_type": "code",
   "execution_count": 135,
   "metadata": {},
   "outputs": [],
   "source": [
    "photo_pub_df = pd.DataFrame({'name': pub_soup2.index, 'nb_photos': nb_photos})"
   ]
  },
  {
   "cell_type": "markdown",
   "metadata": {},
   "source": [
    "#### Opening hours\n"
   ]
  },
  {
   "cell_type": "code",
   "execution_count": null,
   "metadata": {},
   "outputs": [],
   "source": [
    "opening_hours = {'name':list(), 'day':list(), 'opening':list(), 'closing':list()}\n",
    "for row, name in zip(pub_soup2, pub_soup2.index):\n",
    "    soup = BeautifulSoup(row, 'html.parser')\n",
    "    days = []\n",
    "    days_container = soup.select('.day-of-the-week__09f24__JJea_')\n",
    "    time_container = soup.select('.no-wrap__09f24__c3plq.css-1p9ibgf')\n",
    "    for day, time in zip(days_container, time_container):\n",
    "\n",
    "        opening_hours['name'].append(name)\n",
    "        opening_hours['day'].append(day.text)\n",
    "        opening_hours['opening'].append(   pd.Series(time.text).str.extract(r'(\\d+:\\d+ \\w+) - \\d+:\\d+ \\w+').squeeze()   )\n",
    "        opening_hours['closing'].append( pd.Series(time.text).str.extract(r'\\d+:\\d+ \\w+ - (\\d+:\\d+ \\w+)').squeeze() )"
   ]
  },
  {
   "cell_type": "code",
   "execution_count": null,
   "metadata": {},
   "outputs": [],
   "source": [
    "opening_hours_df = pd.DataFrame(opening_hours)\n",
    "\n",
    "for i in range(len(opening_hours_df)):\n",
    "    print( list(opening_hours_df.iloc[i, :]) ) "
   ]
  },
  {
   "cell_type": "markdown",
   "metadata": {},
   "source": [
    "#### Amenities"
   ]
  },
  {
   "cell_type": "markdown",
   "metadata": {},
   "source": [
    "#### Pub dataset"
   ]
  },
  {
   "cell_type": "code",
   "execution_count": 136,
   "metadata": {},
   "outputs": [],
   "source": [
    "# Elements from first page\n",
    "pub_df = pd.DataFrame({'name':name, 'rating':rating, 'reviews': reviews, 'price_range': price_range})"
   ]
  },
  {
   "cell_type": "code",
   "execution_count": 137,
   "metadata": {},
   "outputs": [
    {
     "data": {
      "text/html": [
       "<div>\n",
       "<style scoped>\n",
       "    .dataframe tbody tr th:only-of-type {\n",
       "        vertical-align: middle;\n",
       "    }\n",
       "\n",
       "    .dataframe tbody tr th {\n",
       "        vertical-align: top;\n",
       "    }\n",
       "\n",
       "    .dataframe thead th {\n",
       "        text-align: right;\n",
       "    }\n",
       "</style>\n",
       "<table border=\"1\" class=\"dataframe\">\n",
       "  <thead>\n",
       "    <tr style=\"text-align: right;\">\n",
       "      <th></th>\n",
       "      <th>name</th>\n",
       "      <th>rating</th>\n",
       "      <th>reviews</th>\n",
       "      <th>price_range</th>\n",
       "      <th>street</th>\n",
       "      <th>postal_code</th>\n",
       "    </tr>\n",
       "  </thead>\n",
       "  <tbody>\n",
       "    <tr>\n",
       "      <th>0</th>\n",
       "      <td>Scobies Irish Pub</td>\n",
       "      <td>4.5</td>\n",
       "      <td>26</td>\n",
       "      <td>€</td>\n",
       "      <td>Ronda de la Universidad, 8</td>\n",
       "      <td>08007 Barcelona</td>\n",
       "    </tr>\n",
       "    <tr>\n",
       "      <th>1</th>\n",
       "      <td>H1898 Rooftopbar</td>\n",
       "      <td>4</td>\n",
       "      <td>7</td>\n",
       "      <td>€€</td>\n",
       "      <td>Les Rambles, 109</td>\n",
       "      <td>08002 Barcelona</td>\n",
       "    </tr>\n",
       "    <tr>\n",
       "      <th>2</th>\n",
       "      <td>L’Ovella Negra</td>\n",
       "      <td>4</td>\n",
       "      <td>78</td>\n",
       "      <td>€</td>\n",
       "      <td>Carrer de les Sitges, 5</td>\n",
       "      <td>08001 Barcelona</td>\n",
       "    </tr>\n",
       "    <tr>\n",
       "      <th>3</th>\n",
       "      <td>Bobby’s Free</td>\n",
       "      <td>4.5</td>\n",
       "      <td>21</td>\n",
       "      <td>€</td>\n",
       "      <td>Carrer de Pau Claris, 85</td>\n",
       "      <td>08010 Barcelona</td>\n",
       "    </tr>\n",
       "    <tr>\n",
       "      <th>4</th>\n",
       "      <td>Madame George</td>\n",
       "      <td>5</td>\n",
       "      <td>4</td>\n",
       "      <td>€</td>\n",
       "      <td>Carrer de Pujades, 179</td>\n",
       "      <td>08005 Barcelona</td>\n",
       "    </tr>\n",
       "    <tr>\n",
       "      <th>...</th>\n",
       "      <td>...</td>\n",
       "      <td>...</td>\n",
       "      <td>...</td>\n",
       "      <td>...</td>\n",
       "      <td>...</td>\n",
       "      <td>...</td>\n",
       "    </tr>\n",
       "    <tr>\n",
       "      <th>235</th>\n",
       "      <td>El Ciclista</td>\n",
       "      <td>4</td>\n",
       "      <td>10</td>\n",
       "      <td>€€</td>\n",
       "      <td>Carrer Mozart , 18</td>\n",
       "      <td>08012 Barcelona</td>\n",
       "    </tr>\n",
       "    <tr>\n",
       "      <th>236</th>\n",
       "      <td>That’s the Way</td>\n",
       "      <td>NaN</td>\n",
       "      <td>NaN</td>\n",
       "      <td>NaN</td>\n",
       "      <td>Calle Entença, 85</td>\n",
       "      <td>08015 Barcelona</td>\n",
       "    </tr>\n",
       "    <tr>\n",
       "      <th>237</th>\n",
       "      <td>Pipa</td>\n",
       "      <td>4</td>\n",
       "      <td>1</td>\n",
       "      <td>NaN</td>\n",
       "      <td>Calle Llull 159</td>\n",
       "      <td>08005 Barcelona</td>\n",
       "    </tr>\n",
       "    <tr>\n",
       "      <th>238</th>\n",
       "      <td>Sifó</td>\n",
       "      <td>4</td>\n",
       "      <td>14</td>\n",
       "      <td>€</td>\n",
       "      <td>Carrer d'Espalter, 4</td>\n",
       "      <td>08001 Barcelona</td>\n",
       "    </tr>\n",
       "    <tr>\n",
       "      <th>239</th>\n",
       "      <td>Kè?</td>\n",
       "      <td>3.5</td>\n",
       "      <td>11</td>\n",
       "      <td>€</td>\n",
       "      <td>Carrer del Baluart, 54</td>\n",
       "      <td>08003 Barcelona</td>\n",
       "    </tr>\n",
       "  </tbody>\n",
       "</table>\n",
       "<p>240 rows × 6 columns</p>\n",
       "</div>"
      ],
      "text/plain": [
       "                  name rating reviews price_range                      street  \\\n",
       "0    Scobies Irish Pub    4.5      26           €  Ronda de la Universidad, 8   \n",
       "1     H1898 Rooftopbar      4       7          €€            Les Rambles, 109   \n",
       "2       L’Ovella Negra      4      78           €     Carrer de les Sitges, 5   \n",
       "3         Bobby’s Free    4.5      21           €    Carrer de Pau Claris, 85   \n",
       "4        Madame George      5       4           €      Carrer de Pujades, 179   \n",
       "..                 ...    ...     ...         ...                         ...   \n",
       "235        El Ciclista      4      10          €€          Carrer Mozart , 18   \n",
       "236     That’s the Way    NaN     NaN         NaN           Calle Entença, 85   \n",
       "237               Pipa      4       1         NaN             Calle Llull 159   \n",
       "238               Sifó      4      14           €        Carrer d'Espalter, 4   \n",
       "239                Kè?    3.5      11           €      Carrer del Baluart, 54   \n",
       "\n",
       "         postal_code  \n",
       "0    08007 Barcelona  \n",
       "1    08002 Barcelona  \n",
       "2    08001 Barcelona  \n",
       "3    08010 Barcelona  \n",
       "4    08005 Barcelona  \n",
       "..               ...  \n",
       "235  08012 Barcelona  \n",
       "236  08015 Barcelona  \n",
       "237  08005 Barcelona  \n",
       "238  08001 Barcelona  \n",
       "239  08003 Barcelona  \n",
       "\n",
       "[240 rows x 6 columns]"
      ]
     },
     "execution_count": 137,
     "metadata": {},
     "output_type": "execute_result"
    }
   ],
   "source": [
    "# Elements from second page\n",
    "# location\n",
    "pub_df = pd.merge(pub_df, location_pub_df, 'left').drop('location', axis = 1)\n",
    "pub_df"
   ]
  },
  {
   "cell_type": "code",
   "execution_count": 138,
   "metadata": {},
   "outputs": [],
   "source": [
    "pub_df = pd.merge(pub_df, photo_pub_df, 'left')"
   ]
  },
  {
   "cell_type": "code",
   "execution_count": 139,
   "metadata": {},
   "outputs": [
    {
     "name": "stdout",
     "output_type": "stream",
     "text": [
      "<class 'pandas.core.frame.DataFrame'>\n",
      "Int64Index: 240 entries, 0 to 239\n",
      "Data columns (total 7 columns):\n",
      " #   Column       Non-Null Count  Dtype \n",
      "---  ------       --------------  ----- \n",
      " 0   name         240 non-null    object\n",
      " 1   rating       229 non-null    object\n",
      " 2   reviews      229 non-null    object\n",
      " 3   price_range  169 non-null    object\n",
      " 4   street       240 non-null    object\n",
      " 5   postal_code  231 non-null    object\n",
      " 6   nb_photos    175 non-null    object\n",
      "dtypes: object(7)\n",
      "memory usage: 15.0+ KB\n"
     ]
    }
   ],
   "source": [
    "pub_df.info()"
   ]
  },
  {
   "cell_type": "code",
   "execution_count": 140,
   "metadata": {},
   "outputs": [
    {
     "data": {
      "text/plain": [
       "price_range    71\n",
       "nb_photos      65\n",
       "reviews        11\n",
       "rating         11\n",
       "postal_code     9\n",
       "street          0\n",
       "name            0\n",
       "dtype: int64"
      ]
     },
     "execution_count": 140,
     "metadata": {},
     "output_type": "execute_result"
    }
   ],
   "source": [
    "# Missing values\n",
    "pub_df.isnull().sum().sort_values(ascending=False)"
   ]
  },
  {
   "cell_type": "code",
   "execution_count": 141,
   "metadata": {},
   "outputs": [
    {
     "data": {
      "text/html": [
       "<div>\n",
       "<style scoped>\n",
       "    .dataframe tbody tr th:only-of-type {\n",
       "        vertical-align: middle;\n",
       "    }\n",
       "\n",
       "    .dataframe tbody tr th {\n",
       "        vertical-align: top;\n",
       "    }\n",
       "\n",
       "    .dataframe thead th {\n",
       "        text-align: right;\n",
       "    }\n",
       "</style>\n",
       "<table border=\"1\" class=\"dataframe\">\n",
       "  <thead>\n",
       "    <tr style=\"text-align: right;\">\n",
       "      <th></th>\n",
       "      <th>name</th>\n",
       "      <th>rating</th>\n",
       "      <th>reviews</th>\n",
       "      <th>price_range</th>\n",
       "      <th>street</th>\n",
       "      <th>postal_code</th>\n",
       "      <th>nb_photos</th>\n",
       "    </tr>\n",
       "  </thead>\n",
       "  <tbody>\n",
       "    <tr>\n",
       "      <th>111</th>\n",
       "      <td>The Cottage</td>\n",
       "      <td>5</td>\n",
       "      <td>1</td>\n",
       "      <td>NaN</td>\n",
       "      <td></td>\n",
       "      <td>NaN</td>\n",
       "      <td>NaN</td>\n",
       "    </tr>\n",
       "    <tr>\n",
       "      <th>125</th>\n",
       "      <td>Filomena</td>\n",
       "      <td>4.5</td>\n",
       "      <td>7</td>\n",
       "      <td>€€</td>\n",
       "      <td>Carrer d'Aldana, 8</td>\n",
       "      <td>08015 Barcelona</td>\n",
       "      <td>36</td>\n",
       "    </tr>\n",
       "    <tr>\n",
       "      <th>131</th>\n",
       "      <td>El Rouge</td>\n",
       "      <td>4</td>\n",
       "      <td>4</td>\n",
       "      <td>€€€</td>\n",
       "      <td>Carrer del Poeta Cabanyes, 21</td>\n",
       "      <td>08004 Barcelona</td>\n",
       "      <td>9</td>\n",
       "    </tr>\n",
       "    <tr>\n",
       "      <th>162</th>\n",
       "      <td>The Fastnet</td>\n",
       "      <td>3.5</td>\n",
       "      <td>8</td>\n",
       "      <td>€</td>\n",
       "      <td>Passeig de Joan de Borbó, 22</td>\n",
       "      <td>08003 Barcelona</td>\n",
       "      <td>6</td>\n",
       "    </tr>\n",
       "    <tr>\n",
       "      <th>180</th>\n",
       "      <td>33/45</td>\n",
       "      <td>4</td>\n",
       "      <td>17</td>\n",
       "      <td>€</td>\n",
       "      <td>Carrer de Joaquín Costa, 4</td>\n",
       "      <td>08001 Barcelona</td>\n",
       "      <td>11</td>\n",
       "    </tr>\n",
       "    <tr>\n",
       "      <th>210</th>\n",
       "      <td>Um Que Rico</td>\n",
       "      <td>5</td>\n",
       "      <td>1</td>\n",
       "      <td>NaN</td>\n",
       "      <td>Carrer Sant Joan de Malta 150</td>\n",
       "      <td>08018 Barcelona</td>\n",
       "      <td>NaN</td>\n",
       "    </tr>\n",
       "    <tr>\n",
       "      <th>231</th>\n",
       "      <td>Bloomsday Literary Pub</td>\n",
       "      <td>2.5</td>\n",
       "      <td>2</td>\n",
       "      <td>NaN</td>\n",
       "      <td>Rambla de Santa Mònica 23</td>\n",
       "      <td>08002 Barcelona</td>\n",
       "      <td>NaN</td>\n",
       "    </tr>\n",
       "  </tbody>\n",
       "</table>\n",
       "</div>"
      ],
      "text/plain": [
       "                       name rating reviews price_range  \\\n",
       "111             The Cottage      5       1         NaN   \n",
       "125                Filomena    4.5       7          €€   \n",
       "131                El Rouge      4       4         €€€   \n",
       "162             The Fastnet    3.5       8           €   \n",
       "180                   33/45      4      17           €   \n",
       "210             Um Que Rico      5       1         NaN   \n",
       "231  Bloomsday Literary Pub    2.5       2         NaN   \n",
       "\n",
       "                            street      postal_code nb_photos  \n",
       "111                                             NaN       NaN  \n",
       "125             Carrer d'Aldana, 8  08015 Barcelona        36  \n",
       "131  Carrer del Poeta Cabanyes, 21  08004 Barcelona         9  \n",
       "162   Passeig de Joan de Borbó, 22  08003 Barcelona         6  \n",
       "180     Carrer de Joaquín Costa, 4  08001 Barcelona        11  \n",
       "210  Carrer Sant Joan de Malta 150  08018 Barcelona       NaN  \n",
       "231      Rambla de Santa Mònica 23  08002 Barcelona       NaN  "
      ]
     },
     "execution_count": 141,
     "metadata": {},
     "output_type": "execute_result"
    }
   ],
   "source": [
    "# duplicates values\n",
    "pub_df[pub_df.duplicated()]"
   ]
  },
  {
   "cell_type": "code",
   "execution_count": 142,
   "metadata": {},
   "outputs": [],
   "source": [
    "# drop duplicates\n",
    "pub_df.drop_duplicates(inplace=True)"
   ]
  },
  {
   "cell_type": "markdown",
   "metadata": {},
   "source": [
    "#### Cleaning"
   ]
  },
  {
   "cell_type": "code",
   "execution_count": 143,
   "metadata": {},
   "outputs": [
    {
     "name": "stdout",
     "output_type": "stream",
     "text": [
      "0    11\n",
      "1    12\n",
      "2    33\n",
      "3    34\n",
      "4    66\n",
      "5    67\n",
      "dtype: int64\n"
     ]
    }
   ],
   "source": [
    "# Price range (price per person)\n",
    "# Based on information from yelp and Quora:\n",
    "# $= under $10. $$=11-30. $$$=31-60. $$$$= over $61\n",
    "# Converting to EUR\n",
    "\n",
    "# 1 EUR = 1.11234 USD\n",
    "Euro = (pd.Series([10, 11, 30, 31, 60, 61]) * 1.11234).apply(lambda x: int(x))\n",
    "print(Euro)\n",
    "mapper = {'€':'under 11', \"€€\":'[12 - 33]', '€€€':'[34 - 66]', '€€€€':'over 67'}\n",
    "\n",
    "pub_df['price_range'] = pub_df['price_range'].map(mapper)"
   ]
  },
  {
   "cell_type": "code",
   "execution_count": 144,
   "metadata": {},
   "outputs": [
    {
     "data": {
      "text/html": [
       "<div>\n",
       "<style scoped>\n",
       "    .dataframe tbody tr th:only-of-type {\n",
       "        vertical-align: middle;\n",
       "    }\n",
       "\n",
       "    .dataframe tbody tr th {\n",
       "        vertical-align: top;\n",
       "    }\n",
       "\n",
       "    .dataframe thead th {\n",
       "        text-align: right;\n",
       "    }\n",
       "</style>\n",
       "<table border=\"1\" class=\"dataframe\">\n",
       "  <thead>\n",
       "    <tr style=\"text-align: right;\">\n",
       "      <th></th>\n",
       "      <th>rating</th>\n",
       "      <th>reviews</th>\n",
       "    </tr>\n",
       "  </thead>\n",
       "  <tbody>\n",
       "    <tr>\n",
       "      <th>count</th>\n",
       "      <td>222.000000</td>\n",
       "      <td>222.000000</td>\n",
       "    </tr>\n",
       "    <tr>\n",
       "      <th>mean</th>\n",
       "      <td>4.078829</td>\n",
       "      <td>21.846847</td>\n",
       "    </tr>\n",
       "    <tr>\n",
       "      <th>std</th>\n",
       "      <td>0.628762</td>\n",
       "      <td>58.596665</td>\n",
       "    </tr>\n",
       "    <tr>\n",
       "      <th>min</th>\n",
       "      <td>2.000000</td>\n",
       "      <td>1.000000</td>\n",
       "    </tr>\n",
       "    <tr>\n",
       "      <th>25%</th>\n",
       "      <td>4.000000</td>\n",
       "      <td>2.000000</td>\n",
       "    </tr>\n",
       "    <tr>\n",
       "      <th>50%</th>\n",
       "      <td>4.000000</td>\n",
       "      <td>7.000000</td>\n",
       "    </tr>\n",
       "    <tr>\n",
       "      <th>75%</th>\n",
       "      <td>4.500000</td>\n",
       "      <td>15.750000</td>\n",
       "    </tr>\n",
       "    <tr>\n",
       "      <th>max</th>\n",
       "      <td>5.000000</td>\n",
       "      <td>514.000000</td>\n",
       "    </tr>\n",
       "  </tbody>\n",
       "</table>\n",
       "</div>"
      ],
      "text/plain": [
       "           rating     reviews\n",
       "count  222.000000  222.000000\n",
       "mean     4.078829   21.846847\n",
       "std      0.628762   58.596665\n",
       "min      2.000000    1.000000\n",
       "25%      4.000000    2.000000\n",
       "50%      4.000000    7.000000\n",
       "75%      4.500000   15.750000\n",
       "max      5.000000  514.000000"
      ]
     },
     "execution_count": 144,
     "metadata": {},
     "output_type": "execute_result"
    }
   ],
   "source": [
    "# Rating and number of reviews\n",
    "pub_df['rating'] = pub_df['rating'].apply(lambda x: float(x)) \n",
    "pub_df['reviews'] = pub_df['reviews'].apply(lambda x: float(x))\n",
    "\n",
    "pub_df.describe()"
   ]
  },
  {
   "cell_type": "code",
   "execution_count": 145,
   "metadata": {},
   "outputs": [
    {
     "data": {
      "text/plain": [
       "(233, 7)"
      ]
     },
     "execution_count": 145,
     "metadata": {},
     "output_type": "execute_result"
    }
   ],
   "source": [
    "# get coordinates from addresses\n",
    "pd.DataFrame(pub_df.street + ' ' + pub_df.postal_code).to_csv('pub_addresses.csv', index=False)\n",
    "\n",
    "pub_df.shape"
   ]
  },
  {
   "cell_type": "code",
   "execution_count": 146,
   "metadata": {},
   "outputs": [
    {
     "data": {
      "text/plain": [
       "(233, 2)"
      ]
     },
     "execution_count": 146,
     "metadata": {},
     "output_type": "execute_result"
    }
   ],
   "source": [
    "# after using an addon on google sheet\n",
    "coordinates = pd.read_csv('pub_coordinates.csv')[['Latitude', 'Longitude']]\n",
    "coordinates.shape"
   ]
  },
  {
   "cell_type": "code",
   "execution_count": 147,
   "metadata": {},
   "outputs": [
    {
     "name": "stdout",
     "output_type": "stream",
     "text": [
      "<class 'pandas.core.frame.DataFrame'>\n",
      "Int64Index: 233 entries, 0 to 239\n",
      "Data columns (total 7 columns):\n",
      " #   Column       Non-Null Count  Dtype  \n",
      "---  ------       --------------  -----  \n",
      " 0   name         233 non-null    object \n",
      " 1   rating       222 non-null    float64\n",
      " 2   reviews      222 non-null    float64\n",
      " 3   price_range  165 non-null    object \n",
      " 4   street       233 non-null    object \n",
      " 5   postal_code  225 non-null    object \n",
      " 6   nb_photos    171 non-null    object \n",
      "dtypes: float64(2), object(5)\n",
      "memory usage: 14.6+ KB\n"
     ]
    }
   ],
   "source": [
    "\n",
    "pub_df.info()"
   ]
  },
  {
   "cell_type": "code",
   "execution_count": 148,
   "metadata": {},
   "outputs": [],
   "source": [
    "# because of dropping duplicates need to reset the index\n",
    "pub_df = pd.concat([pub_df.reset_index(drop=True), coordinates], axis = 1)"
   ]
  },
  {
   "cell_type": "code",
   "execution_count": 149,
   "metadata": {},
   "outputs": [
    {
     "name": "stdout",
     "output_type": "stream",
     "text": [
      "<class 'pandas.core.frame.DataFrame'>\n",
      "RangeIndex: 233 entries, 0 to 232\n",
      "Data columns (total 9 columns):\n",
      " #   Column       Non-Null Count  Dtype  \n",
      "---  ------       --------------  -----  \n",
      " 0   name         233 non-null    object \n",
      " 1   rating       222 non-null    float64\n",
      " 2   reviews      222 non-null    float64\n",
      " 3   price_range  165 non-null    object \n",
      " 4   street       233 non-null    object \n",
      " 5   postal_code  225 non-null    object \n",
      " 6   nb_photos    171 non-null    object \n",
      " 7   Latitude     225 non-null    float64\n",
      " 8   Longitude    225 non-null    float64\n",
      "dtypes: float64(4), object(5)\n",
      "memory usage: 16.5+ KB\n"
     ]
    }
   ],
   "source": [
    "# check cleaning\n",
    "pub_df.info()"
   ]
  },
  {
   "cell_type": "code",
   "execution_count": 150,
   "metadata": {},
   "outputs": [],
   "source": [
    "pub_df.to_csv('pub_dataset.csv', index=False)"
   ]
  },
  {
   "cell_type": "markdown",
   "metadata": {},
   "source": [
    "# Comparing Businesses"
   ]
  },
  {
   "cell_type": "code",
   "execution_count": 155,
   "metadata": {},
   "outputs": [],
   "source": [
    "# resto_df.head()\n",
    "# pub_df.head()\n",
    "# hotel_df.head()\n",
    "resto_df.drop('location', axis=1, inplace=True)\n"
   ]
  },
  {
   "cell_type": "code",
   "execution_count": 151,
   "metadata": {},
   "outputs": [],
   "source": [
    "resto_df['Business_type'] = 'restaurant'\n",
    "hotel_df['Business_type'] = 'hotel'\n",
    "pub_df['Business_type'] = 'pub'\n"
   ]
  },
  {
   "cell_type": "markdown",
   "metadata": {},
   "source": [
    "#### Scaling"
   ]
  },
  {
   "cell_type": "code",
   "execution_count": null,
   "metadata": {},
   "outputs": [],
   "source": [
    "# scaling reviews\n",
    "mininum = master_df.reviews.min()\n",
    "maximum= master_df.reviews.max()\n",
    "\n",
    "master_df['norm_reviews'] = master_df.reviews.apply(lambda x: (x - minimum) / (maximum - minimum))"
   ]
  },
  {
   "cell_type": "code",
   "execution_count": 159,
   "metadata": {},
   "outputs": [],
   "source": [
    "master_df = pd.concat([resto_df, hotel_df, pub_df])\n"
   ]
  },
  {
   "cell_type": "code",
   "execution_count": 160,
   "metadata": {},
   "outputs": [],
   "source": [
    "master_df.to_csv('master_df.csv',index=False)"
   ]
  },
  {
   "cell_type": "code",
   "execution_count": 161,
   "metadata": {},
   "outputs": [
    {
     "name": "stdout",
     "output_type": "stream",
     "text": [
      "<class 'pandas.core.frame.DataFrame'>\n",
      "Int64Index: 678 entries, 0 to 232\n",
      "Data columns (total 10 columns):\n",
      " #   Column         Non-Null Count  Dtype  \n",
      "---  ------         --------------  -----  \n",
      " 0   name           678 non-null    object \n",
      " 1   rating         648 non-null    float64\n",
      " 2   reviews        648 non-null    float64\n",
      " 3   price_range    515 non-null    object \n",
      " 4   street         678 non-null    object \n",
      " 5   postal_code    627 non-null    object \n",
      " 6   nb_photos      543 non-null    object \n",
      " 7   Latitude       627 non-null    float64\n",
      " 8   Longitude      627 non-null    float64\n",
      " 9   Business_type  678 non-null    object \n",
      "dtypes: float64(4), object(6)\n",
      "memory usage: 58.3+ KB\n"
     ]
    }
   ],
   "source": [
    "master_df.info()"
   ]
  },
  {
   "cell_type": "code",
   "execution_count": 162,
   "metadata": {},
   "outputs": [],
   "source": [
    "master_df['nb_photos'] = master_df.nb_photos.astype('float')"
   ]
  },
  {
   "cell_type": "code",
   "execution_count": 163,
   "metadata": {},
   "outputs": [
    {
     "data": {
      "text/html": [
       "<div>\n",
       "<style scoped>\n",
       "    .dataframe tbody tr th:only-of-type {\n",
       "        vertical-align: middle;\n",
       "    }\n",
       "\n",
       "    .dataframe tbody tr th {\n",
       "        vertical-align: top;\n",
       "    }\n",
       "\n",
       "    .dataframe thead th {\n",
       "        text-align: right;\n",
       "    }\n",
       "</style>\n",
       "<table border=\"1\" class=\"dataframe\">\n",
       "  <thead>\n",
       "    <tr style=\"text-align: right;\">\n",
       "      <th></th>\n",
       "      <th>rating</th>\n",
       "      <th>reviews</th>\n",
       "      <th>nb_photos</th>\n",
       "      <th>Latitude</th>\n",
       "      <th>Longitude</th>\n",
       "    </tr>\n",
       "  </thead>\n",
       "  <tbody>\n",
       "    <tr>\n",
       "      <th>count</th>\n",
       "      <td>648.000000</td>\n",
       "      <td>648.000000</td>\n",
       "      <td>543.000000</td>\n",
       "      <td>627.000000</td>\n",
       "      <td>627.000000</td>\n",
       "    </tr>\n",
       "    <tr>\n",
       "      <th>mean</th>\n",
       "      <td>4.145833</td>\n",
       "      <td>44.516975</td>\n",
       "      <td>122.340700</td>\n",
       "      <td>41.388391</td>\n",
       "      <td>2.167492</td>\n",
       "    </tr>\n",
       "    <tr>\n",
       "      <th>std</th>\n",
       "      <td>0.655459</td>\n",
       "      <td>108.460477</td>\n",
       "      <td>316.152668</td>\n",
       "      <td>0.011089</td>\n",
       "      <td>0.017588</td>\n",
       "    </tr>\n",
       "    <tr>\n",
       "      <th>min</th>\n",
       "      <td>1.000000</td>\n",
       "      <td>1.000000</td>\n",
       "      <td>4.000000</td>\n",
       "      <td>41.325142</td>\n",
       "      <td>2.066519</td>\n",
       "    </tr>\n",
       "    <tr>\n",
       "      <th>25%</th>\n",
       "      <td>4.000000</td>\n",
       "      <td>5.000000</td>\n",
       "      <td>14.000000</td>\n",
       "      <td>41.381541</td>\n",
       "      <td>2.159604</td>\n",
       "    </tr>\n",
       "    <tr>\n",
       "      <th>50%</th>\n",
       "      <td>4.250000</td>\n",
       "      <td>12.000000</td>\n",
       "      <td>36.000000</td>\n",
       "      <td>41.387086</td>\n",
       "      <td>2.168530</td>\n",
       "    </tr>\n",
       "    <tr>\n",
       "      <th>75%</th>\n",
       "      <td>4.500000</td>\n",
       "      <td>34.250000</td>\n",
       "      <td>101.000000</td>\n",
       "      <td>41.393687</td>\n",
       "      <td>2.176267</td>\n",
       "    </tr>\n",
       "    <tr>\n",
       "      <th>max</th>\n",
       "      <td>5.000000</td>\n",
       "      <td>1279.000000</td>\n",
       "      <td>3852.000000</td>\n",
       "      <td>41.478609</td>\n",
       "      <td>2.320301</td>\n",
       "    </tr>\n",
       "  </tbody>\n",
       "</table>\n",
       "</div>"
      ],
      "text/plain": [
       "           rating      reviews    nb_photos    Latitude   Longitude\n",
       "count  648.000000   648.000000   543.000000  627.000000  627.000000\n",
       "mean     4.145833    44.516975   122.340700   41.388391    2.167492\n",
       "std      0.655459   108.460477   316.152668    0.011089    0.017588\n",
       "min      1.000000     1.000000     4.000000   41.325142    2.066519\n",
       "25%      4.000000     5.000000    14.000000   41.381541    2.159604\n",
       "50%      4.250000    12.000000    36.000000   41.387086    2.168530\n",
       "75%      4.500000    34.250000   101.000000   41.393687    2.176267\n",
       "max      5.000000  1279.000000  3852.000000   41.478609    2.320301"
      ]
     },
     "execution_count": 163,
     "metadata": {},
     "output_type": "execute_result"
    }
   ],
   "source": [
    "master_df.describe()"
   ]
  },
  {
   "cell_type": "code",
   "execution_count": 165,
   "metadata": {},
   "outputs": [
    {
     "ename": "NameError",
     "evalue": "name 'minimum' is not defined",
     "output_type": "error",
     "traceback": [
      "\u001b[1;31m---------------------------------------------------------------------------\u001b[0m",
      "\u001b[1;31mNameError\u001b[0m                                 Traceback (most recent call last)",
      "\u001b[1;32m<ipython-input-165-ebece2bb068f>\u001b[0m in \u001b[0;36m<module>\u001b[1;34m\u001b[0m\n\u001b[0;32m      2\u001b[0m \u001b[0mmaximum\u001b[0m\u001b[1;33m=\u001b[0m \u001b[0mmaster_df\u001b[0m\u001b[1;33m.\u001b[0m\u001b[0mreviews\u001b[0m\u001b[1;33m.\u001b[0m\u001b[0mmax\u001b[0m\u001b[1;33m(\u001b[0m\u001b[1;33m)\u001b[0m\u001b[1;33m\u001b[0m\u001b[1;33m\u001b[0m\u001b[0m\n\u001b[0;32m      3\u001b[0m \u001b[1;33m\u001b[0m\u001b[0m\n\u001b[1;32m----> 4\u001b[1;33m \u001b[0mmaster_df\u001b[0m\u001b[1;33m[\u001b[0m\u001b[1;34m'norm_reviews'\u001b[0m\u001b[1;33m]\u001b[0m \u001b[1;33m=\u001b[0m \u001b[0mmaster_df\u001b[0m\u001b[1;33m.\u001b[0m\u001b[0mreviews\u001b[0m\u001b[1;33m.\u001b[0m\u001b[0mapply\u001b[0m\u001b[1;33m(\u001b[0m\u001b[1;32mlambda\u001b[0m \u001b[0mx\u001b[0m\u001b[1;33m:\u001b[0m \u001b[1;33m(\u001b[0m\u001b[0mx\u001b[0m \u001b[1;33m-\u001b[0m \u001b[0mminimum\u001b[0m\u001b[1;33m)\u001b[0m \u001b[1;33m/\u001b[0m \u001b[1;33m(\u001b[0m\u001b[0mmaximum\u001b[0m \u001b[1;33m-\u001b[0m \u001b[0mminimum\u001b[0m\u001b[1;33m)\u001b[0m\u001b[1;33m)\u001b[0m\u001b[1;33m\u001b[0m\u001b[1;33m\u001b[0m\u001b[0m\n\u001b[0m",
      "\u001b[1;32m~\\anaconda3\\envs\\strive\\lib\\site-packages\\pandas\\core\\series.py\u001b[0m in \u001b[0;36mapply\u001b[1;34m(self, func, convert_dtype, args, **kwds)\u001b[0m\n\u001b[0;32m   4198\u001b[0m             \u001b[1;32melse\u001b[0m\u001b[1;33m:\u001b[0m\u001b[1;33m\u001b[0m\u001b[1;33m\u001b[0m\u001b[0m\n\u001b[0;32m   4199\u001b[0m                 \u001b[0mvalues\u001b[0m \u001b[1;33m=\u001b[0m \u001b[0mself\u001b[0m\u001b[1;33m.\u001b[0m\u001b[0mastype\u001b[0m\u001b[1;33m(\u001b[0m\u001b[0mobject\u001b[0m\u001b[1;33m)\u001b[0m\u001b[1;33m.\u001b[0m\u001b[0m_values\u001b[0m\u001b[1;33m\u001b[0m\u001b[1;33m\u001b[0m\u001b[0m\n\u001b[1;32m-> 4200\u001b[1;33m                 \u001b[0mmapped\u001b[0m \u001b[1;33m=\u001b[0m \u001b[0mlib\u001b[0m\u001b[1;33m.\u001b[0m\u001b[0mmap_infer\u001b[0m\u001b[1;33m(\u001b[0m\u001b[0mvalues\u001b[0m\u001b[1;33m,\u001b[0m \u001b[0mf\u001b[0m\u001b[1;33m,\u001b[0m \u001b[0mconvert\u001b[0m\u001b[1;33m=\u001b[0m\u001b[0mconvert_dtype\u001b[0m\u001b[1;33m)\u001b[0m\u001b[1;33m\u001b[0m\u001b[1;33m\u001b[0m\u001b[0m\n\u001b[0m\u001b[0;32m   4201\u001b[0m \u001b[1;33m\u001b[0m\u001b[0m\n\u001b[0;32m   4202\u001b[0m         \u001b[1;32mif\u001b[0m \u001b[0mlen\u001b[0m\u001b[1;33m(\u001b[0m\u001b[0mmapped\u001b[0m\u001b[1;33m)\u001b[0m \u001b[1;32mand\u001b[0m \u001b[0misinstance\u001b[0m\u001b[1;33m(\u001b[0m\u001b[0mmapped\u001b[0m\u001b[1;33m[\u001b[0m\u001b[1;36m0\u001b[0m\u001b[1;33m]\u001b[0m\u001b[1;33m,\u001b[0m \u001b[0mSeries\u001b[0m\u001b[1;33m)\u001b[0m\u001b[1;33m:\u001b[0m\u001b[1;33m\u001b[0m\u001b[1;33m\u001b[0m\u001b[0m\n",
      "\u001b[1;32mpandas\\_libs\\lib.pyx\u001b[0m in \u001b[0;36mpandas._libs.lib.map_infer\u001b[1;34m()\u001b[0m\n",
      "\u001b[1;32m<ipython-input-165-ebece2bb068f>\u001b[0m in \u001b[0;36m<lambda>\u001b[1;34m(x)\u001b[0m\n\u001b[0;32m      2\u001b[0m \u001b[0mmaximum\u001b[0m\u001b[1;33m=\u001b[0m \u001b[0mmaster_df\u001b[0m\u001b[1;33m.\u001b[0m\u001b[0mreviews\u001b[0m\u001b[1;33m.\u001b[0m\u001b[0mmax\u001b[0m\u001b[1;33m(\u001b[0m\u001b[1;33m)\u001b[0m\u001b[1;33m\u001b[0m\u001b[1;33m\u001b[0m\u001b[0m\n\u001b[0;32m      3\u001b[0m \u001b[1;33m\u001b[0m\u001b[0m\n\u001b[1;32m----> 4\u001b[1;33m \u001b[0mmaster_df\u001b[0m\u001b[1;33m[\u001b[0m\u001b[1;34m'norm_reviews'\u001b[0m\u001b[1;33m]\u001b[0m \u001b[1;33m=\u001b[0m \u001b[0mmaster_df\u001b[0m\u001b[1;33m.\u001b[0m\u001b[0mreviews\u001b[0m\u001b[1;33m.\u001b[0m\u001b[0mapply\u001b[0m\u001b[1;33m(\u001b[0m\u001b[1;32mlambda\u001b[0m \u001b[0mx\u001b[0m\u001b[1;33m:\u001b[0m \u001b[1;33m(\u001b[0m\u001b[0mx\u001b[0m \u001b[1;33m-\u001b[0m \u001b[0mminimum\u001b[0m\u001b[1;33m)\u001b[0m \u001b[1;33m/\u001b[0m \u001b[1;33m(\u001b[0m\u001b[0mmaximum\u001b[0m \u001b[1;33m-\u001b[0m \u001b[0mminimum\u001b[0m\u001b[1;33m)\u001b[0m\u001b[1;33m)\u001b[0m\u001b[1;33m\u001b[0m\u001b[1;33m\u001b[0m\u001b[0m\n\u001b[0m",
      "\u001b[1;31mNameError\u001b[0m: name 'minimum' is not defined"
     ]
    }
   ],
   "source": [
    "mininum = master_df.reviews.min()\n",
    "maximum= master_df.reviews.max()\n",
    "\n",
    "master_df['norm_reviews'] = master_df.reviews.apply(lambda x: (x - minimum) / (maximum - minimum))\n"
   ]
  },
  {
   "cell_type": "code",
   "execution_count": 166,
   "metadata": {},
   "outputs": [
    {
     "data": {
      "application/vnd.plotly.v1+json": {
       "config": {
        "plotlyServerURL": "https://plot.ly"
       },
       "data": [
        {
         "alignmentgroup": "True",
         "bingroup": "x",
         "hovertemplate": "Business_type=restaurant<br>reviews=%{x}<br>count=%{y}<extra></extra>",
         "legendgroup": "restaurant",
         "marker": {
          "color": "#636efa",
          "opacity": 0.5,
          "pattern": {
           "shape": ""
          }
         },
         "name": "restaurant",
         "offsetgroup": "restaurant",
         "orientation": "v",
         "showlegend": true,
         "type": "histogram",
         "x": [
          1279,
          89,
          1120,
          451,
          633,
          208,
          304,
          368,
          392,
          125,
          330,
          618,
          110,
          240,
          852,
          378,
          109,
          6,
          28,
          230,
          178,
          292,
          195,
          16,
          555,
          79,
          64,
          149,
          55,
          12,
          514,
          98,
          62,
          55,
          52,
          23,
          105,
          377,
          325,
          128,
          61,
          133,
          13,
          92,
          152,
          23,
          32,
          15,
          223,
          36,
          32,
          2,
          178,
          45,
          41,
          11,
          108,
          15,
          144,
          4,
          454,
          84,
          42,
          53,
          218,
          140,
          149,
          265,
          72,
          431,
          73,
          5,
          13,
          39,
          44,
          43,
          98,
          253,
          230,
          44,
          2,
          155,
          8,
          132,
          2,
          67,
          44,
          28,
          63,
          27,
          48,
          118,
          169,
          30,
          84,
          24,
          35,
          21,
          9,
          18,
          56,
          279,
          66,
          15,
          26,
          2,
          14,
          53,
          73,
          2,
          27,
          57,
          9,
          20,
          206,
          5,
          10,
          54,
          31,
          125,
          6,
          38,
          91,
          30,
          126,
          16,
          2,
          28,
          10,
          44,
          44,
          11,
          19,
          122,
          56,
          14,
          16,
          54,
          31,
          37,
          1,
          5,
          73,
          33,
          2,
          46,
          194,
          30,
          35,
          25,
          82,
          20,
          57,
          22,
          27,
          44,
          15,
          3,
          44,
          12,
          53,
          2,
          22,
          19,
          87,
          4,
          10,
          72,
          15,
          118,
          10,
          35,
          7,
          18,
          66,
          6,
          5,
          9,
          7,
          23,
          34,
          9,
          50,
          10,
          44,
          84,
          11,
          7,
          25,
          133,
          75,
          3,
          23,
          17,
          30,
          5,
          128,
          9,
          23,
          12,
          34,
          23,
          12,
          12,
          89,
          35,
          16,
          5,
          3,
          193,
          8
         ],
         "xaxis": "x",
         "yaxis": "y"
        },
        {
         "alignmentgroup": "True",
         "bingroup": "x",
         "hovertemplate": "Business_type=hotel<br>reviews=%{x}<br>count=%{y}<extra></extra>",
         "legendgroup": "hotel",
         "marker": {
          "color": "#EF553B",
          "opacity": 0.5,
          "pattern": {
           "shape": ""
          }
         },
         "name": "hotel",
         "offsetgroup": "hotel",
         "orientation": "v",
         "showlegend": true,
         "type": "histogram",
         "x": [
          56,
          76,
          176,
          12,
          42,
          84,
          47,
          7,
          40,
          53,
          25,
          103,
          40,
          22,
          20,
          46,
          38,
          6,
          29,
          13,
          24,
          21,
          41,
          24,
          16,
          31,
          45,
          46,
          32,
          12,
          15,
          20,
          18,
          29,
          5,
          11,
          15,
          6,
          28,
          4,
          9,
          9,
          2,
          48,
          9,
          24,
          17,
          20,
          3,
          10,
          67,
          2,
          10,
          15,
          14,
          25,
          22,
          23,
          3,
          15,
          35,
          13,
          12,
          32,
          11,
          3,
          6,
          30,
          21,
          4,
          12,
          14,
          4,
          15,
          6,
          3,
          11,
          16,
          15,
          9,
          null,
          11,
          2,
          4,
          1,
          14,
          9,
          13,
          8,
          7,
          19,
          3,
          7,
          18,
          17,
          11,
          3,
          15,
          7,
          1,
          3,
          1,
          8,
          7,
          9,
          8,
          1,
          4,
          22,
          25,
          4,
          8,
          null,
          2,
          null,
          7,
          17,
          16,
          7,
          2,
          7,
          3,
          9,
          3,
          7,
          17,
          3,
          9,
          2,
          1,
          4,
          1,
          14,
          15,
          2,
          1,
          3,
          20,
          15,
          1,
          1,
          6,
          8,
          13,
          3,
          25,
          8,
          8,
          8,
          10,
          3,
          12,
          6,
          13,
          35,
          null,
          21,
          30,
          15,
          null,
          1,
          7,
          null,
          10,
          7,
          7,
          4,
          5,
          3,
          2,
          19,
          2,
          7,
          12,
          8,
          27,
          2,
          5,
          17,
          6,
          null,
          16,
          null,
          4,
          13,
          13,
          2,
          26,
          1,
          4,
          null,
          5,
          10,
          null,
          null,
          1,
          2,
          7,
          null,
          7,
          3,
          5,
          null,
          1,
          10,
          2,
          5,
          22,
          3,
          1,
          2,
          29,
          null,
          3,
          7,
          19,
          7,
          17,
          9,
          4,
          22,
          null,
          null,
          11,
          1,
          5,
          3,
          null,
          null,
          11,
          4,
          null,
          1,
          5
         ],
         "xaxis": "x",
         "yaxis": "y"
        },
        {
         "alignmentgroup": "True",
         "bingroup": "x",
         "hovertemplate": "Business_type=pub<br>reviews=%{x}<br>count=%{y}<extra></extra>",
         "legendgroup": "pub",
         "marker": {
          "color": "#00cc96",
          "opacity": 0.5,
          "pattern": {
           "shape": ""
          }
         },
         "name": "pub",
         "offsetgroup": "pub",
         "orientation": "v",
         "showlegend": true,
         "type": "histogram",
         "x": [
          26,
          7,
          78,
          21,
          4,
          15,
          40,
          38,
          108,
          18,
          124,
          41,
          47,
          121,
          40,
          28,
          18,
          8,
          61,
          2,
          2,
          50,
          7,
          4,
          43,
          142,
          13,
          31,
          2,
          6,
          514,
          14,
          51,
          6,
          14,
          32,
          3,
          7,
          5,
          6,
          13,
          10,
          9,
          8,
          36,
          26,
          5,
          4,
          3,
          20,
          20,
          31,
          3,
          3,
          5,
          11,
          13,
          64,
          8,
          22,
          1,
          292,
          19,
          10,
          33,
          8,
          1,
          5,
          21,
          6,
          9,
          3,
          11,
          1,
          15,
          83,
          1,
          8,
          2,
          1,
          1,
          8,
          17,
          40,
          4,
          1,
          1,
          3,
          5,
          178,
          3,
          16,
          2,
          15,
          37,
          43,
          2,
          20,
          1,
          1,
          13,
          2,
          4,
          1,
          1,
          7,
          2,
          2,
          9,
          10,
          7,
          10,
          10,
          5,
          8,
          2,
          2,
          54,
          7,
          5,
          1,
          16,
          12,
          18,
          1,
          1,
          12,
          4,
          11,
          16,
          1,
          18,
          3,
          9,
          1,
          3,
          2,
          6,
          17,
          2,
          5,
          3,
          1,
          16,
          68,
          3,
          7,
          4,
          null,
          20,
          9,
          431,
          1,
          7,
          null,
          8,
          4,
          4,
          null,
          9,
          6,
          2,
          1,
          2,
          1,
          377,
          9,
          4,
          1,
          149,
          3,
          null,
          11,
          8,
          4,
          17,
          1,
          12,
          1,
          5,
          null,
          1,
          1,
          1,
          2,
          9,
          10,
          12,
          2,
          1,
          1,
          null,
          3,
          9,
          8,
          6,
          1,
          null,
          11,
          1,
          null,
          8,
          27,
          1,
          1,
          1,
          1,
          4,
          11,
          2,
          null,
          1,
          8,
          15,
          1,
          3,
          3,
          1,
          29,
          null,
          8,
          1,
          2,
          4,
          11,
          6,
          12,
          6,
          10,
          null,
          1,
          14,
          11
         ],
         "xaxis": "x",
         "yaxis": "y"
        }
       ],
       "layout": {
        "barmode": "relative",
        "legend": {
         "title": {
          "text": "Business_type"
         },
         "tracegroupgap": 0
        },
        "margin": {
         "t": 60
        },
        "template": {
         "data": {
          "bar": [
           {
            "error_x": {
             "color": "#2a3f5f"
            },
            "error_y": {
             "color": "#2a3f5f"
            },
            "marker": {
             "line": {
              "color": "#E5ECF6",
              "width": 0.5
             },
             "pattern": {
              "fillmode": "overlay",
              "size": 10,
              "solidity": 0.2
             }
            },
            "type": "bar"
           }
          ],
          "barpolar": [
           {
            "marker": {
             "line": {
              "color": "#E5ECF6",
              "width": 0.5
             },
             "pattern": {
              "fillmode": "overlay",
              "size": 10,
              "solidity": 0.2
             }
            },
            "type": "barpolar"
           }
          ],
          "carpet": [
           {
            "aaxis": {
             "endlinecolor": "#2a3f5f",
             "gridcolor": "white",
             "linecolor": "white",
             "minorgridcolor": "white",
             "startlinecolor": "#2a3f5f"
            },
            "baxis": {
             "endlinecolor": "#2a3f5f",
             "gridcolor": "white",
             "linecolor": "white",
             "minorgridcolor": "white",
             "startlinecolor": "#2a3f5f"
            },
            "type": "carpet"
           }
          ],
          "choropleth": [
           {
            "colorbar": {
             "outlinewidth": 0,
             "ticks": ""
            },
            "type": "choropleth"
           }
          ],
          "contour": [
           {
            "colorbar": {
             "outlinewidth": 0,
             "ticks": ""
            },
            "colorscale": [
             [
              0,
              "#0d0887"
             ],
             [
              0.1111111111111111,
              "#46039f"
             ],
             [
              0.2222222222222222,
              "#7201a8"
             ],
             [
              0.3333333333333333,
              "#9c179e"
             ],
             [
              0.4444444444444444,
              "#bd3786"
             ],
             [
              0.5555555555555556,
              "#d8576b"
             ],
             [
              0.6666666666666666,
              "#ed7953"
             ],
             [
              0.7777777777777778,
              "#fb9f3a"
             ],
             [
              0.8888888888888888,
              "#fdca26"
             ],
             [
              1,
              "#f0f921"
             ]
            ],
            "type": "contour"
           }
          ],
          "contourcarpet": [
           {
            "colorbar": {
             "outlinewidth": 0,
             "ticks": ""
            },
            "type": "contourcarpet"
           }
          ],
          "heatmap": [
           {
            "colorbar": {
             "outlinewidth": 0,
             "ticks": ""
            },
            "colorscale": [
             [
              0,
              "#0d0887"
             ],
             [
              0.1111111111111111,
              "#46039f"
             ],
             [
              0.2222222222222222,
              "#7201a8"
             ],
             [
              0.3333333333333333,
              "#9c179e"
             ],
             [
              0.4444444444444444,
              "#bd3786"
             ],
             [
              0.5555555555555556,
              "#d8576b"
             ],
             [
              0.6666666666666666,
              "#ed7953"
             ],
             [
              0.7777777777777778,
              "#fb9f3a"
             ],
             [
              0.8888888888888888,
              "#fdca26"
             ],
             [
              1,
              "#f0f921"
             ]
            ],
            "type": "heatmap"
           }
          ],
          "heatmapgl": [
           {
            "colorbar": {
             "outlinewidth": 0,
             "ticks": ""
            },
            "colorscale": [
             [
              0,
              "#0d0887"
             ],
             [
              0.1111111111111111,
              "#46039f"
             ],
             [
              0.2222222222222222,
              "#7201a8"
             ],
             [
              0.3333333333333333,
              "#9c179e"
             ],
             [
              0.4444444444444444,
              "#bd3786"
             ],
             [
              0.5555555555555556,
              "#d8576b"
             ],
             [
              0.6666666666666666,
              "#ed7953"
             ],
             [
              0.7777777777777778,
              "#fb9f3a"
             ],
             [
              0.8888888888888888,
              "#fdca26"
             ],
             [
              1,
              "#f0f921"
             ]
            ],
            "type": "heatmapgl"
           }
          ],
          "histogram": [
           {
            "marker": {
             "pattern": {
              "fillmode": "overlay",
              "size": 10,
              "solidity": 0.2
             }
            },
            "type": "histogram"
           }
          ],
          "histogram2d": [
           {
            "colorbar": {
             "outlinewidth": 0,
             "ticks": ""
            },
            "colorscale": [
             [
              0,
              "#0d0887"
             ],
             [
              0.1111111111111111,
              "#46039f"
             ],
             [
              0.2222222222222222,
              "#7201a8"
             ],
             [
              0.3333333333333333,
              "#9c179e"
             ],
             [
              0.4444444444444444,
              "#bd3786"
             ],
             [
              0.5555555555555556,
              "#d8576b"
             ],
             [
              0.6666666666666666,
              "#ed7953"
             ],
             [
              0.7777777777777778,
              "#fb9f3a"
             ],
             [
              0.8888888888888888,
              "#fdca26"
             ],
             [
              1,
              "#f0f921"
             ]
            ],
            "type": "histogram2d"
           }
          ],
          "histogram2dcontour": [
           {
            "colorbar": {
             "outlinewidth": 0,
             "ticks": ""
            },
            "colorscale": [
             [
              0,
              "#0d0887"
             ],
             [
              0.1111111111111111,
              "#46039f"
             ],
             [
              0.2222222222222222,
              "#7201a8"
             ],
             [
              0.3333333333333333,
              "#9c179e"
             ],
             [
              0.4444444444444444,
              "#bd3786"
             ],
             [
              0.5555555555555556,
              "#d8576b"
             ],
             [
              0.6666666666666666,
              "#ed7953"
             ],
             [
              0.7777777777777778,
              "#fb9f3a"
             ],
             [
              0.8888888888888888,
              "#fdca26"
             ],
             [
              1,
              "#f0f921"
             ]
            ],
            "type": "histogram2dcontour"
           }
          ],
          "mesh3d": [
           {
            "colorbar": {
             "outlinewidth": 0,
             "ticks": ""
            },
            "type": "mesh3d"
           }
          ],
          "parcoords": [
           {
            "line": {
             "colorbar": {
              "outlinewidth": 0,
              "ticks": ""
             }
            },
            "type": "parcoords"
           }
          ],
          "pie": [
           {
            "automargin": true,
            "type": "pie"
           }
          ],
          "scatter": [
           {
            "marker": {
             "colorbar": {
              "outlinewidth": 0,
              "ticks": ""
             }
            },
            "type": "scatter"
           }
          ],
          "scatter3d": [
           {
            "line": {
             "colorbar": {
              "outlinewidth": 0,
              "ticks": ""
             }
            },
            "marker": {
             "colorbar": {
              "outlinewidth": 0,
              "ticks": ""
             }
            },
            "type": "scatter3d"
           }
          ],
          "scattercarpet": [
           {
            "marker": {
             "colorbar": {
              "outlinewidth": 0,
              "ticks": ""
             }
            },
            "type": "scattercarpet"
           }
          ],
          "scattergeo": [
           {
            "marker": {
             "colorbar": {
              "outlinewidth": 0,
              "ticks": ""
             }
            },
            "type": "scattergeo"
           }
          ],
          "scattergl": [
           {
            "marker": {
             "colorbar": {
              "outlinewidth": 0,
              "ticks": ""
             }
            },
            "type": "scattergl"
           }
          ],
          "scattermapbox": [
           {
            "marker": {
             "colorbar": {
              "outlinewidth": 0,
              "ticks": ""
             }
            },
            "type": "scattermapbox"
           }
          ],
          "scatterpolar": [
           {
            "marker": {
             "colorbar": {
              "outlinewidth": 0,
              "ticks": ""
             }
            },
            "type": "scatterpolar"
           }
          ],
          "scatterpolargl": [
           {
            "marker": {
             "colorbar": {
              "outlinewidth": 0,
              "ticks": ""
             }
            },
            "type": "scatterpolargl"
           }
          ],
          "scatterternary": [
           {
            "marker": {
             "colorbar": {
              "outlinewidth": 0,
              "ticks": ""
             }
            },
            "type": "scatterternary"
           }
          ],
          "surface": [
           {
            "colorbar": {
             "outlinewidth": 0,
             "ticks": ""
            },
            "colorscale": [
             [
              0,
              "#0d0887"
             ],
             [
              0.1111111111111111,
              "#46039f"
             ],
             [
              0.2222222222222222,
              "#7201a8"
             ],
             [
              0.3333333333333333,
              "#9c179e"
             ],
             [
              0.4444444444444444,
              "#bd3786"
             ],
             [
              0.5555555555555556,
              "#d8576b"
             ],
             [
              0.6666666666666666,
              "#ed7953"
             ],
             [
              0.7777777777777778,
              "#fb9f3a"
             ],
             [
              0.8888888888888888,
              "#fdca26"
             ],
             [
              1,
              "#f0f921"
             ]
            ],
            "type": "surface"
           }
          ],
          "table": [
           {
            "cells": {
             "fill": {
              "color": "#EBF0F8"
             },
             "line": {
              "color": "white"
             }
            },
            "header": {
             "fill": {
              "color": "#C8D4E3"
             },
             "line": {
              "color": "white"
             }
            },
            "type": "table"
           }
          ]
         },
         "layout": {
          "annotationdefaults": {
           "arrowcolor": "#2a3f5f",
           "arrowhead": 0,
           "arrowwidth": 1
          },
          "autotypenumbers": "strict",
          "coloraxis": {
           "colorbar": {
            "outlinewidth": 0,
            "ticks": ""
           }
          },
          "colorscale": {
           "diverging": [
            [
             0,
             "#8e0152"
            ],
            [
             0.1,
             "#c51b7d"
            ],
            [
             0.2,
             "#de77ae"
            ],
            [
             0.3,
             "#f1b6da"
            ],
            [
             0.4,
             "#fde0ef"
            ],
            [
             0.5,
             "#f7f7f7"
            ],
            [
             0.6,
             "#e6f5d0"
            ],
            [
             0.7,
             "#b8e186"
            ],
            [
             0.8,
             "#7fbc41"
            ],
            [
             0.9,
             "#4d9221"
            ],
            [
             1,
             "#276419"
            ]
           ],
           "sequential": [
            [
             0,
             "#0d0887"
            ],
            [
             0.1111111111111111,
             "#46039f"
            ],
            [
             0.2222222222222222,
             "#7201a8"
            ],
            [
             0.3333333333333333,
             "#9c179e"
            ],
            [
             0.4444444444444444,
             "#bd3786"
            ],
            [
             0.5555555555555556,
             "#d8576b"
            ],
            [
             0.6666666666666666,
             "#ed7953"
            ],
            [
             0.7777777777777778,
             "#fb9f3a"
            ],
            [
             0.8888888888888888,
             "#fdca26"
            ],
            [
             1,
             "#f0f921"
            ]
           ],
           "sequentialminus": [
            [
             0,
             "#0d0887"
            ],
            [
             0.1111111111111111,
             "#46039f"
            ],
            [
             0.2222222222222222,
             "#7201a8"
            ],
            [
             0.3333333333333333,
             "#9c179e"
            ],
            [
             0.4444444444444444,
             "#bd3786"
            ],
            [
             0.5555555555555556,
             "#d8576b"
            ],
            [
             0.6666666666666666,
             "#ed7953"
            ],
            [
             0.7777777777777778,
             "#fb9f3a"
            ],
            [
             0.8888888888888888,
             "#fdca26"
            ],
            [
             1,
             "#f0f921"
            ]
           ]
          },
          "colorway": [
           "#636efa",
           "#EF553B",
           "#00cc96",
           "#ab63fa",
           "#FFA15A",
           "#19d3f3",
           "#FF6692",
           "#B6E880",
           "#FF97FF",
           "#FECB52"
          ],
          "font": {
           "color": "#2a3f5f"
          },
          "geo": {
           "bgcolor": "white",
           "lakecolor": "white",
           "landcolor": "#E5ECF6",
           "showlakes": true,
           "showland": true,
           "subunitcolor": "white"
          },
          "hoverlabel": {
           "align": "left"
          },
          "hovermode": "closest",
          "mapbox": {
           "style": "light"
          },
          "paper_bgcolor": "white",
          "plot_bgcolor": "#E5ECF6",
          "polar": {
           "angularaxis": {
            "gridcolor": "white",
            "linecolor": "white",
            "ticks": ""
           },
           "bgcolor": "#E5ECF6",
           "radialaxis": {
            "gridcolor": "white",
            "linecolor": "white",
            "ticks": ""
           }
          },
          "scene": {
           "xaxis": {
            "backgroundcolor": "#E5ECF6",
            "gridcolor": "white",
            "gridwidth": 2,
            "linecolor": "white",
            "showbackground": true,
            "ticks": "",
            "zerolinecolor": "white"
           },
           "yaxis": {
            "backgroundcolor": "#E5ECF6",
            "gridcolor": "white",
            "gridwidth": 2,
            "linecolor": "white",
            "showbackground": true,
            "ticks": "",
            "zerolinecolor": "white"
           },
           "zaxis": {
            "backgroundcolor": "#E5ECF6",
            "gridcolor": "white",
            "gridwidth": 2,
            "linecolor": "white",
            "showbackground": true,
            "ticks": "",
            "zerolinecolor": "white"
           }
          },
          "shapedefaults": {
           "line": {
            "color": "#2a3f5f"
           }
          },
          "ternary": {
           "aaxis": {
            "gridcolor": "white",
            "linecolor": "white",
            "ticks": ""
           },
           "baxis": {
            "gridcolor": "white",
            "linecolor": "white",
            "ticks": ""
           },
           "bgcolor": "#E5ECF6",
           "caxis": {
            "gridcolor": "white",
            "linecolor": "white",
            "ticks": ""
           }
          },
          "title": {
           "x": 0.05
          },
          "xaxis": {
           "automargin": true,
           "gridcolor": "white",
           "linecolor": "white",
           "ticks": "",
           "title": {
            "standoff": 15
           },
           "zerolinecolor": "white",
           "zerolinewidth": 2
          },
          "yaxis": {
           "automargin": true,
           "gridcolor": "white",
           "linecolor": "white",
           "ticks": "",
           "title": {
            "standoff": 15
           },
           "zerolinecolor": "white",
           "zerolinewidth": 2
          }
         }
        },
        "xaxis": {
         "anchor": "y",
         "domain": [
          0,
          1
         ],
         "title": {
          "text": "reviews"
         }
        },
        "yaxis": {
         "anchor": "x",
         "domain": [
          0,
          1
         ],
         "title": {
          "text": "count"
         }
        }
       }
      }
     },
     "metadata": {},
     "output_type": "display_data"
    }
   ],
   "source": [
    "px.histogram(data_frame=master_df, x = 'reviews', color = 'Business_type', opacity= 0.5)"
   ]
  },
  {
   "cell_type": "code",
   "execution_count": 168,
   "metadata": {},
   "outputs": [
    {
     "data": {
      "text/plain": [
       "<AxesSubplot:xlabel='reviews', ylabel='Density'>"
      ]
     },
     "execution_count": 168,
     "metadata": {},
     "output_type": "execute_result"
    },
    {
     "data": {
      "image/png": "[encoded data removed]",
      "text/plain": [
       "<Figure size 432x288 with 1 Axes>"
      ]
     },
     "metadata": {
      "needs_background": "light"
     },
     "output_type": "display_data"
    }
   ],
   "source": [
    "\n",
    "sns.kdeplot(x = master_df.reviews, hue = master_df.Business_type)"
   ]
  },
  {
   "cell_type": "code",
   "execution_count": 3,
   "metadata": {},
   "outputs": [],
   "source": [
    "master_df = pd.read_csv(\"master_df.csv\")"
   ]
  },
  {
   "cell_type": "code",
   "execution_count": 4,
   "metadata": {},
   "outputs": [
    {
     "data": {
      "text/html": [
       "<div>\n",
       "<style scoped>\n",
       "    .dataframe tbody tr th:only-of-type {\n",
       "        vertical-align: middle;\n",
       "    }\n",
       "\n",
       "    .dataframe tbody tr th {\n",
       "        vertical-align: top;\n",
       "    }\n",
       "\n",
       "    .dataframe thead th {\n",
       "        text-align: right;\n",
       "    }\n",
       "</style>\n",
       "<table border=\"1\" class=\"dataframe\">\n",
       "  <thead>\n",
       "    <tr style=\"text-align: right;\">\n",
       "      <th></th>\n",
       "      <th>rating</th>\n",
       "      <th>reviews</th>\n",
       "      <th>nb_photos</th>\n",
       "      <th>Latitude</th>\n",
       "      <th>Longitude</th>\n",
       "    </tr>\n",
       "  </thead>\n",
       "  <tbody>\n",
       "    <tr>\n",
       "      <th>count</th>\n",
       "      <td>648.000000</td>\n",
       "      <td>648.000000</td>\n",
       "      <td>543.000000</td>\n",
       "      <td>627.000000</td>\n",
       "      <td>627.000000</td>\n",
       "    </tr>\n",
       "    <tr>\n",
       "      <th>mean</th>\n",
       "      <td>4.145833</td>\n",
       "      <td>44.516975</td>\n",
       "      <td>122.340700</td>\n",
       "      <td>41.388391</td>\n",
       "      <td>2.167492</td>\n",
       "    </tr>\n",
       "    <tr>\n",
       "      <th>std</th>\n",
       "      <td>0.655459</td>\n",
       "      <td>108.460477</td>\n",
       "      <td>316.152668</td>\n",
       "      <td>0.011089</td>\n",
       "      <td>0.017588</td>\n",
       "    </tr>\n",
       "    <tr>\n",
       "      <th>min</th>\n",
       "      <td>1.000000</td>\n",
       "      <td>1.000000</td>\n",
       "      <td>4.000000</td>\n",
       "      <td>41.325142</td>\n",
       "      <td>2.066519</td>\n",
       "    </tr>\n",
       "    <tr>\n",
       "      <th>25%</th>\n",
       "      <td>4.000000</td>\n",
       "      <td>5.000000</td>\n",
       "      <td>14.000000</td>\n",
       "      <td>41.381541</td>\n",
       "      <td>2.159604</td>\n",
       "    </tr>\n",
       "    <tr>\n",
       "      <th>50%</th>\n",
       "      <td>4.250000</td>\n",
       "      <td>12.000000</td>\n",
       "      <td>36.000000</td>\n",
       "      <td>41.387086</td>\n",
       "      <td>2.168530</td>\n",
       "    </tr>\n",
       "    <tr>\n",
       "      <th>75%</th>\n",
       "      <td>4.500000</td>\n",
       "      <td>34.250000</td>\n",
       "      <td>101.000000</td>\n",
       "      <td>41.393687</td>\n",
       "      <td>2.176267</td>\n",
       "    </tr>\n",
       "    <tr>\n",
       "      <th>max</th>\n",
       "      <td>5.000000</td>\n",
       "      <td>1279.000000</td>\n",
       "      <td>3852.000000</td>\n",
       "      <td>41.478609</td>\n",
       "      <td>2.320301</td>\n",
       "    </tr>\n",
       "  </tbody>\n",
       "</table>\n",
       "</div>"
      ],
      "text/plain": [
       "           rating      reviews    nb_photos    Latitude   Longitude\n",
       "count  648.000000   648.000000   543.000000  627.000000  627.000000\n",
       "mean     4.145833    44.516975   122.340700   41.388391    2.167492\n",
       "std      0.655459   108.460477   316.152668    0.011089    0.017588\n",
       "min      1.000000     1.000000     4.000000   41.325142    2.066519\n",
       "25%      4.000000     5.000000    14.000000   41.381541    2.159604\n",
       "50%      4.250000    12.000000    36.000000   41.387086    2.168530\n",
       "75%      4.500000    34.250000   101.000000   41.393687    2.176267\n",
       "max      5.000000  1279.000000  3852.000000   41.478609    2.320301"
      ]
     },
     "execution_count": 4,
     "metadata": {},
     "output_type": "execute_result"
    }
   ],
   "source": [
    "master_df.describe()"
   ]
  },
  {
   "cell_type": "code",
   "execution_count": 5,
   "metadata": {},
   "outputs": [
    {
     "name": "stderr",
     "output_type": "stream",
     "text": [
      "C:\\Users\\Lenovo\\AppData\\Local\\Temp/ipykernel_21256/1847543214.py:1: FutureWarning: Indexing with multiple keys (implicitly converted to a tuple of keys) will be deprecated, use a list instead.\n",
      "  master_df.groupby('Business_type')[\"reviews\", 'rating'].agg([\"median\",'mean', 'min', 'max', 'count']).applymap(lambda x: np.round(x, 2))\n"
     ]
    },
    {
     "data": {
      "text/html": [
       "<div>\n",
       "<style scoped>\n",
       "    .dataframe tbody tr th:only-of-type {\n",
       "        vertical-align: middle;\n",
       "    }\n",
       "\n",
       "    .dataframe tbody tr th {\n",
       "        vertical-align: top;\n",
       "    }\n",
       "\n",
       "    .dataframe thead tr th {\n",
       "        text-align: left;\n",
       "    }\n",
       "\n",
       "    .dataframe thead tr:last-of-type th {\n",
       "        text-align: right;\n",
       "    }\n",
       "</style>\n",
       "<table border=\"1\" class=\"dataframe\">\n",
       "  <thead>\n",
       "    <tr>\n",
       "      <th></th>\n",
       "      <th colspan=\"5\" halign=\"left\">reviews</th>\n",
       "      <th colspan=\"5\" halign=\"left\">rating</th>\n",
       "    </tr>\n",
       "    <tr>\n",
       "      <th></th>\n",
       "      <th>median</th>\n",
       "      <th>mean</th>\n",
       "      <th>min</th>\n",
       "      <th>max</th>\n",
       "      <th>count</th>\n",
       "      <th>median</th>\n",
       "      <th>mean</th>\n",
       "      <th>min</th>\n",
       "      <th>max</th>\n",
       "      <th>count</th>\n",
       "    </tr>\n",
       "    <tr>\n",
       "      <th>Business_type</th>\n",
       "      <th></th>\n",
       "      <th></th>\n",
       "      <th></th>\n",
       "      <th></th>\n",
       "      <th></th>\n",
       "      <th></th>\n",
       "      <th></th>\n",
       "      <th></th>\n",
       "      <th></th>\n",
       "      <th></th>\n",
       "    </tr>\n",
       "  </thead>\n",
       "  <tbody>\n",
       "    <tr>\n",
       "      <th>hotel</th>\n",
       "      <td>9.0</td>\n",
       "      <td>14.67</td>\n",
       "      <td>1.0</td>\n",
       "      <td>176.0</td>\n",
       "      <td>215</td>\n",
       "      <td>4.0</td>\n",
       "      <td>3.91</td>\n",
       "      <td>1.0</td>\n",
       "      <td>5.0</td>\n",
       "      <td>215</td>\n",
       "    </tr>\n",
       "    <tr>\n",
       "      <th>pub</th>\n",
       "      <td>7.0</td>\n",
       "      <td>21.85</td>\n",
       "      <td>1.0</td>\n",
       "      <td>514.0</td>\n",
       "      <td>222</td>\n",
       "      <td>4.0</td>\n",
       "      <td>4.08</td>\n",
       "      <td>2.0</td>\n",
       "      <td>5.0</td>\n",
       "      <td>222</td>\n",
       "    </tr>\n",
       "    <tr>\n",
       "      <th>restaurant</th>\n",
       "      <td>42.0</td>\n",
       "      <td>98.78</td>\n",
       "      <td>1.0</td>\n",
       "      <td>1279.0</td>\n",
       "      <td>211</td>\n",
       "      <td>4.5</td>\n",
       "      <td>4.46</td>\n",
       "      <td>4.0</td>\n",
       "      <td>5.0</td>\n",
       "      <td>211</td>\n",
       "    </tr>\n",
       "  </tbody>\n",
       "</table>\n",
       "</div>"
      ],
      "text/plain": [
       "              reviews                           rating                      \n",
       "               median   mean  min     max count median  mean  min  max count\n",
       "Business_type                                                               \n",
       "hotel             9.0  14.67  1.0   176.0   215    4.0  3.91  1.0  5.0   215\n",
       "pub               7.0  21.85  1.0   514.0   222    4.0  4.08  2.0  5.0   222\n",
       "restaurant       42.0  98.78  1.0  1279.0   211    4.5  4.46  4.0  5.0   211"
      ]
     },
     "execution_count": 5,
     "metadata": {},
     "output_type": "execute_result"
    }
   ],
   "source": [
    "master_df.groupby('Business_type')[\"reviews\", 'rating'].agg([\"median\",'mean', 'min', 'max', 'count']).applymap(lambda x: np.round(x, 2))"
   ]
  },
  {
   "cell_type": "code",
   "execution_count": null,
   "metadata": {},
   "outputs": [],
   "source": [
    "# 1. How does the number of reviews compare between Restaurant, Hotel and Pub (median)\n"
   ]
  },
  {
   "cell_type": "code",
   "execution_count": null,
   "metadata": {},
   "outputs": [],
   "source": [
    "# 2. What about the rating"
   ]
  },
  {
   "cell_type": "code",
   "execution_count": null,
   "metadata": {},
   "outputs": [],
   "source": [
    "# 3. What is the average rating given by each reviewer"
   ]
  },
  {
   "cell_type": "code",
   "execution_count": 6,
   "metadata": {},
   "outputs": [
    {
     "data": {
      "text/plain": [
       "Business_type  price_range\n",
       "hotel          [12 - 33]      89\n",
       "               [34 - 66]      59\n",
       "               over 67        13\n",
       "               under 11       13\n",
       "pub            [12 - 33]      91\n",
       "               under 11       62\n",
       "               [34 - 66]      12\n",
       "restaurant     [12 - 33]      97\n",
       "               under 11       44\n",
       "               [34 - 66]      27\n",
       "               over 67         8\n",
       "Name: price_range, dtype: int64"
      ]
     },
     "execution_count": 6,
     "metadata": {},
     "output_type": "execute_result"
    }
   ],
   "source": [
    "# 4. most requent of price ranges for each business (in percentage)\n",
    "master_df.groupby('Business_type')['price_range'].value_counts()\n"
   ]
  },
  {
   "cell_type": "code",
   "execution_count": 16,
   "metadata": {},
   "outputs": [
    {
     "data": {
      "text/plain": [
       "<AxesSubplot:ylabel='Business_type,price_range'>"
      ]
     },
     "execution_count": 16,
     "metadata": {},
     "output_type": "execute_result"
    },
    {
     "data": {
      "image/png": "[encoded data removed]",
      "text/plain": [
       "<Figure size 432x288 with 1 Axes>"
      ]
     },
     "metadata": {
      "needs_background": "light"
     },
     "output_type": "display_data"
    }
   ],
   "source": [
    "master_df.groupby('Business_type')['price_range'].value_counts().plot(kind='barh')\n"
   ]
  },
  {
   "cell_type": "code",
   "execution_count": 198,
   "metadata": {},
   "outputs": [
    {
     "data": {
      "text/plain": [
       "Business_type\n",
       "hotel         174\n",
       "pub           165\n",
       "restaurant    176\n",
       "Name: price_range, dtype: int64"
      ]
     },
     "execution_count": 198,
     "metadata": {},
     "output_type": "execute_result"
    }
   ],
   "source": [
    "master_df.groupby('Business_type')['price_range'].value_counts().groupby('Business_type').sum()"
   ]
  }
 ],
 "metadata": {
  "interpreter": {
   "hash": "db4d94f7962dcc818ea238f62a69636fa41bd28f5daf8a9f9234f6ae986cf5d4"
  },
  "kernelspec": {
   "display_name": "Python 3.8.12 ('strive')",
   "language": "python",
   "name": "python3"
  },
  "language_info": {
   "codemirror_mode": {
    "name": "ipython",
    "version": 3
   },
   "file_extension": ".py",
   "mimetype": "text/x-python",
   "name": "python",
   "nbconvert_exporter": "python",
   "pygments_lexer": "ipython3",
   "version": "3.9.7"
  },
  "orig_nbformat": 4
 },
 "nbformat": 4,
 "nbformat_minor": 2
}
